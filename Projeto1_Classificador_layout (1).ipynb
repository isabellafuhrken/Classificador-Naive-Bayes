{
 "cells": [
  {
   "cell_type": "markdown",
   "metadata": {},
   "source": [
    "# Projeto 1 - Ciência dos Dados"
   ]
  },
  {
   "cell_type": "markdown",
   "metadata": {},
   "source": [
    "Nome: Isabella Fuhrken\n",
    "\n",
    "Nome: Isabella Oliveira"
   ]
  },
  {
   "cell_type": "markdown",
   "metadata": {},
   "source": [
    "**Atenção:** Serão permitidos grupos de três pessoas, mas com uma rubrica mais exigente. Grupos deste tamanho precisarão fazer um questionário de avaliação de trabalho em equipe"
   ]
  },
  {
   "cell_type": "markdown",
   "metadata": {},
   "source": [
    "___\n",
    "Carregando algumas bibliotecas:"
   ]
  },
  {
   "cell_type": "code",
   "execution_count": 2,
   "metadata": {},
   "outputs": [],
   "source": [
    "%matplotlib inline\n",
    "import pandas as pd\n",
    "import matplotlib.pyplot as plt\n",
    "import numpy as np\n",
    "import os"
   ]
  },
  {
   "cell_type": "markdown",
   "metadata": {},
   "source": [
    "**Em `filename`, coloque o nome do seu arquivo de dados!**"
   ]
  },
  {
   "cell_type": "code",
   "execution_count": 3,
   "metadata": {
    "scrolled": false
   },
   "outputs": [
    {
     "name": "stdout",
     "output_type": "stream",
     "text": [
      "Encontrei o arquivo macbook.xlsx, tudo certo para prosseguir com a prova!\n"
     ]
    }
   ],
   "source": [
    "import os\n",
    "\n",
    "filename = 'macbook.xlsx'\n",
    "if filename in os.listdir():\n",
    "    print(f'Encontrei o arquivo {filename}, tudo certo para prosseguir com a prova!')\n",
    "else:\n",
    "    print(f'Não encontrei o arquivo {filename} aqui no diretório {os.getcwd()}, será que você não baixou o arquivo?')"
   ]
  },
  {
   "cell_type": "markdown",
   "metadata": {},
   "source": [
    "Carregando a base de dados com os tweets classificados como relevantes e não relevantes:"
   ]
  },
  {
   "cell_type": "code",
   "execution_count": 4,
   "metadata": {},
   "outputs": [
    {
     "data": {
      "text/html": [
       "<div>\n",
       "<style scoped>\n",
       "    .dataframe tbody tr th:only-of-type {\n",
       "        vertical-align: middle;\n",
       "    }\n",
       "\n",
       "    .dataframe tbody tr th {\n",
       "        vertical-align: top;\n",
       "    }\n",
       "\n",
       "    .dataframe thead th {\n",
       "        text-align: right;\n",
       "    }\n",
       "</style>\n",
       "<table border=\"1\" class=\"dataframe\">\n",
       "  <thead>\n",
       "    <tr style=\"text-align: right;\">\n",
       "      <th></th>\n",
       "      <th>Treinamento</th>\n",
       "      <th>Relevância (0 - irrelevante ; 1- relevante)</th>\n",
       "    </tr>\n",
       "  </thead>\n",
       "  <tbody>\n",
       "    <tr>\n",
       "      <td>0</td>\n",
       "      <td>@giovannatorrres vai trouxa, compra macbook es...</td>\n",
       "      <td>0</td>\n",
       "    </tr>\n",
       "    <tr>\n",
       "      <td>1</td>\n",
       "      <td>rt @go_nikaido: pensando aqui o macbook do cha...</td>\n",
       "      <td>0</td>\n",
       "    </tr>\n",
       "    <tr>\n",
       "      <td>2</td>\n",
       "      <td>@marinenorstrahl @ogascao @lucasjtho ou econom...</td>\n",
       "      <td>1</td>\n",
       "    </tr>\n",
       "    <tr>\n",
       "      <td>3</td>\n",
       "      <td>vendendo um macbook pro bem bichado, porém fun...</td>\n",
       "      <td>1</td>\n",
       "    </tr>\n",
       "    <tr>\n",
       "      <td>4</td>\n",
       "      <td>a maior decepção com meu macbook novo é que el...</td>\n",
       "      <td>0</td>\n",
       "    </tr>\n",
       "  </tbody>\n",
       "</table>\n",
       "</div>"
      ],
      "text/plain": [
       "                                         Treinamento  \\\n",
       "0  @giovannatorrres vai trouxa, compra macbook es...   \n",
       "1  rt @go_nikaido: pensando aqui o macbook do cha...   \n",
       "2  @marinenorstrahl @ogascao @lucasjtho ou econom...   \n",
       "3  vendendo um macbook pro bem bichado, porém fun...   \n",
       "4  a maior decepção com meu macbook novo é que el...   \n",
       "\n",
       "   Relevância (0 - irrelevante ; 1- relevante)   \n",
       "0                                             0  \n",
       "1                                             0  \n",
       "2                                             1  \n",
       "3                                             1  \n",
       "4                                             0  "
      ]
     },
     "execution_count": 4,
     "metadata": {},
     "output_type": "execute_result"
    }
   ],
   "source": [
    "train = pd.read_excel(filename)\n",
    "train.head(5)"
   ]
  },
  {
   "cell_type": "code",
   "execution_count": 5,
   "metadata": {},
   "outputs": [
    {
     "data": {
      "text/html": [
       "<div>\n",
       "<style scoped>\n",
       "    .dataframe tbody tr th:only-of-type {\n",
       "        vertical-align: middle;\n",
       "    }\n",
       "\n",
       "    .dataframe tbody tr th {\n",
       "        vertical-align: top;\n",
       "    }\n",
       "\n",
       "    .dataframe thead th {\n",
       "        text-align: right;\n",
       "    }\n",
       "</style>\n",
       "<table border=\"1\" class=\"dataframe\">\n",
       "  <thead>\n",
       "    <tr style=\"text-align: right;\">\n",
       "      <th></th>\n",
       "      <th>Teste</th>\n",
       "      <th>Relevância (0 - irrelevante ; 1- relevante)</th>\n",
       "    </tr>\n",
       "  </thead>\n",
       "  <tbody>\n",
       "    <tr>\n",
       "      <td>0</td>\n",
       "      <td>@eduardo_ocastro comprei um macbook 2012 a 6 a...</td>\n",
       "      <td>1</td>\n",
       "    </tr>\n",
       "    <tr>\n",
       "      <td>1</td>\n",
       "      <td>serei cara de pau e vou pedir pros meus tios e...</td>\n",
       "      <td>1</td>\n",
       "    </tr>\n",
       "    <tr>\n",
       "      <td>2</td>\n",
       "      <td>pensando aqui o macbook do chan parece uma bom...</td>\n",
       "      <td>1</td>\n",
       "    </tr>\n",
       "    <tr>\n",
       "      <td>3</td>\n",
       "      <td>@djnicolepeixoto pega um macbook pro 2012, bot...</td>\n",
       "      <td>1</td>\n",
       "    </tr>\n",
       "    <tr>\n",
       "      <td>4</td>\n",
       "      <td>iphone 12, novo applewatch, ipad e macbook 🤩🤩🤩...</td>\n",
       "      <td>1</td>\n",
       "    </tr>\n",
       "  </tbody>\n",
       "</table>\n",
       "</div>"
      ],
      "text/plain": [
       "                                               Teste  \\\n",
       "0  @eduardo_ocastro comprei um macbook 2012 a 6 a...   \n",
       "1  serei cara de pau e vou pedir pros meus tios e...   \n",
       "2  pensando aqui o macbook do chan parece uma bom...   \n",
       "3  @djnicolepeixoto pega um macbook pro 2012, bot...   \n",
       "4  iphone 12, novo applewatch, ipad e macbook 🤩🤩🤩...   \n",
       "\n",
       "   Relevância (0 - irrelevante ; 1- relevante)   \n",
       "0                                             1  \n",
       "1                                             1  \n",
       "2                                             1  \n",
       "3                                             1  \n",
       "4                                             1  "
      ]
     },
     "execution_count": 5,
     "metadata": {},
     "output_type": "execute_result"
    }
   ],
   "source": [
    "test = pd.read_excel(filename, sheet_name = 'Teste')\n",
    "test.head(5)"
   ]
  },
  {
   "cell_type": "markdown",
   "metadata": {},
   "source": [
    "___\n",
    "## Classificador automático de sentimento\n"
   ]
  },
  {
   "cell_type": "markdown",
   "metadata": {},
   "source": [
    "Faça aqui uma descrição do seu produto e o que considerou como relevante ou não relevante na classificação dos tweets.\n",
    "\n",
    "O MacBook é um notebook da empresa Apple e ao levantarmos tweets sobre ele, definimos como relevante críticas e considerações acerca do desempenho do produto, além do desejo de obtenção de tal pelos usuários do Twitter. Já foram considerados como irrelaventes, sorteios, memes e venda de produtos."
   ]
  },
  {
   "cell_type": "markdown",
   "metadata": {},
   "source": [
    "___\n",
    "### Montando um Classificador Naive-Bayes\n",
    "\n",
    "Considerando apenas as mensagens da planilha Treinamento, ensine  seu classificador."
   ]
  },
  {
   "cell_type": "code",
   "execution_count": 36,
   "metadata": {},
   "outputs": [
    {
     "name": "stdout",
     "output_type": "stream",
     "text": [
      "Frequência Absoluta macbook        100\n",
      "um              92\n",
      "que             55\n",
      "e               55\n",
      "o               49\n",
      "              ... \n",
      "tendência.       1\n",
      "@nubank          1\n",
      "rwindows,        1\n",
      "processados      1\n",
      "já...            1\n",
      "Length: 930, dtype: int64\n",
      "Frequência Relativa macbook        0.044170\n",
      "um             0.040636\n",
      "que            0.024293\n",
      "e              0.024293\n",
      "o              0.021643\n",
      "                 ...   \n",
      "tendência.     0.000442\n",
      "@nubank        0.000442\n",
      "rwindows,      0.000442\n",
      "processados    0.000442\n",
      "já...          0.000442\n",
      "Length: 930, dtype: float64\n"
     ]
    }
   ],
   "source": [
    "import re\n",
    "\n",
    "relevante = train.loc[train['Relevância (0 - irrelevante ; 1- relevante) '] == 1]\n",
    "textao_relevante = ' '.join(relevante.Treinamento)\n",
    "\n",
    "def cleanup(text):\n",
    "    punctuation = '[!-.:?;]'\n",
    "    pattern = re.compile(punctuation)\n",
    "    text_subbed = re.sub(pattern, '', text)\n",
    "    return text_subbed\n",
    "\n",
    "cleanup(textao_relevante)\n",
    "lista_r = textao_relevante.split()\n",
    "\n",
    "df_relevante = pd.Series(lista_r)\n",
    "df_relevante\n",
    "\n",
    "abs_relevante = df_relevante.value_counts()\n",
    "rel_relevante = df_relevante.value_counts(True)\n",
    "\n",
    "print(\"Frequência Absoluta\", abs_relevante) \n",
    "print(\"Frequência Relativa\", rel_relevante) "
   ]
  },
  {
   "cell_type": "code",
   "execution_count": 41,
   "metadata": {},
   "outputs": [
    {
     "name": "stdout",
     "output_type": "stream",
     "text": [
      "Frequência Absoluta macbook                           132\n",
      "um                                106\n",
      "de                                100\n",
      "o                                  99\n",
      "e                                  81\n",
      "                                 ... \n",
      "deus???????????????                 1\n",
      "ri                                  1\n",
      "desculpem                           1\n",
      "alô                                 1\n",
      "#asap\\nhttps://t.co/9aaxejq99d      1\n",
      "Length: 1499, dtype: int64\n",
      "Frequência Relativa macbook                           0.036424\n",
      "um                                0.029249\n",
      "de                                0.027594\n",
      "o                                 0.027318\n",
      "e                                 0.022351\n",
      "                                    ...   \n",
      "deus???????????????               0.000276\n",
      "ri                                0.000276\n",
      "desculpem                         0.000276\n",
      "alô                               0.000276\n",
      "#asap\\nhttps://t.co/9aaxejq99d    0.000276\n",
      "Length: 1499, dtype: float64\n"
     ]
    }
   ],
   "source": [
    "import re\n",
    "\n",
    "irrelevante = train.loc[train['Relevância (0 - irrelevante ; 1- relevante) '] == 0]\n",
    "textao_irrelevante = ' '.join(irrelevante.Treinamento)\n",
    "\n",
    "def cleanup(text):\n",
    "    punctuation = '[!-.:?;]'\n",
    "    pattern = re.compile(punctuation)\n",
    "    text_subbed = re.sub(pattern, '', text)\n",
    "    return text_subbed\n",
    "\n",
    "cleanup(textao_irrelevante)\n",
    "lista_i = textao_irrelevante.split(' ')\n",
    "\n",
    "df_irrelevante = pd.Series(lista_i)\n",
    "df_irrelevante\n",
    "\n",
    "abs_irrelevante = df_irrelevante.value_counts()\n",
    "rel_irrelevante = df_irrelevante.value_counts(True)\n",
    "\n",
    "print(\"Frequência Absoluta\", abs_irrelevante) \n",
    "print(\"Frequência Relativa\", rel_irrelevante) \n"
   ]
  },
  {
   "cell_type": "code",
   "execution_count": null,
   "metadata": {},
   "outputs": [],
   "source": []
  },
  {
   "cell_type": "markdown",
   "metadata": {},
   "source": [
    "___\n",
    "### Verificando a performance do Classificador\n",
    "\n",
    "Agora você deve testar o seu classificador com a base de Testes."
   ]
  },
  {
   "cell_type": "markdown",
   "metadata": {},
   "source": [
    "P_R_dado_tweet = ((P_tweet_dado_R * P_R)/P_tweet)\n",
    "P_I_dado_tweet = ((P_tweet_dado_I * P_I)/P_tweet)"
   ]
  },
  {
   "cell_type": "code",
   "execution_count": 85,
   "metadata": {},
   "outputs": [
    {
     "name": "stdout",
     "output_type": "stream",
     "text": [
      "Frequência Absoluta Total macbook        231\n",
      "um             198\n",
      "de             147\n",
      "o              147\n",
      "e              136\n",
      "              ... \n",
      "@maxqmerda:      1\n",
      "dê               1\n",
      "bagulho          1\n",
      "\\nvocê:          1\n",
      "falhei           1\n",
      "Length: 2107, dtype: int64\n",
      "Frequência Relativa Total macbook        0.039346\n",
      "um             0.033725\n",
      "de             0.025038\n",
      "o              0.025038\n",
      "e              0.023165\n",
      "                 ...   \n",
      "@maxqmerda:    0.000170\n",
      "dê             0.000170\n",
      "bagulho        0.000170\n",
      "\\nvocê:        0.000170\n",
      "falhei         0.000170\n",
      "Length: 2107, dtype: float64\n",
      "['@giovannatorrres', 'vai', 'trouxa,', 'compra', 'macbook', 'estando', 'acostumada', 'com', 'windows', 'desde', 'sempre', 'rt', '@go_nikaido:', 'pensando', 'aqui', 'o', 'macbook', 'do', 'chan', 'parece', 'uma', 'bomba', 'https://t.co/hefmtybspc', '@marinenorstrahl', '@ogascao', '@lucasjtho', 'ou', 'economiza', 'no', 'ifood', 'e', 'compra', 'um', 'macbook', 'pro.', 'vale', 'cada', 'centavo.', 'vendendo', 'um', 'macbook', 'pro', 'bem', 'bichado,', 'porém', 'funcionando.', 'alguém', 'sabe', 'onde', 'posso', 'levar', 'pra', 'reaproveitarem', 'as', 'peças?', 'será', 'que', 'pego', 'ao', 'menos', '1k', 'nele?', 'a', 'maior', 'decepção', 'com', 'meu', 'macbook', 'novo', 'é', 'que', 'ele', 'simplesmente', 'não', 'tem', 'cheiro.', 'nenhum.', 'nada', 'daquele', 'cheirinho', 'de', 'novo.', 'tou', 'achando', 'q', 'é', 'por', 'causa', 'daquelas', 'leis', 'novas', 'da', 'ce', 'q', 'proíbem', 'cheiros', 'tóxicos', 'nos', 'produtos', 'eu', 'responderia:', 'saúde,', 'um', 'mundo', 'mais', 'justo,', 'a', 'vacina', 'da', 'covid', 'para', 'todos,', 'voltar', 'a', 'trabalhar,', 'e', 'um', 'macbook', 'novo.', 'me', 'atende,', 'papai', 'noel.', 'amiga', 'tu', 'ja', 'ouviu', 'falar', 'em', 'formatar', 'computador????\\nnao', 'precisava', 'jogar', 'um', 'macbook', 'bom', 'no', 'rio', '\\nera', 'só', 'formatar', 'meu', 'sonho', 'trabalhar', 'numa', 'mesa', 'branca', 'com', 'o', 'meu', 'macbook,', 'um', 'copo', 'de', 'café', 'do', 'lado', 'e', 'fazendo', 'anotação', 'num', 'livro.', 'quando', 'foi', 'que', 'eu', 'virei', 'tão', 'adulta', '?????', '@josiasteofilo', 'eu', 'acho', 'que', 'é', 'sempre', 'mais', 'do', 'mesmo', 'e', 'logo', 'vem', 'muito', 'mais', 'caro,', 'são', 'bons', 'aparelhos?', 'são', 'mas', 'macbook', 'custar', 'mais', 'de', '17k', 'é', 'uma', 'loucura.', '@stuarttliro', 'macbook,', 'ipad,iphone', 'e', 'o', 'carregador', 'ta', 'de', 'bom', 'tamanho🤝', 'rt', '@alvaropereirajr:', 'no', 'apavorante', 'mausoléu', 'onde', 'estão', 'os', 'corpos', 'embalsamados', 'de', 'kim', 'il-sung', 'e', 'kim', 'jong-il,', 'em', 'pyongyang,', 'uma', 'das', 'atrações…', 'meu', 'pai', 'querendo', 'q', 'eu', 'escolha', 'um', 'macbook', 'e', 'eu', '😐❓❓❓❓n', 'quero', 'deus', 'eu', 'juro', 'que', 'se', 'o', 'senhor', 'transformar', 'meu', 'notebook', 'em', 'um', 'macbook', 'eu', 'não', 'conto', 'pra', 'ninguém', 'digo', 'pra', 'todo', 'mundo', 'que', 'ganhei', 'em', 'sorteio', 'do', 'instagram', '@antonyo_almeida', '@alltoowellpt', 'macbook', 'com', 'a14x', 'já?', '@ricaaaaaaaardo', 'só', 'queria', 'um', 'macbook', '😔', '@finalde2003', 'pfv', 'n', 'me', 'diga', 'q', 'é', 'um', 'macbook', 'vai', 'apple', 'lança', 'logo', 'os', 'produtos', 'novos', 'p', 'cair', 'o', 'preço', 'dos', 'antigos', 'p', 'eu', 'comprar', 'um', 'macbook', 'kkkkk', 'carta', 'irmão', 'josé', 'branham', 'as', 'últimas', 'dores', 'do', 'parto', 'https://t.co/irjjirmly3', '#macbook', 'mano', 'agora', 'e', 'sério,', 'quando', 'é', 'começa', 'esse', 'bagulho', 'da', 'unifesspa', 'dar', 'os', 'macbook???\\n\\ntenho', 'internet', 'pô', 'preciso', 'e', 'de', 'um', 'computador', 'caraca', 'quero', 'muito', 'um', 'macbook', '2020', '🥰😍', 'rt', '@novacanedude:', 'hoje', 'sonhando', 'mais', 'que', 'nunca', 'com', 'meu', 'amor,', 'cada', 'um', 'com', 'um', 'macbook', 'trabalhando', 'em', 'nossa', 'casa', 'própria', 'e', 'falando', '“lembra', 'amo…', 'nao', 'confio', 'em', 'pessoas', 'q', 'tem', 'macbook', 'essa', 'é', 'uma', 'convicção', 'q', 'já', 'levo', 'há', 'anos', 'comigo', 'rt', '@cantinholabres:', '📢', 'sorteio', 'no', 'ig', 'da', '@barbaralabres', '\\n\\n➡️', '1', 'iphone', '11', 'pro', '+', 'macbook', '+', 'airpods', '+', 'apple', 'watch', '\\n\\n•', 'para', 'participar', 'basta:', 'seg…', 'queria', 'adesivinhos', 'bonitos', 'pra', 'colar', 'na', 'tampa', 'do', 'macbook', 'a', 'pessoa', 'com', 'um', '~macbook~', 'e', 'tendo', 'que', 'suar', 'a', 'tábua', 'de', 'passar', 'roupa', 'como', 'mesa?', 'https://t.co/spfw2fscyp', 'me', 'da', 'um', 'macbook', 'ou', 'um', 'imac', 'de', 'natal', 'papai', 'na', 'primeira', 'dificuldade', 'que', 'eu', 'esbarrei', 'já', 'desisti', 'e', 'montei', 'meu', 'setup', 'com', 'o', 'macbook', 'no', 'monitor', 'externo', 'de', 'novo', '@fskripski', '@ninaflsbrt', 'tem', 'fonte', 'paralela', 'nova', 'por', 'uns', '100~150', 'no', 'mercado', 'livre\\nse', 'não', 'se', 'importar', 'de', 'comprar', 'uma', 'original', 'usada,', 'vai', 'de', 'olx:\\n\\nhttps://t.co/zvxgiy62g2', '@rodidico', 'a', 'única', 'pessoa', 'que', 'porta', 'um', 'macbook', 'e', 'é', 'gente', 'boa', 'que', 'eu', 'conheço', 'é', 'o', 'fábio', 'caralho', 'a', 'promoção', 'do', 'ig', 'da', 'bárbara', 'até', 'salivei', 'com', 'o', 'macbook', '🤤', '@pirigotico', 'ele', 'de', 'macbook', 'e', 'calça', 'marrom', 'https://t.co/1ocbaxaa2m', 'eu', 'tenho', 'fé', 'q', 'hoje', 'vai', 'ter', 'apple', 'lançando', 'macbook', 'já', 'c', 'o', 'apple', 'silicon', 'atualizei', 'meu', 'macbook', 'pro', 'catalina', 'e', 'já', 'baixei', 'fl', 'studio', 'boa', 'eu', 'depois', 'que', 'atualizei', 'o', 'sistema', 'operacional', 'e', 'trouxe', 'meu', 'macbook', 'de', 'volta', 'a', 'vida', 'https://t.co/f93awokadp', 'em', '2018', 'tivemos', '2', \"#appleevent's:\\n1°-\", '12/setembro', '-', 'iphones', 'xs,', 'xs', 'max,', 'xr,', 'apple', 'watch', 'series', '4;\\n\\n2°-', '30/outubro', '-', 'ipad', 'pro,', 'macbook', 'air', 'e', 'mac', 'mini;\\n\\njá', 'esse', 'ano', '(2020)\\n1°', '-', '15/setembro\\n2°', '-', '??/outubro\\n\\nqual', 'o', 'seu', 'palpite?\\ncomente', 'para', 'dias', 'diferentes\\n\\n#appleevent', '#appleevent2020', 'macbook', 'é', 'caro', 'pra', 'crlhhhhh', 'como', 'gravar', 'ligações', 'no', 'iphone', '-', 'tweak', 'audio', 'recorder', 'xs', '#pago', '|', '👍🏾', '🇧🇷', '📲\\nhttps://t.co/olyekgfx8o\\n\\n#retweet', 'no', '#post', 'para', 'mais', '#pessoas', 'terem', '#visibilidade.', '#apple', '#ios', '#iphone', '#ipad', '#applewatch', '#macbook', '#homepod', '#ipadpro', '#applesyncbrasil', '🇧🇷', 'era', 'pra', 'eu', 'estar', 'dormindo', 'mas', 'to', 'vendo', 'preço', 'macbook', '@lirounani', '@macedeusa_', 'eu', 'ri', 'quando', 'a', 'gente', 'falou', 'que', 'ele', 'era', 'rico', 'quando', 'a', 'gnt', 'viu', 'o', 'macbook', 'dele', 'e', 'ele', '*gente', 'nada', 'ver', 'eu', 'comprei', 'em', 'nova', 'york*', '@nicacio_7', '@ammorajoias_', '@tatuagefoda', 'eu', 'pedi', 'o', 'macbook,', 'você', 'não', 'me', 'deu.', 'a', 'fila', 'anda', 'vei', 'não', 'faz', 'sentido', 'nenhum', 'o', 'ipad', 'pro', 'ser', 'mais', 'caro', 'que', 'o', 'macbook', 'air', 'alguem', 'sabe', 'uma', 'maneira', 'rapida', 'de', 'passar', '10', 'mil', 'fotos', 'do', 'rolo', 'da', 'camera', 'pro', 'macbook', 'sem', 'ser', 'pelo', 'itunes', 'ou', 'importando???', '🆘', 'pelo', 'amor', 'de', 'deus', 'se', 'alguém', 'entender', 'de', 'macbook', 'ajude', 'meu', 'google', 'chrome', 'voltar', 'a', 'pegar', 'eu', 'boto', 'as', 'página', 'pra', 'carregar', 'e', 'não', 'carrega', 'nada', 'fica', 'só', 'rodando', 'o', 'bicho', 'lá', 'aí', 'qnd', 'boto', 'pra', 'reconfigurar', 'não', 'vai', 'e', 'já', 'desinstalei', 'e', 'instalei', 'também', 'o', 'que', 'eu', 'faço', 'meu', 'deus???????????????', 'https://t.co/6azzta7mqq', 'alguem', 'me', 'vende', 'um', 'macbook', 'vocês', 'também', 'levam', 'choque', 'do', 'macbook', 'de', 'vcs?', 'eu', 'sou', 'muito', 'cadelinha', 'da', 'apple,', 'queria', 'muito', 'um', 'applewatch,', 'um', 'macbook,', 'um', 'ipad....', 'poxa', 'queria', 'um', 'adesivo', 'do', 'psicopato', 'do', 'meu', 'avatar', 'pra', 'fechar', 'a', 'maçã', 'do', 'meu', 'macbook', 'sera', 'que', 'sou', 'nerd', 'olha', 'oq', 'eu', 'gosto', 'de', 'assistir\\n\\nunboxing', 'a', 'sealed', '17', 'inch', 'macbook', 'pro', 'from', '2007!', 'https://t.co/cssxyxcgdv', 'via', '@youtube', '@kevynp_', 'mano', 'sim,', 'kkkkk', 'só', 'um', 'macbook', 'pro', 'pra', 'eu', 'colar', 'uns', 'adesivinho', '@lmjcc1', 'mostrou', 'para', 'ela', 'o', 'app', 'furacões?\\npediu', 'para', 'ela', 'guardar', 'o', 'macbook?', 'todo', 'mundo', 'da', 'minha', 'turma', 'tem', 'macbook', 'namoral', 'revoltante', 'e', 'tenho', 'um', 'macbook', 'pro', '13', 'polegadas', 'core', '2', 'duo', 'zerado', 'também!', 'se', 'botar', 'mais', '4gb', 'de', 'memória', 'e', 'um', 'ssd', 'roda', 'lindo!', 'também', 'era', 'da', 'minha', 'mãe,', 'tá', 'zerado!', 'impecável!', 'r$2500', 'leva!', 'sei', 'que', 'fica', 'legal', 'por', 'que', 'tenho', 'um', 'idêntico', 'e', 'fiz', 'esse', 'upgrade', 'e', 'rodo', 'até', 'logic', 'pro', 'x', 'nele', 'sem', 'problemas!', '📲', 'indiana', 'massara', 'via', 'instagram.\\n\\n“tempo', 'de', 'oferta', '🤑\\nquem', 'está', 'pronto', 'para', 'ganhar', 'um', 'monte', 'de', 'prêmios', 'de', 'incríveis?', '\\n\\nfiz', 'uma', 'parceria', 'com', 'a', 'international', 'loops', 'para', 'dar', 'a', 'você', 'um', 'iphone', '11,', 'um', 'laptop', 'macbook', 'air,', 'um', 'ipad', 'pro', 'e', 'airpods', 'ou', '$1000', 'em', 'dinheiro!', '', '🏦', '(+)', 'https://t.co/q1cjgkeqjl', 'comprar', 'macbook', 'uma', 'enorme', 'furada', 'pra', 'mulher', 'que', 'vai', 'investir', 'na', 'carreira', 'gamer', '(stream', 'de', 'the', 'sims)', 'tô', 'precisando', 'comprar', 'um', 'notebook', 'bom', 'pra', 'programar,', 'pro', 'caso', 'de', 'acontecer', 'de', 'eu', 'ficar', 'sem', 'internet', 'em', 'casa', 'igual', 'quinta', 'e', 'sexta.', 'estava', 'pesquisando', 'os', 'preços', 'do', 'macbook', 'e', 'é', 'absurdo', 'o', 'preço', 'disso', 'aqui', 'no', 'brasil.', 'na', 'verdade,', 'o', 'preço', 'dos', 'produtos', 'da', 'apple', 'aqui', 'no', 'br', 'é', 'um', 'assalto.', 'adivinha', 'quem', 'trabalha', 'com', 'macbook', 'agora', 'https://t.co/xacy0lbs0q', 'hj', 'tem', '#appleevent', 'a', 'esperança', 'é', 'q', 'novos', 'lançamentos', 'diminuem', 'os', 'preços', 'do', 'q', 'ja', 'foi', 'lançado', 'neammmm!', 'pq', 'ta', 'f****!', 'ate', 'queria', 'um', 'computador', 'novo', 'mas', 'pagar', 'o', 'preço', 'de', 'um', 'carro', 'n', 'da', 'nao!', 'lembro', 'q', 'paguei', '3', 'mil', 'e', 'pouco', 'no', 'meu', 'macbook', 'em', '2011', 'e', 'ja', 'achava', 'absurdo!!', 'agora', 'ta', 'quase', 'um', 'decidi', 'q', 'n', 'vou', 'comprar', 'um', 'nada', 'ate', 'eu', 'juntar', 'dinheiro', 'p', 'comprar', 'um', 'macbook\\n\\no', 'capitalismo', 'venceu', 'notícias\\n#news', '#outlet', '#blog', '#apple', '#iphone', '#ipad', '#macbook', '#asap', '', '\\nhttps://t.co/kxha5ie5qz', 'povo', 'se', 'sujeita', 'a', 'entrar', 'na', 'fazenda', 'para', 'ganhar', 'um', 'cachê', 'que', 'basicamente', 'é', 'o', 'preço', 'de', 'um', 'macbook.', '3', 'meses', 'de', 'expondo', 'de', 'uma', 'forma', 'agressiva', 'por', 'isso?', 'meio', 'hard.', 'eu', 'não', 'ia.', '🤔🤔🤔', '@rosana', 'e', 'o', 'meu', 'macbook', 'pro', 'de', '2018', 'que', 'está', 'com', 'um', 'problema', 'no', 'flat', 'cable', 'e', 'tem', 'que', 'trocar', 'a', 'tela', 'inteira', 'que', 'custa', '4500,00?', 'o', 'pior', 'é', 'que', 'é', 'um', 'problema', 'crônico', 'da', 'apple,', 'estão', 'sendo', 'processados', 'por', 'isso', 'nos', 'eua,', 'mas', 'não', 'querem', 'saber.', 'eu', 'que', 'lute', '@nicesx_', 'porra', 'bicho,', 'aí', 'a', 'gnt', 'só', 'pode', 'fechar', 'o', 'negócio', 'qnd', 'eu', 'souber', 'qual', 'mac', 'q', 'ela', 'vai', 'te', 'dar\\n\\nslc,', 'vai', 'que', 'eu', 'do', 'foto', 'da', 'minha', 'raba', 'por', 'um', 'macbook', 'air,', 'aí', 'eu', 'me', 'mato', 'de', 'vez', '@eduss26', '@rulexcat', '@opedry', 'na', 'realidade', 'tem', 'rumores', 'de', 'realmente', 'só', 'anunciar', 'no', 'evento', 'de', 'outubro', 'mesmo,', 'hoje', 'seria', 'focado', 'no', 'apple', 'watch,', 'ipad,', 'airtags', 'e', 'talvez', 'ano', 'novo', 'macbook', 'com', 'apple', 'silicon', 'macbook', 'ou', 'ipad', 'com', 'teclado?', 'o', 'que', 'fazer', 'com', 'um', 'macbook', 'pro', '2011', 'meio', 'vivo', 'meio', 'morto??', 'bom', 'dia,', 'eu', 'quero', 'saber', 'pq', 'ainda', 'não', 'uso', 'um', 'macbook', 'aqui', 'no', 'escritório....', '@whatreweliving4', 'ai', 'nem', 'me', 'lembre', 'disso,', 'os', 'katycats', 'doaram', 'mais', 'de', 'mil', 'dólares', 'pra', 'ajudar', 'na', 'musica', 'da', 'katy', 'e', 'ele', 'foi', 'lá', 'e', 'comprou', 'um', 'macbook', 'https://t.co/m3nnnt6x91', 'pai', 'me', 'de', 'um', 'macbook', 'imediatamente', 'eu', 'quero', 'apoiar', 'o', 'capitalismo', 'vai', 'anda', 'anda', '@delreychaos', 'eu', 'comprava', 'um', 'carro', 'e', 'dava', 'vários', 'pião', 'fodas', 'o', 'macbook', 'rt', '@xths_:', '@kevynp_', 'mano', 'sim,', 'kkkkk', 'só', 'um', 'macbook', 'pro', 'pra', 'eu', 'colar', 'uns', 'adesivinho', '@ruimoura', 'n', 'tenho', 'problemas', 'em', 'comprar', 'coisas', 'da', 'apple', 'porque', 'a', 'qualidade', 'é', 'de', 'facto', 'impressionante.tenho', 'uma', 'pessoa', 'na', 'empresa', 'que', 'ainda', 'usa', 'um', 'macbook', 'air', 'de', '2011', 'e', 'ainda', 'bomba', 'forte.nunca', 'tive', 'nada', 'que', 'se', 'estragasse.a', 'rodinha', 'do', 'watch', 's2', 'foi', 'a', 'única', 'coisa', 'até', 'hj', 'q', 'me', 'deixou', 'de', 'funcionar', '@erickadams0', 'mas', 'é', 'porque', 'o', 'nome', 'do', 'aparelho', 'é', 'iphone', 'mesmo.', 'assim', 'como', 'ninguém', 'fala', '“pega', 'lá', 'meu', 'notebook”', 'quando', 'vai', 'se', 'referir', 'ao', 'macbook,', 'a', 'pessoa', 'fala', '“pega', 'lá', 'meu', 'macbook”,', 'sacou?', 'alguém', 'me', 'da', 'um', 'macbook', 'todas', 'as', 'pessoas', 'q', 'eu', 'conheço', 'q', 'tem', 'macbook', 'ou', 'compraram', 'com', 'bolsa', 'do', 'ciencia', 'sem', 'fronteiras', 'ou', 'fizeram', 'uma', 'gambiarra', 'danada', 'pra', 'importar', 'barato..', 'n', 'consigo', 'nem', 'conceber', 'um', 'amigo', 'q', 'tenha', '$12.000', 'sobrando', 'pra', 'comprar', 'um', 'computador', '!', 'serase', 'eu', 'compro', 'só', 'not', 'qualquer,', 'e', 'depois', 'pego', 'um', 'iphone,', 'ou', 'pego', 'um', 'macbook', 'e', 'anos', 'depois,', 'quando', 'terminar', 'de', 'pagar', 'o', 'mac', 'eu', 'pego', 'um', 'iphone??', '@krikrikrine', 'e', 'menina', 'ele', 'nem', 'é', 'rico,', 'só', 'pose', 'com', 'o', 'macbook', 'e', 'a', 'caneta', 'de', '500', 'reais', 'o', 'teu', '#macbook', 'não', 'passa', 'deste', 'ecrã?', 'nós', 'podemos', 'resolver!', 'pede', 'um', 'orçamento', 'grátis', '👉', 'https://t.co/kvnnldg7mk', '|', '914', '090', '000', '|', 'info@youget.pt', '|', '\\n\\n#apple', '#repair', 'https://t.co/khjipd9scr', 'meu', 'setup', 'de', 'trampo', 'atual:', '\\n-', 'ipad', 'pro', '2018\\n-', 'macbook', 'pro', '13”', '2015\\n\\napple', 'é', 'caro?', 'é!', 'é', 'muito', 'caro!', 'mas', 'dura!', 'e', 'lembre-se:', 'são', 'ferramentas', 'de', 'trabalho!', 'sou', 'apple', 'fag', 'em', 'alguns', 'sentidos', '...', 'por', 'exemplo', 'eu', 'não', 'teria', 'nem', 'um', 'apple', 'watch', 'nem', 'um', 'airpod', '...', '#appleevent', 'https://t.co/dsadoklodb', 'meu', 'deuuussss', 'cara\\ncomo', 'eu', 'odeio', 'macbook', '\\nputa', 'que', 'pariu', '@gus_bruno', '@pedruckss', 'eu', 'também', 'to', 'com', 'necessidade', '):', 'o', 'meu', 'macbook', 'da', 'cândida', 'é', 'de', '2011', 'https://t.co/q1na49epxv', 'rt', '@oibalfoaoj:', 'deus', 'eu', 'juro', 'que', 'se', 'o', 'senhor', 'transformar', 'meu', 'notebook', 'em', 'um', 'macbook', 'eu', 'não', 'conto', 'pra', 'ninguém', 'digo', 'pra', 'todo', 'mundo', 'que', 'ganhei…', 'notícias\\n#news', '#promoções', '#blog', '#apple', '#iphone', '#ipad', '#macbook', '#asap\\nhttps://t.co/ae8zg4bk9a', 'agora', 'q', 'o', 'trampo', 'me', 'mandou', 'um', 'macbook,', 'vou', 'poder', 'usar', 'macvim', 'novamente\\n\\n:3', 'quando', 'eu', 'tiver', 'dinheiro', 'e', 'tiver', 'um', 'macbook', 'eu', 'vou', 'lembrar', '@misakiputa', 'essa', 'merda', 'dá', 'para', 'macbook?', 'aff', 'queria', 'ter', 'um', 'macbook', 'pro', 'https://t.co/q5w0gintqg', 'vcs', 'acham', 'melhor', 'eu', 'comprar', 'um', 'macbook', 'ou', 'um', 'ipad?', 'lembro', 'que', 'antigamente', 'eu', 'ficava', 'doido', 'com', 'esses', 'eventos', 'da', 'apple,', 'hj', 'em', 'dia', 'cago', 'baldes\\n\\nnão', 'odeio', 'a', 'apple', 'nem', 'nada,', 'adoro', 'o', 'macbook', 'e', 'nunca', 'usei', 'nenhum', 'computador', 'melhor,', 'mas', 'acho', 'muito', 'buzz', 'pra', 'pouca', 'inovação', 'real,', 'tudo', 'muito', 'caro', 'só', 'pela', 'marca', '@basgan', '@gittigidiyor', 'https://t.co/tcifroptc1\\n#aklınagelenlerkapınagelsin', \"\\n25'\", 'belhanda', '#appleevent', 'eu', 'sei', 'que', 'já', 'sou', 'cadelinha', 'da', 'apple....', 'macbook,', 'airpods,', 'iphone', 'e', 'apple', 'watch.....', 'já', 'quero', 'trocar', 'meu', 'iphone', 'e', 'meu', 'apple', 'watch', 'aaaaa', '@titanicrisiing', 'vc', 'pedindovmeu', 'macbook', 'quem', 'acostuma', 'com', 'ios,', 'pra', 'depois', 'pegar', 'qualquer', 'eletrônico', 'da', 'samsung', 'é', 'puxado', 'viu,', 'tudo', 'que', 'eu', 'queria', 'era', 'um', 'macbook', 'rt', '@labresupdates:', 'você', 'quer', 'ter', 'a', 'oportunidade', 'de', 'ganhar', '1', 'iphone', 'pro', '📲+', 'macbook', '💻', '+', 'airpods', '+', 'apple', 'watch', '?!', 'então', 'corre', 'para', 'o', 'link', '⬇️', 'e…', '@gowanfavs', 'vibe', 'tão', 'boa', 'que', 'gi', 'perdeu', 'o', 'macbook', 'no', 'avião', ',', 'marcela', 'teve', 'que', 'fazer', 'teste', 'pro', 'covid', 'https://t.co/3jqa9ghkmc', 'como', '#sincronizar', 'os', 'contatos/agenda', 'do', '#gmail', 'no', 'ios', 'em', '2020', '|', 'apple', 'sync', 'brasil™\\nhttps://t.co/7vtj4o0nug\\n\\n#retweet', 'no', '#post', 'para', 'mais', '#pessoas', 'terem', '#visibilidade.', '#apple', '#ios', '#iphone', '#ipad', '#applewatch', '#macbook', '#homepod', '#ipadpro', '#applesyncbrasil', '🇧🇷', 'de', 'dentro', 'do', 'apê\\nar', 'condicionado,', 'macbook,', 'você', 'vai', 'dizer\\nque', 'é', 'de', 'esquerda,', 'feminista,', 'defende', 'as', 'mulher\\nposta', 'lá', 'que', 'é', 'vadia,', 'que', 'pode', 'chamar', 'de', 'puta\\nsua', 'fala', 'não', 'condiz', 'com', 'sua', 'conduta', '@rosaliaxxo', 'quantas', 'vezes', 'vc', 'já', 'deu', 'zoom', 'nessa', 'foto?', 'foi', 'aí', 'que', 'eu', 'descobri', 'que', 'a', 'câmera', 'do', 'macbook', 'não', 'presta', 'hahahahaha', 'eu', 'to', 'passando', 'tanta', 'raiva', 'com', 'esse', 'notebook', 'novo', 'da', 'acer,', 'que', 'se', 'eu', 'tivesse', 'um', 'cartão', 'de', 'crédito', 'com', 'limite', 'alto', 'mas', 'eu', 'com', 'certeza', 'financiava', 'um', 'macbook', 'air,', 'pq', 'ios', 'nunca', 'me', 'decepciona', 'e', 'não', 'me', 'deixa', 'na', 'mão.', 'macbook', 'é', 'uma', 'coisa', 'que', 'não', 'me', 'falta', 'nem', 'dinheiro', 'me', 'falta', 'é', 'coragem', 'mesmo', 'o', 'cara', 'estuda', 'eletrônica', 'pra', 'usar', 'macbook', 'pqp', 'algum', 'de', 'vocês', 'tem', 'um', 'mac', 'ou', 'macbook?', 'algum', 'de', 'vcs', 'tem', 'macbook?', 'vale', 'a', 'pena', 'comprar', 'um', 'básico', 'air', '13', 'por', 'exemplo?', 'eu', 'hj', 'levando', 'meu', 'macbook', 'pra', 'manutenção', 'com', 'ele', 'no', 'colo,', 'enrolado', 'num', 'cobertor,', 'tal', 'qual', 'um', 'bebê', 'febril', 'https://t.co/mz9ixy7hu2', 'til:', 'meu', 'macbook,', 'estava', 'travando', 'com', 'o', '\"kernel_task\"', 'usando', '500%', 'do', 'cpu', 'e', 'tudo', 'congelava,', 'cpu', 'frequency', 'ia', 'pra', '800hz\\n\\nli', 'isso:', 'https://t.co/1mq3heu29x\\n\\nqdo', 'tá', 'muito', 'quente,', 'o', 'kernel_task', 'ocupa', 'a', 'cpu', 'de', 'forma', '\"artificial\"', 'e', 'abaixa', 'a', 'frequência', 'da', 'cpu', 'para', 'o', 'hardware', 'esfriar.', 'por', 'quanto', 'eu', 'consigo', 'vê', 'der', 'um', 'macbook', 'pro', 'de', '2006?', 'amo', 'esse', 'wipe', 'para', 'eletrônicos,', 'com', 'um', 'eu', 'faço', 'o', 'switch,', 'o', 'celular', 'e', 'o', 'macbook', 'e', 'fica', 'assim', 'ó', '✨', '@renanbocalon', '@zehzito', 'eu', 'tremi', 'aqui', 'de', 'vontade,', 'visse?', 'uso', 'o', 'macbook', 'pro,', 'adoro.', 'mas', 'a', 'versatilidade', 'do', 'ipad', 'é', 'ma-ra-vi-lho-sa.', 'to', 'encantado!', '@joseadorno', 'que', 'usa', 'no', 'dia', 'a', 'dia', 'e', 'ama!', 'mockup', 'de', 'macbook', 'pro', 'grátis', '-', 'hoje', 'eu', 'lanço', 'um', 'mockup', 'simples', 'mas', 'bastante', 'desejado.', 'um', 'mockup', 'gratuito', 'de', 'um', 'macbook', 'pro', 'com', 'tela', 'mutável', 'e', 'cor', 'de', 'fundo.', 'você', 'pode', 'desligar', 'os', 'destaques', 'da', 'tela', 'ou', 'até', 'mesmo', 'torná-los', 'mais', 'visíveis.', 'https://t.co/lnapqgrgof', 'o', 'macbook', 'ta', 'a', 'hora', 'da', 'morte.', 'começando', 'em', 'dez', 'mil', 'reais', 'amigas', 'https://t.co/85csxzapo8', 'ngm', 'quer', 'me', 'dar', 'um', 'macbook?', '@nunocasteleira', '@alltoowellpt', 'sim,', 'vai', 'sair', 'ainda', 'este', 'ano.', 'possivelmente', 'no', 'macbook', 'air.', 'os', 'pro', 'só', 'para', '2021.', 'como', '#ativar', 'o', 'e-sim', 'no', 'seu', '#iphone', 'dual', 'chip', '|', 'apple', 'sync', 'brasil™\\nhttps://t.co/ol6u8a2dxp\\n\\n#retweet', 'no', '#post', 'para', 'mais', '#pessoas', 'terem', '#visibilidade.', '#apple', '#ios', '#iphone', '#ipad', '#applewatch', '#macbook', '#homepod', '#ipadpro', '#applesyncbrasil', '🇧🇷', 'o', 'vendedor', 'cancelou', 'a', 'compra', 'do', 'macbook,', 'o', 'dinheiro', 'já', 'voltou', 'para', 'a', 'minha', 'conta,', 'obrigado', 'para', 'quem', 'mandou', 'mensagens', 'para', 'mim', 'me', 'orientando', 'no', 'que', 'fazer', 'a', 'garota', 'tem', 'macbook,', 'ipad,', 'câmera', 'fotográfica', 'de', 'boa', 'qualidade,', 'iphone,', 'um', 'quarto', 'bonito', 'e', 'planejado', 'e', 'está', 'no', 'prouni', 'de', 'medicina', 'com', 'a', 'cota', 'de', 'baixa', 'renda...', 'olha', 'sinceramente', 'vai', 'se', 'foder.', 'alguém', 'me', 'da', 'um', 'macbook?', 'hahah', '@apple', 'quero', 'um', 'macbook,', 'o', 'preço', 'do', 'mais', 'simples', 'no', 'brasil', 'da', 'pra', 'viajar,', 'comprar', 'fora,', 'passear', 'e', 'voltar...', 'corona,', 'me', 'ajuda', 'ai', 'vai!', 'felizona', 'pq', 'o', 'pai', 'comprou', 'o', 'macbook', 'dele', '🤩', '@pxrsonv', 'eu', 'confiei', 'demais', 'no', 'meu', 'macbook,', 'esse', 'foi', 'o', 'erro', 'yoongi', 'me', 'da', 'seu', 'macbook', 'antigo', 'q', 'ta', 'guardado', 'no', 'seu', 'armario', 'e', 'eu', 'digo', 'se', 'esperava', 'ou', 'nao', 'mexi', 'e', 'deu', 'pau', 'dnv', 'voltamos', 'a', 'estaca', '', '0', 'alguem', 'me', 'vende', 'um', 'carregador', 'de', 'macbook', 'pro', 'por', 'favor', '@selenawas', 'quer', 'ser', 'chique', 'e', 'não', 'sabe', 'nem', 'mexer', 'num', 'macbook', 'eu', 'mexendo', 'em', 'um', 'macbook', 'https://t.co/aczssljk27', 'eu', 'tenho', 'um', 'ranço', 'de', 'quem', 'fala', '“meu', 'iphone,', 'meu', 'macbook”.', 'vsf,', 'é', 'um', 'celular', 'e', 'um', 'computador!', 'rt', '@najuh_batista:', 'preciso', 'comprar', 'um', 'macbook', 'pra', 'ontem😭😭', 'eu', 'não', 'consigo', 'confiar', 'em', 'instagram', 'de', 'estudo', 'em', 'que', 'a', 'pessoa', 'tem', 'um', 'macbook', 'me', 'desculpem', 'boa', 'noite', 'site', 'alguém', 'tem', 'um', 'carregador', 'de', 'macbook', 'pra', 'doar', 'kkk', 'n', 'teve', 'macbook', 'nem', 'iphone', 'novo', '🤡🤡🤡', '@allysonrodrigoo', 'macbook', 'são', 'tudo,', 'a', 'qualidade', 'de', 'imagem', 'nenhum', 'outro', 'vai', 'dar.', 'porém', 'acho', '13', 'polegadas', 'pequeno', 'mas', 'depende', 'do', 'teu', 'uso.', 'pensei', 'em', 'comprar', 'um', 'mas', 'vou', 'ficar', 'de', 'ipad', 'pro', '2018', 'que', 'tá', 'uns', '800€', 'e', 'faz', 'praticamente', 'tudo', 'que', 'um', 'notebook', 'faz', 'to', 'aqui', 'naquela', 'situação', 'que', 'o', 'cara', 'abriu', 'um', 'macbook', 'no', 'metrô', '#appleevent', 'e', 'nois', 'só', 'querendo', 'um', 'macbook', 'air', 'vi', 'um', 'sorteio', 'no', 'instagram', 'q', 'um', 'dos', 'prêmios', 'é', 'um', 'macbook', 'pro', 'novinho,', 'td', 'q', 'eu', 'preciso.', 'tava', 'lá', '\"quanto', 'mais', 'vc', 'comentar', 'mais', 'chances', 'de', 'ganhar\",', 'fui', 'bloqueada', 'de', 'tanto', 'q', 'comentei', 'https://t.co/yzualxtt6q', '1', 'minuto', 'de', 'silêncio', 'pra', 'pretona', 'que', 'percebeu', 'que', 'não', 'vai', 'mais', 'trabalhar', 'com', 'macbook.\\nluto.', '[dica]', 'como', 'fazer', '#backup', 'de', 'forma', 'correta', 'no', '#whatsapp', '|', 'apple', 'sync', 'brasil™\\nhttps://t.co/asob6htfrs\\n\\n#retweet', 'no', '#post', 'para', 'mais', '#pessoas', 'terem', '#visibilidade.', '#apple', '#ios', '#iphone', '#ipad', '#applewatch', '#macbook', '#homepod', '#ipadpro', '#applesyncbrasil', '🇧🇷', 'fora', 'que', 'com', 'essa', 'distância', 'eu', 'n', 'iria', 'enxergar', 'nada', 'do', 'que', 'está', 'escrito', 'no', 'macbook', 'kkkkkk', 'gostei,', 'vou', 'comprar', 'um', 'e', 'o', 'suporte', 'tb', 'arrumar', 'um', 'emprego', 'na', 'nubank', 'pra', 'ganhar', 'um', 'macbook', 'ganhei', 'um', 'macbook', 'https://t.co/ys6en6l64v', '@xicocomch', 'é', 'o', 'que', 'aconteceu', 'comigo.', 'tava', 'na', 'plataforma', 'mac', 'há', '20', 'anos.', 'meu', 'último', 'macbook', 'durou', '9,', 'era', 'um', 'pro', 'final', 'de', '2011.', 'mas', 'foi', 'impossível', 'seguir.', 'tive', 'que', 'migrar', 'pro', 'windows.', '@blogdoiphone', 'não', 'uso', 'google', 'chrome', 'nem', 'no', 'macbook,', 'safari', 'é', 'vida', 'comprei', 'um', 'macbook', 'pela', 'internet', 'e', 'não', 'vou', 'dormir', 'em', 'paz', 'enquanto', 'não', 'chegar', 'aqui,', 'medo', 'do', 'golpe', 'meu', 'limite', 'no', '@nubank', 'não', 'da', 'nem', 'pra', 'comprar', 'um', '@apple', 'macbook', 'air', 'meu', 'pai', 'falando', 'que', 'vai', 'levar', 'meu', 'notebook', 'pra', 'empresa', 'e', 'que', 'vai', 'me', 'comprar', 'um', 'novo\\n“ta', 'mas', 'tem', 'que', 'ser', 'um', 'macbook,', 'pq', 'eu', 'odeio', 'samsung”\\n“fica', 'com', 'ele', 'mesmo', 'da', 'pra', 'usar', 'ainda', 'né?”', 'queria', 'um', 'macbook,', 'mas', 'um', 'macbook', 'não', 'posso', 'ter\\npois', 'ele', 'é', 'muito', 'caro', 'e', 'o', 'dinheiro', 'que', 'eu', 'tenho', 'é', 'pra', 'ver', 'você', 'https://t.co/rkdoo9jyup', 'nossa', 'mano,', 'macbook', 'air', 'tá', 'muito', 'mais', 'barato', 'do', 'q', 'eu', 'pensei\\n\\nhmmmmmmmmmmmmmmm', 'lembrando', 'do', 'dia', 'q', 'tive', 'q', 'fazer', 'uma', 'apresentação', 'em', 'um', 'macbook', 'e', 'nunca', 'tinha', 'usado', 'um', 'kkkkkkjkjjk', 'rt', '@eubecx:', 'raiva', 'eu', 'tenho', 'de', 'menina', 'de', 'studygram', 'que', 'tem', 'ipad', 'iphone', 'e', 'macbook', '', 'canetas', 'das', 'melhores', 'marcas', '', 'caderno', 'inteligente', 'e', 'afins', 'e…', 'ele', 'demora', 'mais', 'um', 'pouquinho,', 'olhando', 'fixamente', 'pra', 'tela', 'do', 'macbook.', '\\npatrão:', 'dê', 'a', 'volta', 'e', 'venha', 'ver', 'como', 'ficou', 'isso', 'aqui.', '\\nvocê:', 'ahn...', 'está', 'trabalhando', 'em', 'um', 'novo', 'projeto?', '\\nele', 'não', 'responde', 'até', 'você', 'chegar', 'ao', 'lado', 'dele', '{+}', '@rodeicomfino', 'kkkkkkk', 'pia', 'o', 'macbook', 'do', 'matheus', 'corrige', 'tudo', 'mano,', 'to', 'no', 'odio', 'ja,', 'era', 'pra', 'se', 'ganja', 'vi', 'agr', 'pouco', 'q', 'tava', 'errado', '@kaizergabriel', 'gostou', 'todas', 'as', 'economias', 'comprando', 'o', 'macbook', 'que', 'não', 'sobrou', 'dinheiro', 'pra', 'mais', 'nada', '@zehzito', 'o', 'macbook', 'de', '5', 'nanômetros', 'já', 'tá', 'claro', 'que', 'vai', 'vir', 'em', 'março,', 'ainda', 'bem', 'que', 'não', 'troquei...', 'intel', 'vai', 'engolir', 'seca', 'miga', 'eu', 'nunca', 'vi', 'ninguém', 'mais', 'burguês', 'q', 'matheus,', 'tem', 'nem', '1', 'mes', 'q', 'ele', 'pediu', 'um', 'notebook', 'novo', 'p', 'mae', 'dele', 'e', 'ganhou', 'um', 'macbook', 'pro', 'pqp', '@tododiabrigas', 'chamou', 'a', 'mamãe', 'que', 'tirou', 'o', 'iphone,', 'macbook', 'e', 'airpod', 'que', 'eles', 'ficam', 'de', 'boazinha', '@xiumiaubr', 'nem', 'tenho', 'um', 'iphone,', 'tenho', 'um', 'macbook', 'pro,', 'aquela', 'desgraça', 'que', 'descarrega', 'muito', 'rápido', 'alguém', 'me', 'da', 'um', 'macbook', 'pro', '2014', 'com', 'ssd', 'de', '1tb', 'e', '16gb', 'de', 'ram', 'preciso', 'comprar', 'um', 'macbook', 'pra', 'ontem😭😭', 'dores', 'de', 'parto', 'tabernaculo', 'branham', 'ao', 'vivo', 'irmão', 'joseph', 'branham', 'https://t.co/ck9fvruzzw', '#macbook', '@whindersson', 'https://t.co/uibetanmoa\\ngente', 'se', 'inscreve', 'nesse', 'link', 'vcs', 'pode', 'me', 'ajudar', 'a', 'ganhar', 'um', '1', 'de', 'conversação', 'em', 'inglês', 'e', 'um', 'macbook', '(', 'link', 'de', 'um', 'curso', '100%', 'online', 'e', 'gratuito)', 'ajudaaaaa', '#help', 'daeeee,', 'to', 'vendendo', 'meu', 'mac', '\\n\\nse', 'alguém', 'tiver', 'interesse', 'chama', 'na', 'dm', '\\n\\nhttps://t.co/xprwkascuy', 'https://t.co/dfpuss5hua', '@sirfrederiq', 'a', 'dar', 'flex', 'com', 'macbook', '👌😼', 'seriamente', 'pensando', 'em', 'comprar', 'um', 'teclado', 'mecânico', 'sem', 'fio,', 'esse', 'teclado', 'do', 'macbook', 'é', 'mto', 'ridículo', 'macbook', 'air', '(intel', 'core', 'i5,', '512gb', 'de', 'ssd,', '8gb', 'de', 'ram),', 'de', 'r$13.299', 'por', 'r$9.999', 'em', 'até', '12x', 'https://t.co/v77zwq4ooe', 'rt', '@iluminicho:', 'primeiro', 'dia', 'de', 'trampo', 'e', 'o', 'pai', 'já', 'tá', 'de', 'macbook', 'pró', 'https://t.co/gdplzownxx', '@parnasopunk', '@jvehmole', 'macbook', 'bom', 'é', 'macbook', 'na', 'vitrine', 'da', 'loja', 'empoeirando', 'você', 'quer', 'ter', 'a', 'oportunidade', 'de', 'ganhar', '1', 'iphone', 'pro', '📲+', 'macbook', '💻', '+', 'airpods', '+', 'apple', 'watch', '?!', 'então', 'corre', 'para', 'o', 'link', '⬇️', 'e', 'saiba', 'todas', 'as', 'orientações', 'e', 'o', 'que', 'você', 'deve', 'fazer!', '\\n\\n🔗https://t.co/hf0rckrt4u\\n➡️', 'sorteio', 'acaba', 'dia', '25/09!😏', 'https://t.co/kjcm0kga6q', 'dias', 'de', 'luta', 'e', 'dias', 'de', 'glória,', 'agora', 'eu', 'tenho', 'um', 'windows', 'dentro', 'do', 'macbook', '🥺', 'https://t.co/dwlrrz16yv', 'rt', '@sandinossauro:', 'imagina', 'ter', 'grana', 'pra', 'um', 'macbook', 'e', 'ter', 'que', 'usar', 'a', 'tábua', 'de', 'passar', 'como', 'escrivaninha', 'https://t.co/enfhz3h77s', 'mínimo', '17', 'e', 'o', 'máximo', 'uns', '45', 'pq', 'o', 'com', 'um', 'suggar', 'daddy', 'o', 'macbook', 'vem', 'https://t.co/x8tcoyhalp', 'coisas', 'que', 'aprendi', 'sobre', 'mac:\\n\\n-', 'eu', 'não', 'gosto', 'de', 'macbook.\\n-', 'eu', 'prefiro', 'windows', 'ao', 'macos\\n-', 'detesto', 'a', 'interface', 'do', 'macos\\n-', 'gosto', 'do', 'imac,', 'apesar', 'dos', '3', 'pontos', 'acima.\\n-', 'não', 'curto', 'o', 'magic', 'mouse', 'e', 'acho', 'ele', 'uma', 'droga', 'alô', 'anitta', 'esconde', 'o', 'macbook', 'antes', 'que', 'a', 'samsung', 'vê', 'https://t.co/xelrht8ois', 'fodase', 'o', 'iphone', '12,', 'sapoha', 'só', 'serve', 'pra', 'jogar', 'dinheiro', 'fora', 'ou', 'se', 'vc', 'tem', 'o', 'cel', 'da', 'apple,', 'o', 'smartwatch', 'e', 'o', 'macbook', '@guicury', '@oandrefogaca', 'qual', 'o', 'seu', 'macbook?', 'pode', 'ser', 'que', 'o', 'modelo', 'dele', 'nao', 'tenha', 'suporte', 'para', 'transferencia', 'rápida', 'com', 'o', 'bt', 'puts', 'eu', 'queria', 'ta', 'assim', 'com', 'meu', 'macbook', 'pro', '16', 'pol', 'https://t.co/gcbaygcesf', '@thiago_cco', 'aqui', 'tem', 'coragem!!', 'querendo', 'comprar', 'macbook', 'em', 'plena', 'pandemia.', 'hsaushuahuhsa.', 'quando', 'disseram', 'que', 'não', 'dá', 'p', 'jogar', 'no', 'macbook,', 'não', 'estavam', 'errados', 'sdd', 'qnd', 'os', 'amigos', 'do', 'meu', 'pai', 'davam', 'macbook', 'quebrado', 'pra', 'ele', 'consertar', 'por', 'mil', 'reais', 'e', 'ser', 'meu......', 'gente,', '', 'vou', 'vender', 'meu', 'macbook', 'air.', 'comservadíssimo,', 'comprado', 'em', '2017', 'e', 'utilizado', 'pouquíssimas', 'vezes.', '[dica]', 'seu', 'id', 'apple/', 'conta', '#desativada', 'no', 'iphone', '(resolvido)', '|', 'apple', 'sync', 'brasil™\\nhttps://t.co/snxhiypnoo\\n\\n#retweet', 'no', '#post', 'para', 'mais', '#pessoas', 'terem', '#visibilidade.', '#apple', '#ios', '#iphone', '#ipad', '#applewatch', '#macbook', '#homepod', '#ipadpro', '#applesyncbrasil', '🇧🇷', 'pega', 'teu', 'macbook', 'e', 'enfia', 'no', 'cu', 'caralho.', 'me', 'esquece!', 'quanto', 'você', 'cobraria', 'para', 'formatar', 'um', 'macbook?', 'alguém', 'sabe', 'me', 'dizer', 'se', 'macbook', 'é', 'bom', 'pra', 'fazer', 'live?', '(mobile', 'no', 'caso)', 'comprei', 'uma', 'capinha', 'protetora', 'de', 'teclado', 'do', 'notebook', 'e', 'vieram', 'duas', 'dentro', 'da', 'embalagem,', 'mandei', 'mensagem', 'pro', 'vendedor', 'e', 'ele', 'mandou', 'ficar', '\\nse', 'alguém', 'se', 'interessar', 'por', 'uma', 'capa', 'de', 'teclado', 'macbook', 'air', \"13'\", 'chama', 'eu', '\\nentão', 'gente', 'e', 'eu', 'que', 'esqueci', 'o', 'microfone', 'aberto', 'na', 'aula', 'on-line', 'e', 'disse', '\"ele', 'tem', 'um', 'macbook\"', 'a', 'apple', 'vai', 'ter', 'que', 'lidar', 'agora', 'com', 'a', 'nvidia', 'após', 'a', 'aquisição', 'da', 'arm,', 'o', 'apple', 'silicon', 'que', 'estará', 'presente', 'no', 'novo', 'macbook', 'é', 'baseado', 'na', 'arquitetura', 'arm', 'licenciada.', '😅', 'https://t.co/cbsm9mgcjp', 'pessoas', 'com', 'macbook', 'como', 'q', 'faz', 'pra', 'usar', 'o', 'word..', 'power', 'point?', '@nagamatsu__', '@marinenorstrahl', '@lucasjtho', 'rapaz,', 'vai', 'ifood', 'hein!', 'uma', 'vez', 'usei', 'macbook', 'num', 'lugar', 'em', 'que', 'eu', 'fiz', 'estágio,', 'e', 'fiquei', 'até', 'com', 'medo', 'de', 'quebrar', 'alguma', 'coisa.', 'mas', 'a', 'experiência', 'foi', 'bacana.', 'aparentemente', 'vai', 'dar', 'pra', 'atualizar', '', 'o', 'sistema', 'operacional', 'do', 'meu', 'macbook', 'air', ':]', '...', 'tinha', 'tentado', 'descobrir', 'várias', 'vezes', 'e', 'era', 'mó', 'caô', 'pra', 'baixar,', 'ontem', 'fui', 'procurar', 'outra', 'vez', 'e', 'encontrei', 'facinho', 'o', 'link', 'de', 'download', 'no', 'site', 'da', 'apple', 'bom', 'eu', 'enfiei', 'na', 'cabeça', 'que', 'quero', 'um', 'macbook', 'e', 'so', 'consigo', 'pensar', 'nisso', 'que', 'merda', 'eu', 'so', 'queria', 'um', 'macbook', 'mas', 'ele', 'nao', 'é', 'bom', 'pra', 'arquitetura', 'ufrj', 'dá', 'bolsa', 'macbook/imac', 'pros', 'professores?', 'e', 'vamos', 'de', 'atraso', 'do', 'metro', 'de', '1h,', 'tem', 'nem', 'como', 'trabalhar', 'de', 'casa', 'já', 'que', 'levei', 'o', 'macbook', 'ontem', 'pro', 'trabalho', '@caioincau', 'pra', 'quem', 'está', 'começando', 'na', 'área', 'e', 'principalmente', 'no', 'brasil,', 'comprar', 'um', 'macbook', 'é', 'algo', 'impensável', 'e', 'você', 'tem', 'muito', 'mais', 'valor', 'comprando', 'um', 'laptop', 'com', 'bom', 'suporte', 'pra', 'linux', 'e', 'se', 'aventurando', 'no', 'windows', 'com', 'wsl2.', '@lmjcc1', 'amiga', 'fala', 'pra', 'ela', 'se', 'lembrar', 'do', 'macbook', 'pra', 'ela', 'nao', 'esquecer', 'esse', 'bendito', 'eu', 'tenho', 'ctz', 'que', 'nesse', 'calor', 'o', 'macbook', 'vai', 'explodir', '@_chrless', 'amigo', 'é', 'uma', 'virtual', 'box', 'que', 'simula', 'outro', 'pc', 'dentro', 'do', 'macbook,', 'aí', 'eu', 'posso', 'jogar', 'uns', 'joguinhos', 'que', 'n', 'rodaria', 'no', 'mac', 'normalmente', '@_pnobre_', '@hmendes', 'trocar', 'a', 'o', 'carro', 'pela', 'bicicleta', 'é', 'como', 'trocar', 'o', 'desktop', 'pastelão', 'e', 'ineficiente', 'pelo', 'novo', 'macbook', 'air.\\n\\nfaz', 'a', 'mesma', 'coisa,', 'provavelmente', 'mais', 'devagar.\\n\\nsó', 'que', 'no', 'caso', 'da', 'bicicleta,', 'até', 'sai', 'mais', 'barato.', '@leandrolyrarj', 'dispinibiliza', 'ipad', 'e', 'macbook', '', 'pra', 'galera,', 'e', 'amplia', 'o', 'acesso', 'a', 'internet.', 'macbook', 'eh', 'tao', 'caro', 'nunca', 'vou', 'ter', 'um😢', 'mais', 'de', 'um', 'ano', 'que', 'ganhei', 'meu', 'macbook', 'e', 'até', 'hoje', 'descubro', 'coisas', 'novas', 'nele', '@muriloramosdc', '@tingracio', 'esse', 'é', 'pessoal,', 'do', 'google', 'era', 'um', 'carbon', 'x1', 'e', 'agora', 'é', 'um', 'macbook', 'pro.', '@ahirtonlopes', 'o', 'macbook', 'da', 'patroa', 'eu', 'fiz', 'downgrade', 'para', 'mac', 'os', 'mojave.', 'não', 'dava', 'de', 'usar', 'o', 'catalina', '@98squeen', '10k', 'num', 'macbook', 'p', 'acessar', 'email', 'com', 'mais', 'praticidade', 'a', 'professora', 'de', 'programação', 'é', 'rica,', 'cadeira', 'chique,', 'macbook', '...', 'hoje', 'sonhando', 'mais', 'que', 'nunca', 'com', 'meu', 'amor,', 'cada', 'um', 'com', 'um', 'macbook', 'trabalhando', 'em', 'nossa', 'casa', 'própria', 'e', 'falando', '“lembra', 'amor,', 'quando', 'tínhamos', 'aquele', 'notebook', 'horrível', 'que', 'ganhamos', 'do', 'governo,', 'olha', 'onde', 'chegamos', '🥺”\\n\\nlike', 'se', 'vc', 'chorou.', 'gente', 'da', 'pra', 'baixar', 'jogos/apps', 'crackeados', 'no', 'imac/macbook??', 'https://t.co/nlm3fltbzv', 'macbook', 'touchbar', 'velho', 'mais', 'caro', 'do', 'que', 'novo', 'lacrado', 'ou', '1000', 'conto', 'mais', 'barato!', 'o', 'brasil', 'tá', 'surreal', 'rt', '@staylswift1989:', 'eu', 'achando', 'que', 'a', 'laura', 'queria', 'um', 'macbook', 'mas', 'na', 'verdade', 'ela', 'queria', 'mcdonald’s', 'kkkk', 'telegram', '-', 'como', 'criar', 'um', 'grupo', 'e', 'colocar', 'um', 'bot', 'para', 'gerenciamento', '|', 'apple', 'sync', 'brasil™\\nhttps://t.co/b0zmmcj2nc\\n\\n#retweet', 'no', '#post', 'para', 'mais', '#pessoas', 'terem', '#visibilidade.', '#apple', '#ios', '#iphone', '#ipad', '#applewatch', '#macbook', '#homepod', '#ipadpro', '#applesyncbrasil', '🇧🇷', 'meu', 'deus,', 'o', 'macbook', 'custa', 'o', 'valor', 'de', 'um', 'celta,', 'cara', 'pqp', 'essa', 'botada', 'foi', 'foda,', 'foi', 'fodaaaaaaa', '@ducatambasco', 'eu', 'sempre', 'compro', 'no', 'kabum', 'ou', 'no', 'mercado', 'livre.', 'se', 'o', 'seu', 'note', 'não', 'for', 'um', 'macbook', 'é', 'relativamente', 'facil', 'trocar', 'sozinho.', 'olhem', 'só', 'espero', 'que', 'hoje', 'no', 'evento', 'da', 'apple', 'não', 'estreie', 'nenhum', 'macbook', 'melhor', 'do', 'que', 'o', 'que', 'eu', 'comprei', 'porque', 'senão', 'vou', 'chorar', 'maldito', 'rwindows,', 'alguém', 'me', 'compra', 'um', 'macbook?', 'https://t.co/4ixmepdmvr', 'eu', 'to', 'sonhando', 'tanto', 'com', 'um', 'macbook', 'pqp.', 'algm', 'me', 'empresta', '10000', 'nmrl', 'rt', '@marianalsvgss:', 'começar', 'a', 'juntar', 'para', 'um', 'macbook', 'daqueles', 'pequenos', 'que', 'dá', 'para', 'levar', 'para', 'todo', 'o', 'lado', 'is', 'my', 'next', 'goal', 'professora:', 'não', 'uso', 'nd', 'do', 'google.', 'nd', 'de', 'grandes', 'corporações.', '\\n\\nlogo', 'após', 'compartilha', 'a', 'tela', 'para', 'exibir', 'o', 'cronograma', 'do', 'curso', 'no', 'macbook**', '', 'em', 'fim', 'a', 'hipocrisia', 'minha', 'meta', 'de', 'vida', 'é', 'ser', 'aquele', 'designer', 'rico', 'que', 'tem', 'macbook,', 'ipad', 'última', 'geração', 'e', 'o', 'último', 'iphone', 'sentado', 'num', 'starbucks', 'pensando', 'na', 'próxima', 'coleção', 'pra', 'd&amp;g', 'gente', 'bom', 'dia', 'quero', 'um', 'macbook', 'https://t.co/zvzsfrhwdn', 'preciso', 'de', 'uma', 'ajuda', 'pra', 'resetar', 'um', 'macbook...', ':(((', '@thcarvao', 'seu', 'irmão', 'tem', 'o', 'pro,', 'que', 'é', 'uma', 'fortuna,', 'assim', 'como', 'o', 'macbook', 'tb', 'é', 'uma', 'fortuna', 'rs', 'o', 'boy', 'me', 'falando', 'que', 'vai', 'ter', 'que', 'fazer', 'hora', 'extra,', 'eu', 'já', 'lancei', 'a', 'braba', 'pra', 'ele', 'fazer', 'isso', 'sempre', 'e', 'me', 'conquistar/', 'dar', 'um', 'macbook', 'kkkkkkkkk', '\\noh', 'dó,', 'não', 'tenho', 'nem', 'coragem', 'de', 'aceitar', 'kkk', 'rolou', 'isso', 'mesmo\\nsó', 'q', 'a', 'gente', 'deu', 'o', 'filho', 'pra', 'um', 'orfanato', 'pq', 'era', 'um', 'macbook\\nfizemo', 'outro', 'e', 'veio', 'um', 'pc', 'da', 'razer', 'tunado', '😎', 'https://t.co/wddxlsbdxw', 'macbook', 'é', 'um', 'lixo', 'mds', 'não', 'sei', 'como', 'a', 'apple', 'vende', 'um', 'negócio', 'desses', '@luksrx', 'sim?', 'irei', 'comprar', 'meu', 'macbook', 'o', 'dia', 'inteiro', 'tentando', 'formatar', 'o', 'macbook', '🥵🥵', 'só', 'queria', 'comprar', 'um', 'macbook', 'afff', 'meu', 'sonho', 'de', 'princesa', '@leeandrobarbosa', 'completamente,', 'ele', 'funciona', '100%', 'independente', 'de', 'smartphone', 'e', 'tem', 'compatibilidade', 'total', 'com', 'outros', 'produtos', 'da', 'apple,', 'inclusive', 'da', 'pra', 'usar', 'de', 'segunda', 'tela', 'de', 'macbook', 'sem', 'necessidade', 'de', 'cabos', '@imluciano', 'ahh', 'entendi', ',', 'meu', 'irmão', 'tem', 'um', 'sem', 'bordas', 'do', 'ano', 'passado', ',', 'mas', 'eu', 'ainda', 'acho', 'macbook', 'melhor', 'q', 'ipad', '@duarteyuri_', 'migo,', 'é', 'bem', 'melhor!', 'eu', 'comprei', 'um', 'macbook', 'pro', 'e', 'agora', 'é', 'usb-c,', 'é', 'super', 'tendência.', 'mais', 'possibilidades.', 'mano', 'que', 'felicidade', 'ver', 'meu', 'macbook', 'vivo', 'obrigado', 'deus', 'https://t.co/ahrx57ewxu', '@barbaralabres', 'pode', 'separa', 'o', 'macbook,', 'que', 'ja', 'e', 'meuuu', 'a', 'pior', 'coisa', 'de', 'vc', 'ter', 'um', 'macbook', 'é', 'que', 'a', 'maioria', 'dos', 'tutoriais', 'de', 'alguma', 'coisa', 'são', 'em', 'inglês', '😩', 'macbook', 'é', 'tudo', 'de', 'mais', 'perfeito', 'que', 'existe', 'puta', 'merda', 'aguardando', 'ansiosamente', 'o', 'momento', 'que', 'vou', 'ter', 'dinheiro', 'pra', 'comprar', 'um', 'macbook,', 'pq', 'eu', 'odeio', 'esses', 'notebooks', 'lentosssss', 'aaaa', 'seria', 'meu', 'sonho', 'ganhar', 'um', 'macbook?', 'puta', 'merda', 'notícias\\n#news', '#promoções', '#blog', '#apple', '#iphone', '#ipad', '#macbook', '#asap\\nhttps://t.co/9aaxejq99d', 'alguém', 'sabe', 'onde', 'posso', 'vender', 'um', 'macbook', 'a', 'peças?', 'ela', 'compra', 'um', 'novo', 'macbook', 'pra', 'cada', 'término', 'de', 'namoro,', 'daí', 'mostrou', 'uma', 'penka', 'de', 'macbook', 'guardado', 'de', 'ex', 'relacionamentos,', 'sofro', 'kkk', 'rt', '@madrini:', 'to', 'vendendo', 'meu', 'macbook', 'air', '13', '(2013)', '\\ni7', '1.7', '3.3', 'turbo\\n8gb', 'ram\\n500', 'ssd\\nbateria', 'com', '633', 'ciclos\\nteclado', 'padrão', 'reino', 'unido\\nr$', '4…', 'essa', 'galera', 'que', 'quer', 'vender', 'macbook', '2010/11/12', 'por', '2k', 'ou', '3k', 'esta', 'de', 'brincadeira', 'hahahaha', '@pepinoemcoserva', '@thatfatdud3', 'amigo', 'meu', 'derrubou', 'vinho', 'num', 'macbook', 'retina,', 'imagine', 'a', 'dor', 'o', 'bichinho', 'do', 'capitalismo', 'botou', 'na', 'minha', 'cabeça', 'agora', 'que', 'eu', 'quero', 'um', 'macbook', 'pro', '16”.', 'vou', 'vender', 'meu', 'corpo', 'na', 'esquina', 'pra', 'conseguir', 'comprar', 'um.', '😅🆘', 'aaaaaaaa', 'comprei', 'meu', 'macbook', 'caralhooooii', 'nem', 'acreditooooo', '(com', 'meu', 'fucking', 'dinheiroooooo)', 'e', 'chega', 'em', '4', 'dias', 'úteis', 'aaaaaaaaaaaa', '✨✨✨✨✨', 'queria', 'um', 'macbook', 'tbm', '#appleevent', 'queria', 'mto', 'um', 'macbook', 'to', 'chorando', 'mas', 'com', 'o', 'valor', 'q', 'ta', 'o', 'dolar', 'não', 'da', 'coragem', 'de', 'comprar', 'fico', 'muito', 'abismada', 'quando', 'descubro', 'que', 'as', 'pessoas', 'tem', 'iphone', '11', 'e', 'macbook', 'na', 'vida', 'real', '@nammyeee', 'aliás...', 'meu', 'macbook', 'foi', 'igual...', 'a', 'cada', 'atualização', 'ficava', 'mais', 'lento', 'até', 'ele', 'ficar', 'utilizável...', 'ai', 'um', 'dia', 'a', 'apple', 'deu', 'a', 'ultima', 'atualização....', 'e', 'parou', 'de', 'dar', 'suporte....', 'eu', 'formatei', 'do', 'zero', 'e', 'instalei', 'a', 'ultima', 'versao', 'do', 'sistema....', 'ta', 'otimo', 'agora...', 'minha', 'sogra', 'comprou', 'um', 'macbook', 'de', 'mesa', 'pra', 'fazer', 'planilha', 'e', 'vídeo', 'chamada....', 'isso', 'mesmo', 'que', 'você', 'leu...', '@claudifih', 'nunca', 'tive\\nso', 'macbook', 'e', 'iphone\\namo', 'muito\\nquem', 'sabe', 'quando', 'o', 'dolar', 'baixar\\nse', 'baixar', '@acouleee', '@pneutereza', 'lenda', 'q', 'até', 'macbook', 'tem', 'e', 'minha', 'mãe', 'q', 'tá', 'com', 'macbook', 'pra', 'ver', 'netflix', 'hahahhaha', 'amo', '@sepmadu', 'troca', 'por', 'um', 'macbook.', 'mas', 'se', 'preferir', 'continuar', 'com', 'windows', 'troca', 'o', 'hd', 'por', 'um', 'ssd.', 'melhora', 'bastante', 'eu', 'achando', 'que', 'a', 'laura', 'queria', 'um', 'macbook', 'mas', 'na', 'verdade', 'ela', 'queria', 'mcdonald’s', 'kkkk', 'https://t.co/z1abdttvov', '@_thiag0x', '@thatfatdud3', 'ehhh', 'vai', 'pagar', 'de', 'gatão', 'tocando', 'música', 'no', 'macbook', 'pra', 'se', 'exibir', 'pra', 'gata!', 'ahahha', 'se', 'fode', 'filhadapyta', 'investir', 'é', 'num', 'macbook', 'air', 'bem', 'leve', 'pra', 'não', 'pesar', 'a', 'mochila', 'manter', 'um', 'bom', 'cel', 'e', 'o', 'mínimo', 'de', 'coisas', 'fixas', 'pq', 'quando', 'tudo', 'isso', 'passar', 'eu', 'quero', 'é', 'sumir', 'por', 'aí.', 'to', 'num', 'nível', 'de', 'desgaste', 'e', 'cansaço', 'mental.', 'sou', 'aquariano,', 'tá', 'ficando', 'meio', 'que', 'impossível', 'sanidade', 'preso', 'esse', 'tempo', 'todo.', 'eu', 'to', 'quase', 'trocando', 'de', 'computador', 'cara', 'meu', 'macbook', 'só', 'dificulta', 'eu', 'baixar', 'os', 'jogos', 'filmes', 'etc', 'de', 'graça', 'que', 'ódio', '@al_lanacosta', 'eu', 'quero', 'um', 'macbook', '🙈', '@naniechev', 'no', 'macbook', 'tem', 'a', 'teclinha', 'dele', '=/', 'tenta', 'alt+barra', 'invertida', 'queria', 'tanto', 'virar', 'desenvolvedor', 'ios', 'mas', 'não', 'falta', 'vontade,', 'falta', 'dinheiro', 'pra', 'comprar', 'um', 'macbook...', 'o', '“todo', 'médico', 'vai', 'ser', 'rico”', 'cai', 'por', 'terra', 'quando', 'você', 'vê', 'que', 'todo', 'professor', 'de', 'cirurgia', 'tem', 'um', 'macbook', 'com', 'todos', 'os', 'acessórios', 'e', 'os', 'de', 'clínica', 'tem', 'um', 'dell', 'fuleiro', 'um', 'conhecido', 'sugeriu', '\"macbook', 'air\"', 'antigo...', 'aí', 'olha', 'a', 'alucinação', 'que', 'o', 'pessoal', 'quer', 'em', 'um', 'de', '2011', 'usado.', 'https://t.co/vxjolnf9wf', 'começar', 'a', 'juntar', 'para', 'um', 'macbook', 'daqueles', 'pequenos', 'que', 'dá', 'para', 'levar', 'para', 'todo', 'o', 'lado', 'is', 'my', 'next', 'goal', 'to', 'vendendo', 'meu', 'macbook', 'air', '13', '(2013)', '\\ni7', '1.7', '3.3', 'turbo\\n8gb', 'ram\\n500', 'ssd\\nbateria', 'com', '633', 'ciclos\\nteclado', 'padrão', 'reino', 'unido\\nr$', '4.200', 'vai', 'com', 'carregador', 'original', 'funcionando', 'porém', 'o', 'cabo', 'está', 'levemente', 'comido\\nporto', 'alegre', 'perto', 'do', 'iguatemi\\nrts', 'pls', 'https://t.co/0vwr3e2s7x', 'macbook', 'ultimamente', 'dando', 'uns', 'erro', 'estranho,', 'vamao', 'ver', 'viu', '@apple', 'fantástico', 'nem', 'se', 'preocupou', 'em', 'cobrir', 'a', 'maçã', 'do', 'macbook', 'bom', 'dia', 'para', 'quem', 'sonhou', 'que', 'estava', 'comprando', 'um', 'macbook', 'pro', '🥰', '@vitinzera1', 'naooo', 'po', 'vou', 'pegar', 'usado,', 'macbook', 'pro,', 'nunca', 'q', 'eu', 'gasto', 'isso,', 'no', 'max', '5k', 'a', 'tristeza', 'do', 'pobre', 'é', 'querer', 'um', 'apple', 'watch', 'e', 'um', 'macbook.', '@dalemeupirraia', 'mas', 'tipo,', 'mesmo', 'a', 'galera', 'mais', 'privilegiada', 'não', 'costuma', 'usar', 'o', 'ipad', 'aqui', 'no', 'br.', 'preferem', 'ter', 'o', 'macbook', 'e', 'carregar', 'pra', 'todo', 'lugar', 'do', 'que', 'ter', 'o', 'próprio', 'ipad,', 'é', 'estranho', 'isso', 'toma', 'aqui', 'esse', 'desconto', 'de', '3.500', 'num', 'macbook', 'de', '20.000', '🥰🥰', 'to', 'necessitada', 'de', 'um', 'notebook,', 'vou', 'comprar', 'um', 'usado', 'de', 'até', 'uns', '400', 'que', 'eh', 'o', 'que', 'infelizmente', 'da', 'no', 'meu', 'orçamento.....quando', 'eu', 'ficar', 'rica', 'vou', 'ser', 'que', 'nem', 'meu', 'pai', 'ter', 'um', 'macbook', '💻', '😭', 'inclusive', 'alguém', 'vendendo', 'um?', 'alguém', 'já', 'teve', 'o', 'mítico', 'problema', 'kernel_task', 'que', 'surge', 'do', 'nada', 'e', 'ocupa', '60-70%', 'cpu', 'no', 'macbook?', 'mto', 'obrigada', 'macbook', 'por', 'multiplos', 'desktops', 'a', 'partir', 'do', 'momento', 'que', 'a', 'adobe', 'não', 'me', 'deixa', 'colocar', 'full', 'screen', '🙏🏻🙏🏻🙏🏻🙏🏻', 'primeiro', 'dia', 'de', 'trampo', 'e', 'o', 'pai', 'já', 'tá', 'de', 'macbook', 'pró', 'https://t.co/gdplzownxx', 'estou', 'instalando', 'o', 'windows', '10', 'no', 'meu', 'macbook,', 'só', 'para', 'jogar', '#fullguys', 'kkkk', '@dudabremen', 'entendo', 'sua', 'dor,', 'acho', 'que', 'a', 'unica', 'coisa', 'melhor', 'que', 'um', 'pc', 'gamer', 'pra', 'fzr', 'essas', 'coisas', 'de', 'facul', 'e', 'td', 'é', 'um', 'macbook.', 'é', 'uma', 'delicia', 'a', 'interface', 'do', 'mac', 'e', 'nao', 'trava', 'de', 'jeito', 'nenhum', '@alltoowellpt', 'só', 'em', 'outubro,', 'filho.', 'haverá', 'um', 'evento', 'para', 'iphone', '12,', 'macbook', 'com', 'processador', 'a14x', 'e', 'nova', 'appletv', 'com', 'a14', 'também.', 'queria', 'muito', 'um', 'macbook.', 'karl', 'marx', 'eu', 'falhei', 'com', 'você', '@jvehmole', 'é', 'pq', 'tem', 'gnt', 'q', 'defende', 'com', 'unhas', 'e', 'dentes', 'um', 'macbook', 'mas', 'pra', 'mim', 'é', 'mt', 'dinheiro', 'só', 'pela', 'marca', 'pq', 'q', 'deus', 'não', 'me', 'fez', 'rica', 'pra', 'comprar', 'um', 'macbook', 'pelo', 'airplay', 'para', 'quem', 'tiver', 'macbook.', 'ou', 'utilizar', 'o', 'app', 'transmitir', 'tela', 'para', 'tv', 'https://t.co/jiuwjlfosx\\n\\ndesculpem', 'o', 'transtorno!', '🙏', 'só', 'porque', 'a', 'bonita', 'tem', 'um', 'macbook', 'acha', 'que', 'pode', 'ficar', 'mandando', 'vírus', 'pro', 'meu', 'samsung.', 'abri', 'o', 'macbook,', 'limpei', 'o', 'pó', '\"superficial\",', 'soprei', 'as', 'ventoinha.', 'amanhã', 'vou', 'abrir', 'denovo', 'e', 'usar', 'ar', 'comprimido', 'que', 'eu', 'comprei', 'hoje.\\n\\nmas', 'enfim,', 'o', 'problema', 'parou.', 'doideira.', 'rt', '@maxqmerda:', '\"não', 'podem', 'cancelar', 'o', 'ano', 'letivo!', 'eu', 'estou', 'conseguindo', 'estudar', 'perfeitamente', 'à', 'distância', 'com', 'o', 'meu', 'iphone', '11,', 'meu', 'macbook', 'e…', 'no', 'maior', 'dilema', 'se', 'compro', 'ou', 'não', 'um', 'laptop', 'novo', 'pra', 'trabalhar,', 'pq', 'trabalhar', 'com', 'macbook', 'é', 'complicado', 'com', 'alguns', 'jogos', 'e', 'fora', 'que', 'ele', 'é', 'um', 'pouco', 'antigo', 'já...', 'abaixa', 'o', 'preço', 'do', 'macbook', '#appleevent', 'curte', 'ai', 'para', 'ver', 'o', 'coração', 'rsrsr', '@apple', 'ontem,', 'às', '18:33,', 'fiz', 'uma', 'cópia', 'de', 'segurança', 'para', 'o', 'meu', 'macbook', 'air', 'de', '2013', 'e', 'restaurei', 'o', 'telemóvel', '[iphone', 'xr].', 'o', 'telemóvel', 'do', 'm/pai', 'não', 'era', 'reconhecido', 'pelo', 'm/mac.', 'após', 'ontem', 'nem', 'dormirmos', 'bem,', 'tendo', 'em', 'conta', 'o', 'enorme', 'valor', 'do', 'telemóvel', 'do', 'm/pai,', '(...)', '@ryanbala_22', 'lkkkkkkkkkkk', 'não', 'é', 'ele', 'tadinho,', 'é', 'pelo', 'um', 'macbook', '@thuanmota', 'to', 'na', 'msm', 'meu', 'amigo,', 'desktop', 'ou', 'laptop', 'gamer??', '7k-8k', 'opa', 'macbook', 'pro', 'é', 'quase', 'o', 'msm', 'preço', 'hein??', 'devo', 'investir', 'em', 'uma', 'moto', 'em', 'forma', 'de', 'laptop?', 'talvez??????', 'tá', 'foda', '@stormsbae', 'macbook', 'keksksksks', 'mano', 'quem', 'que', 'da', 'um', 'macbook', 'de', 'presente', 'de', '4', 'meses', 'pra', 'alguém', 'viado', 'queria', 'ter', 'o', 'tanto', 'de', 'dinheiro', 'que', 'esse', 'menino', 'tem', 'porra', '@helioweirdo', 'seca', 'num', 'macbook,', 'porém', 'fora', 'de', 'cogitação.', 'prefiro', 'um', 'carro', '😬', '@kevynp_', 'daí', 'vc', 'compra', 'o', 'macbook', 'e', 'não', 'tem', 'coragem', 'de', 'colar', 'os', 'adesivos....', 'com', 'desejo', 'de', 'macbook', 'juro', 'por', 'tudo', 'q', 'nunca', 'mais', 'compro', 'macbook', 'em', 'toda', 'a', 'minha', 'vida', 'aquele', 'macbook', 'arm', 'vai', 'ser', 'tão', 'sensacional', 'que', 'o', 'patterson', 'vai', 'ter', 'que', 'atualizar', 'o', 'livro', 'dele', '@promisebak', '@isaffonti', 'rpz', 'se', 'eu', 'não', 'macbook', 'é', 'tipo', 'um', 'notebook', 'so', 'q', 'menor,', 'sla', 'mais', 'um', 'dia', 'procurando', 'macbook', 'barato', 'pq', 'a', 'apple', 'não', 'facilita', 'nem', 'pra', 'quem', 'quer', 'trabalhar', 'pra', 'ela', 'queria', 'um', 'notebook', 'pra', 'fazer', 'minhas', 'coisas', 'né', 'ai', 'fui', 'olhar', 'o', 'preço', 'de', 'um', 'macbook', 'pra', 'poder', 'usar', 'como', 'extensão', 'do', 'ipad', 'e', 'o', 'mais', 'barato', 'é', '8000', 'reais😍😍😍\\n\\numa', 'pena', 'então', 'né', 'estarei', 'ficando', 'sem', 'computador', 'mesmo', '@diogoexmachina', 'acho', 'que', 'por', 'enquanto', 'vou', 'manter', 'o', 'meu', 'iphone', 'x.', 'só', 'precisava', 'mesmo', 'de', 'atualizar', 'o', 'macbook', '(comprei', 'o', 'pro', 'de', '13”', 'deste', 'ano)', 'e', 'o', 'apple', 'watch,', 'que', 'está', 'sofrível.', 'bota', 'doomed', 'nisso.', 'pré', 'requisito', 'pra', 'cursar', 'medicina', 'eh', 'ter', 'um', 'macbook', 'eh', '📢', 'sorteio', 'no', 'ig', 'da', '@barbaralabres', '\\n\\n➡️', '1', 'iphone', '11', 'pro', '+', 'macbook', '+', 'airpods', '+', 'apple', 'watch', '\\n\\n•', 'para', 'participar', 'basta:', 'seguir', '@', 'grupoangelafariaaf', 'no', 'intagram', 'e', 'comentar', 'muito', 'na', 'foto', 'do', 'sorteio', 'no', 'instagram', '@', 'barbara.labres', '\\n\\n🚀', 'resultado', 'dia', '25/09', 'no', 'ig', '@', 'resultadosorteioaf', 'https://t.co/1el8zy7zwr']\n",
      "5872\n",
      "___________________________________________\n",
      "___________________________________________\n",
      "___________________________________________\n",
      "['@marinenorstrahl', '@ogascao', '@lucasjtho', 'ou', 'economiza', 'no', 'ifood', 'e', 'compra', 'um', 'macbook', 'pro.', 'vale', 'cada', 'centavo.', 'vendendo', 'um', 'macbook', 'pro', 'bem', 'bichado,', 'porém', 'funcionando.', 'alguém', 'sabe', 'onde', 'posso', 'levar', 'pra', 'reaproveitarem', 'as', 'peças?', 'será', 'que', 'pego', 'ao', 'menos', '1k', 'nele?', 'meu', 'sonho', 'trabalhar', 'numa', 'mesa', 'branca', 'com', 'o', 'meu', 'macbook,', 'um', 'copo', 'de', 'café', 'do', 'lado', 'e', 'fazendo', 'anotação', 'num', 'livro.', 'quando', 'foi', 'que', 'eu', 'virei', 'tão', 'adulta', '?????', '@josiasteofilo', 'eu', 'acho', 'que', 'é', 'sempre', 'mais', 'do', 'mesmo', 'e', 'logo', 'vem', 'muito', 'mais', 'caro,', 'são', 'bons', 'aparelhos?', 'são', 'mas', 'macbook', 'custar', 'mais', 'de', '17k', 'é', 'uma', 'loucura.', 'meu', 'pai', 'querendo', 'q', 'eu', 'escolha', 'um', 'macbook', 'e', 'eu', '😐❓❓❓❓n', 'quero', '@antonyo_almeida', '@alltoowellpt', 'macbook', 'com', 'a14x', 'já?', '@ricaaaaaaaardo', 'só', 'queria', 'um', 'macbook', '😔', 'vai', 'apple', 'lança', 'logo', 'os', 'produtos', 'novos', 'p', 'cair', 'o', 'preço', 'dos', 'antigos', 'p', 'eu', 'comprar', 'um', 'macbook', 'kkkkk', 'mano', 'agora', 'e', 'sério,', 'quando', 'é', 'começa', 'esse', 'bagulho', 'da', 'unifesspa', 'dar', 'os', 'macbook???', 'tenho', 'internet', 'pô', 'preciso', 'e', 'de', 'um', 'computador', 'caraca', 'quero', 'muito', 'um', 'macbook', '2020', '🥰😍', 'me', 'da', 'um', 'macbook', 'ou', 'um', 'imac', 'de', 'natal', 'papai', 'caralho', 'a', 'promoção', 'do', 'ig', 'da', 'bárbara', 'até', 'salivei', 'com', 'o', 'macbook', '🤤', 'eu', 'tenho', 'fé', 'q', 'hoje', 'vai', 'ter', 'apple', 'lançando', 'macbook', 'já', 'c', 'o', 'apple', 'silicon', 'macbook', 'é', 'caro', 'pra', 'crlhhhhh', 'vei', 'não', 'faz', 'sentido', 'nenhum', 'o', 'ipad', 'pro', 'ser', 'mais', 'caro', 'que', 'o', 'macbook', 'air', 'alguem', 'me', 'vende', 'um', 'macbook', 'vocês', 'também', 'levam', 'choque', 'do', 'macbook', 'de', 'vcs?', 'eu', 'sou', 'muito', 'cadelinha', 'da', 'apple,', 'queria', 'muito', 'um', 'applewatch,', 'um', 'macbook,', 'um', 'ipad....', 'poxa', 'todo', 'mundo', 'da', 'minha', 'turma', 'tem', 'macbook', 'namoral', 'revoltante', 'e', 'tenho', 'um', 'macbook', 'pro', '13', 'polegadas', 'core', '2', 'duo', 'zerado', 'também!', 'se', 'botar', 'mais', '4gb', 'de', 'memória', 'e', 'um', 'ssd', 'roda', 'lindo!', 'também', 'era', 'da', 'minha', 'mãe,', 'tá', 'zerado!', 'impecável!', 'r$2500', 'leva!', 'sei', 'que', 'fica', 'legal', 'por', 'que', 'tenho', 'um', 'idêntico', 'e', 'fiz', 'esse', 'upgrade', 'e', 'rodo', 'até', 'logic', 'pro', 'x', 'nele', 'sem', 'problemas!', 'comprar', 'macbook', 'uma', 'enorme', 'furada', 'pra', 'mulher', 'que', 'vai', 'investir', 'na', 'carreira', 'gamer', '(stream', 'de', 'the', 'sims)', 'tô', 'precisando', 'comprar', 'um', 'notebook', 'bom', 'pra', 'programar,', 'pro', 'caso', 'de', 'acontecer', 'de', 'eu', 'ficar', 'sem', 'internet', 'em', 'casa', 'igual', 'quinta', 'e', 'sexta.', 'estava', 'pesquisando', 'os', 'preços', 'do', 'macbook', 'e', 'é', 'absurdo', 'o', 'preço', 'disso', 'aqui', 'no', 'brasil.', 'na', 'verdade,', 'o', 'preço', 'dos', 'produtos', 'da', 'apple', 'aqui', 'no', 'br', 'é', 'um', 'assalto.', 'decidi', 'q', 'n', 'vou', 'comprar', 'um', 'nada', 'ate', 'eu', 'juntar', 'dinheiro', 'p', 'comprar', 'um', 'macbook', 'o', 'capitalismo', 'venceu', '@rosana', 'e', 'o', 'meu', 'macbook', 'pro', 'de', '2018', 'que', 'está', 'com', 'um', 'problema', 'no', 'flat', 'cable', 'e', 'tem', 'que', 'trocar', 'a', 'tela', 'inteira', 'que', 'custa', '4500,00?', 'o', 'pior', 'é', 'que', 'é', 'um', 'problema', 'crônico', 'da', 'apple,', 'estão', 'sendo', 'processados', 'por', 'isso', 'nos', 'eua,', 'mas', 'não', 'querem', 'saber.', 'eu', 'que', 'lute', '@eduss26', '@rulexcat', '@opedry', 'na', 'realidade', 'tem', 'rumores', 'de', 'realmente', 'só', 'anunciar', 'no', 'evento', 'de', 'outubro', 'mesmo,', 'hoje', 'seria', 'focado', 'no', 'apple', 'watch,', 'ipad,', 'airtags', 'e', 'talvez', 'ano', 'novo', 'macbook', 'com', 'apple', 'silicon', '@whatreweliving4', 'ai', 'nem', 'me', 'lembre', 'disso,', 'os', 'katycats', 'doaram', 'mais', 'de', 'mil', 'dólares', 'pra', 'ajudar', 'na', 'musica', 'da', 'katy', 'e', 'ele', 'foi', 'lá', 'e', 'comprou', 'um', 'macbook', 'https://t.co/m3nnnt6x91', 'pai', 'me', 'de', 'um', 'macbook', 'imediatamente', 'eu', 'quero', 'apoiar', 'o', 'capitalismo', 'vai', 'anda', 'anda', '@ruimoura', 'n', 'tenho', 'problemas', 'em', 'comprar', 'coisas', 'da', 'apple', 'porque', 'a', 'qualidade', 'é', 'de', 'facto', 'impressionante.tenho', 'uma', 'pessoa', 'na', 'empresa', 'que', 'ainda', 'usa', 'um', 'macbook', 'air', 'de', '2011', 'e', 'ainda', 'bomba', 'forte.nunca', 'tive', 'nada', 'que', 'se', 'estragasse.a', 'rodinha', 'do', 'watch', 's2', 'foi', 'a', 'única', 'coisa', 'até', 'hj', 'q', 'me', 'deixou', 'de', 'funcionar', 'alguém', 'me', 'da', 'um', 'macbook', '@krikrikrine', 'e', 'menina', 'ele', 'nem', 'é', 'rico,', 'só', 'pose', 'com', 'o', 'macbook', 'e', 'a', 'caneta', 'de', '500', 'reais', 'meu', 'setup', 'de', 'trampo', 'atual:', '-', 'ipad', 'pro', '2018', '-', 'macbook', 'pro', '13”', '2015', 'apple', 'é', 'caro?', 'é!', 'é', 'muito', 'caro!', 'mas', 'dura!', 'e', 'lembre-se:', 'são', 'ferramentas', 'de', 'trabalho!', 'sou', 'apple', 'fag', 'em', 'alguns', 'sentidos', '...', 'por', 'exemplo', 'eu', 'não', 'teria', 'nem', 'um', 'apple', 'watch', 'nem', 'um', 'airpod', '...', '#appleevent', 'https://t.co/dsadoklodb', 'meu', 'deuuussss', 'cara', 'como', 'eu', 'odeio', 'macbook', 'puta', 'que', 'pariu', 'rt', '@oibalfoaoj:', 'deus', 'eu', 'juro', 'que', 'se', 'o', 'senhor', 'transformar', 'meu', 'notebook', 'em', 'um', 'macbook', 'eu', 'não', 'conto', 'pra', 'ninguém', 'digo', 'pra', 'todo', 'mundo', 'que', 'ganhei…', 'agora', 'q', 'o', 'trampo', 'me', 'mandou', 'um', 'macbook,', 'vou', 'poder', 'usar', 'macvim', 'novamente', ':3', 'quando', 'eu', 'tiver', 'dinheiro', 'e', 'tiver', 'um', 'macbook', 'eu', 'vou', 'lembrar', 'aff', 'queria', 'ter', 'um', 'macbook', 'pro', 'https://t.co/q5w0gintqg', 'vcs', 'acham', 'melhor', 'eu', 'comprar', 'um', 'macbook', 'ou', 'um', 'ipad?', 'lembro', 'que', 'antigamente', 'eu', 'ficava', 'doido', 'com', 'esses', 'eventos', 'da', 'apple,', 'hj', 'em', 'dia', 'cago', 'baldes', 'não', 'odeio', 'a', 'apple', 'nem', 'nada,', 'adoro', 'o', 'macbook', 'e', 'nunca', 'usei', 'nenhum', 'computador', 'melhor,', 'mas', 'acho', 'muito', 'buzz', 'pra', 'pouca', 'inovação', 'real,', 'tudo', 'muito', 'caro', 'só', 'pela', 'marca', '#appleevent', 'eu', 'sei', 'que', 'já', 'sou', 'cadelinha', 'da', 'apple....', 'macbook,', 'airpods,', 'iphone', 'e', 'apple', 'watch.....', 'já', 'quero', 'trocar', 'meu', 'iphone', 'e', 'meu', 'apple', 'watch', 'aaaaa', 'quem', 'acostuma', 'com', 'ios,', 'pra', 'depois', 'pegar', 'qualquer', 'eletrônico', 'da', 'samsung', 'é', 'puxado', 'viu,', 'tudo', 'que', 'eu', 'queria', 'era', 'um', 'macbook', '@rosaliaxxo', 'quantas', 'vezes', 'vc', 'já', 'deu', 'zoom', 'nessa', 'foto?', 'foi', 'aí', 'que', 'eu', 'descobri', 'que', 'a', 'câmera', 'do', 'macbook', 'não', 'presta', 'hahahahaha', 'eu', 'to', 'passando', 'tanta', 'raiva', 'com', 'esse', 'notebook', 'novo', 'da', 'acer,', 'que', 'se', 'eu', 'tivesse', 'um', 'cartão', 'de', 'crédito', 'com', 'limite', 'alto', 'mas', 'eu', 'com', 'certeza', 'financiava', 'um', 'macbook', 'air,', 'pq', 'ios', 'nunca', 'me', 'decepciona', 'e', 'não', 'me', 'deixa', 'na', 'mão.', 'macbook', 'é', 'uma', 'coisa', 'que', 'não', 'me', 'falta', 'nem', 'dinheiro', 'me', 'falta', 'é', 'coragem', 'mesmo', 'o', 'cara', 'estuda', 'eletrônica', 'pra', 'usar', 'macbook', 'pqp', 'por', 'quanto', 'eu', 'consigo', 'vê', 'der', 'um', 'macbook', 'pro', 'de', '2006?', '@renanbocalon', '@zehzito', 'eu', 'tremi', 'aqui', 'de', 'vontade,', 'visse?', 'uso', 'o', 'macbook', 'pro,', 'adoro.', 'mas', 'a', 'versatilidade', 'do', 'ipad', 'é', 'ma-ra-vi-lho-sa.', 'to', 'encantado!', '@joseadorno', 'que', 'usa', 'no', 'dia', 'a', 'dia', 'e', 'ama!', 'o', 'macbook', 'ta', 'a', 'hora', 'da', 'morte.', 'começando', 'em', 'dez', 'mil', 'reais', 'amigas', 'https://t.co/85csxzapo8', 'ngm', 'quer', 'me', 'dar', 'um', 'macbook?', 'alguém', 'me', 'da', 'um', 'macbook?', 'hahah', '@apple', 'quero', 'um', 'macbook,', 'o', 'preço', 'do', 'mais', 'simples', 'no', 'brasil', 'da', 'pra', 'viajar,', 'comprar', 'fora,', 'passear', 'e', 'voltar...', 'corona,', 'me', 'ajuda', 'ai', 'vai!', 'felizona', 'pq', 'o', 'pai', 'comprou', 'o', 'macbook', 'dele', '🤩', '@pxrsonv', 'eu', 'confiei', 'demais', 'no', 'meu', 'macbook,', 'esse', 'foi', 'o', 'erro', 'yoongi', 'me', 'da', 'seu', 'macbook', 'antigo', 'q', 'ta', 'guardado', 'no', 'seu', 'armario', 'e', 'eu', 'digo', 'se', 'esperava', 'ou', 'nao', 'rt', '@najuh_batista:', 'preciso', 'comprar', 'um', 'macbook', 'pra', 'ontem😭😭', '@allysonrodrigoo', 'macbook', 'são', 'tudo,', 'a', 'qualidade', 'de', 'imagem', 'nenhum', 'outro', 'vai', 'dar.', 'porém', 'acho', '13', 'polegadas', 'pequeno', 'mas', 'depende', 'do', 'teu', 'uso.', 'pensei', 'em', 'comprar', 'um', 'mas', 'vou', 'ficar', 'de', 'ipad', 'pro', '2018', 'que', 'tá', 'uns', '800€', 'e', 'faz', 'praticamente', 'tudo', 'que', 'um', 'notebook', 'faz', '#appleevent', 'e', 'nois', 'só', 'querendo', 'um', 'macbook', 'air', 'arrumar', 'um', 'emprego', 'na', 'nubank', 'pra', 'ganhar', 'um', 'macbook', '@xicocomch', 'é', 'o', 'que', 'aconteceu', 'comigo.', 'tava', 'na', 'plataforma', 'mac', 'há', '20', 'anos.', 'meu', 'último', 'macbook', 'durou', '9,', 'era', 'um', 'pro', 'final', 'de', '2011.', 'mas', 'foi', 'impossível', 'seguir.', 'tive', 'que', 'migrar', 'pro', 'windows.', '@blogdoiphone', 'não', 'uso', 'google', 'chrome', 'nem', 'no', 'macbook,', 'safari', 'é', 'vida', 'comprei', 'um', 'macbook', 'pela', 'internet', 'e', 'não', 'vou', 'dormir', 'em', 'paz', 'enquanto', 'não', 'chegar', 'aqui,', 'medo', 'do', 'golpe', 'meu', 'limite', 'no', '@nubank', 'não', 'da', 'nem', 'pra', 'comprar', 'um', '@apple', 'macbook', 'air', 'meu', 'pai', 'falando', 'que', 'vai', 'levar', 'meu', 'notebook', 'pra', 'empresa', 'e', 'que', 'vai', 'me', 'comprar', 'um', 'novo', '“ta', 'mas', 'tem', 'que', 'ser', 'um', 'macbook,', 'pq', 'eu', 'odeio', 'samsung”', '“fica', 'com', 'ele', 'mesmo', 'da', 'pra', 'usar', 'ainda', 'né?”', 'queria', 'um', 'macbook,', 'mas', 'um', 'macbook', 'não', 'posso', 'ter', 'pois', 'ele', 'é', 'muito', 'caro', 'e', 'o', 'dinheiro', 'que', 'eu', 'tenho', 'é', 'pra', 'ver', 'você', 'https://t.co/rkdoo9jyup', 'nossa', 'mano,', 'macbook', 'air', 'tá', 'muito', 'mais', 'barato', 'do', 'q', 'eu', 'pensei', 'hmmmmmmmmmmmmmmm', '@rodeicomfino', 'kkkkkkk', 'pia', 'o', 'macbook', 'do', 'matheus', 'corrige', 'tudo', 'mano,', 'to', 'no', 'odio', 'ja,', 'era', 'pra', 'se', 'ganja', 'vi', 'agr', 'pouco', 'q', 'tava', 'errado', '@kaizergabriel', 'gostou', 'todas', 'as', 'economias', 'comprando', 'o', 'macbook', 'que', 'não', 'sobrou', 'dinheiro', 'pra', 'mais', 'nada', '@xiumiaubr', 'nem', 'tenho', 'um', 'iphone,', 'tenho', 'um', 'macbook', 'pro,', 'aquela', 'desgraça', 'que', 'descarrega', 'muito', 'rápido', 'alguém', 'me', 'da', 'um', 'macbook', 'pro', '2014', 'com', 'ssd', 'de', '1tb', 'e', '16gb', 'de', 'ram', 'preciso', 'comprar', 'um', 'macbook', 'pra', 'ontem😭😭', 'seriamente', 'pensando', 'em', 'comprar', 'um', 'teclado', 'mecânico', 'sem', 'fio,', 'esse', 'teclado', 'do', 'macbook', 'é', 'mto', 'ridículo', '@parnasopunk', '@jvehmole', 'macbook', 'bom', 'é', 'macbook', 'na', 'vitrine', 'da', 'loja', 'empoeirando', 'dias', 'de', 'luta', 'e', 'dias', 'de', 'glória,', 'agora', 'eu', 'tenho', 'um', 'windows', 'dentro', 'do', 'macbook', '🥺', 'https://t.co/dwlrrz16yv', 'coisas', 'que', 'aprendi', 'sobre', 'mac:', '-', 'eu', 'não', 'gosto', 'de', 'macbook.', '-', 'eu', 'prefiro', 'windows', 'ao', 'macos', '-', 'detesto', 'a', 'interface', 'do', 'macos', '-', 'gosto', 'do', 'imac,', 'apesar', 'dos', '3', 'pontos', 'acima.', '-', 'não', 'curto', 'o', 'magic', 'mouse', 'e', 'acho', 'ele', 'uma', 'droga', '@guicury', '@oandrefogaca', 'qual', 'o', 'seu', 'macbook?', 'pode', 'ser', 'que', 'o', 'modelo', 'dele', 'nao', 'tenha', 'suporte', 'para', 'transferencia', 'rápida', 'com', 'o', 'bt', 'quando', 'disseram', 'que', 'não', 'dá', 'p', 'jogar', 'no', 'macbook,', 'não', 'estavam', 'errados', 'sdd', 'qnd', 'os', 'amigos', 'do', 'meu', 'pai', 'davam', 'macbook', 'quebrado', 'pra', 'ele', 'consertar', 'por', 'mil', 'reais', 'e', 'ser', 'meu......', 'alguém', 'sabe', 'me', 'dizer', 'se', 'macbook', 'é', 'bom', 'pra', 'fazer', 'live?', '(mobile', 'no', 'caso)', 'a', 'apple', 'vai', 'ter', 'que', 'lidar', 'agora', 'com', 'a', 'nvidia', 'após', 'a', 'aquisição', 'da', 'arm,', 'o', 'apple', 'silicon', 'que', 'estará', 'presente', 'no', 'novo', 'macbook', 'é', 'baseado', 'na', 'arquitetura', 'arm', 'licenciada.', '😅', 'https://t.co/cbsm9mgcjp', 'pessoas', 'com', 'macbook', 'como', 'q', 'faz', 'pra', 'usar', 'o', 'word..', 'power', 'point?', 'bom', 'eu', 'enfiei', 'na', 'cabeça', 'que', 'quero', 'um', 'macbook', 'e', 'so', 'consigo', 'pensar', 'nisso', '@caioincau', 'pra', 'quem', 'está', 'começando', 'na', 'área', 'e', 'principalmente', 'no', 'brasil,', 'comprar', 'um', 'macbook', 'é', 'algo', 'impensável', 'e', 'você', 'tem', 'muito', 'mais', 'valor', 'comprando', 'um', 'laptop', 'com', 'bom', 'suporte', 'pra', 'linux', 'e', 'se', 'aventurando', 'no', 'windows', 'com', 'wsl2.', 'macbook', 'eh', 'tao', 'caro', 'nunca', 'vou', 'ter', 'um😢', 'mais', 'de', 'um', 'ano', 'que', 'ganhei', 'meu', 'macbook', 'e', 'até', 'hoje', 'descubro', 'coisas', 'novas', 'nele', '@98squeen', '10k', 'num', 'macbook', 'p', 'acessar', 'email', 'com', 'mais', 'praticidade', 'maldito', 'rwindows,', 'alguém', 'me', 'compra', 'um', 'macbook?', 'https://t.co/4ixmepdmvr', 'eu', 'to', 'sonhando', 'tanto', 'com', 'um', 'macbook', 'pqp.', 'algm', 'me', 'empresta', '10000', 'nmrl', 'rt', '@marianalsvgss:', 'começar', 'a', 'juntar', 'para', 'um', 'macbook', 'daqueles', 'pequenos', 'que', 'dá', 'para', 'levar', 'para', 'todo', 'o', 'lado', 'is', 'my', 'next', 'goal', 'gente', 'bom', 'dia', 'quero', 'um', 'macbook', 'https://t.co/zvzsfrhwdn', '@thcarvao', 'seu', 'irmão', 'tem', 'o', 'pro,', 'que', 'é', 'uma', 'fortuna,', 'assim', 'como', 'o', 'macbook', 'tb', 'é', 'uma', 'fortuna', 'rs', 'macbook', 'é', 'um', 'lixo', 'mds', 'não', 'sei', 'como', 'a', 'apple', 'vende', 'um', 'negócio', 'desses', '@luksrx', 'sim?', 'irei', 'comprar', 'meu', 'macbook', 'o', 'dia', 'inteiro', 'tentando', 'formatar', 'o', 'macbook', '🥵🥵', 'só', 'queria', 'comprar', 'um', 'macbook', 'afff', 'meu', 'sonho', 'de', 'princesa', '@duarteyuri_', 'migo,', 'é', 'bem', 'melhor!', 'eu', 'comprei', 'um', 'macbook', 'pro', 'e', 'agora', 'é', 'usb-c,', 'é', 'super', 'tendência.', 'mais', 'possibilidades.', 'a', 'pior', 'coisa', 'de', 'vc', 'ter', 'um', 'macbook', 'é', 'que', 'a', 'maioria', 'dos', 'tutoriais', 'de', 'alguma', 'coisa', 'são', 'em', 'inglês', '😩', 'macbook', 'é', 'tudo', 'de', 'mais', 'perfeito', 'que', 'existe', 'puta', 'merda', 'aguardando', 'ansiosamente', 'o', 'momento', 'que', 'vou', 'ter', 'dinheiro', 'pra', 'comprar', 'um', 'macbook,', 'pq', 'eu', 'odeio', 'esses', 'notebooks', 'lentosssss', 'aaaa', 'seria', 'meu', 'sonho', 'ganhar', 'um', 'macbook?', 'puta', 'merda', 'aaaaaaaa', 'comprei', 'meu', 'macbook', 'caralhooooii', 'nem', 'acreditooooo', '(com', 'meu', 'fucking', 'dinheiroooooo)', 'e', 'chega', 'em', '4', 'dias', 'úteis', 'aaaaaaaaaaaa', '✨✨✨✨✨', 'queria', 'um', 'macbook', 'tbm', '#appleevent', 'queria', 'mto', 'um', 'macbook', 'to', 'chorando', 'mas', 'com', 'o', 'valor', 'q', 'ta', 'o', 'dolar', 'não', 'da', 'coragem', 'de', 'comprar', '@nammyeee', 'aliás...', 'meu', 'macbook', 'foi', 'igual...', 'a', 'cada', 'atualização', 'ficava', 'mais', 'lento', 'até', 'ele', 'ficar', 'utilizável...', 'ai', 'um', 'dia', 'a', 'apple', 'deu', 'a', 'ultima', 'atualização....', 'e', 'parou', 'de', 'dar', 'suporte....', 'eu', 'formatei', 'do', 'zero', 'e', 'instalei', 'a', 'ultima', 'versao', 'do', 'sistema....', 'ta', 'otimo', 'agora...', 'investir', 'é', 'num', 'macbook', 'air', 'bem', 'leve', 'pra', 'não', 'pesar', 'a', 'mochila', 'manter', 'um', 'bom', 'cel', 'e', 'o', 'mínimo', 'de', 'coisas', 'fixas', 'pq', 'quando', 'tudo', 'isso', 'passar', 'eu', 'quero', 'é', 'sumir', 'por', 'aí.', 'to', 'num', 'nível', 'de', 'desgaste', 'e', 'cansaço', 'mental.', 'sou', 'aquariano,', 'tá', 'ficando', 'meio', 'que', 'impossível', 'sanidade', 'preso', 'esse', 'tempo', 'todo.', 'eu', 'to', 'quase', 'trocando', 'de', 'computador', 'cara', 'meu', 'macbook', 'só', 'dificulta', 'eu', 'baixar', 'os', 'jogos', 'filmes', 'etc', 'de', 'graça', 'que', 'ódio', '@al_lanacosta', 'eu', 'quero', 'um', 'macbook', '🙈', 'começar', 'a', 'juntar', 'para', 'um', 'macbook', 'daqueles', 'pequenos', 'que', 'dá', 'para', 'levar', 'para', 'todo', 'o', 'lado', 'is', 'my', 'next', 'goal', 'macbook', 'ultimamente', 'dando', 'uns', 'erro', 'estranho,', 'vamao', 'ver', 'viu', '@apple', '@vitinzera1', 'naooo', 'po', 'vou', 'pegar', 'usado,', 'macbook', 'pro,', 'nunca', 'q', 'eu', 'gasto', 'isso,', 'no', 'max', '5k', 'alguém', 'já', 'teve', 'o', 'mítico', 'problema', 'kernel_task', 'que', 'surge', 'do', 'nada', 'e', 'ocupa', '60-70%', 'cpu', 'no', 'macbook?', 'mto', 'obrigada', 'macbook', 'por', 'multiplos', 'desktops', 'a', 'partir', 'do', 'momento', 'que', 'a', 'adobe', 'não', 'me', 'deixa', 'colocar', 'full', 'screen', '🙏🏻🙏🏻🙏🏻🙏🏻', 'estou', 'instalando', 'o', 'windows', '10', 'no', 'meu', 'macbook,', 'só', 'para', 'jogar', '#fullguys', 'kkkk', '@dudabremen', 'entendo', 'sua', 'dor,', 'acho', 'que', 'a', 'unica', 'coisa', 'melhor', 'que', 'um', 'pc', 'gamer', 'pra', 'fzr', 'essas', 'coisas', 'de', 'facul', 'e', 'td', 'é', 'um', 'macbook.', 'é', 'uma', 'delicia', 'a', 'interface', 'do', 'mac', 'e', 'nao', 'trava', 'de', 'jeito', 'nenhum', 'queria', 'muito', 'um', 'macbook.', 'karl', 'marx', 'eu', 'falhei', 'com', 'você', '@jvehmole', 'é', 'pq', 'tem', 'gnt', 'q', 'defende', 'com', 'unhas', 'e', 'dentes', 'um', 'macbook', 'mas', 'pra', 'mim', 'é', 'mt', 'dinheiro', 'só', 'pela', 'marca', 'no', 'maior', 'dilema', 'se', 'compro', 'ou', 'não', 'um', 'laptop', 'novo', 'pra', 'trabalhar,', 'pq', 'trabalhar', 'com', 'macbook', 'é', 'complicado', 'com', 'alguns', 'jogos', 'e', 'fora', 'que', 'ele', 'é', 'um', 'pouco', 'antigo', 'já...', 'abaixa', 'o', 'preço', 'do', 'macbook', '#appleevent', 'curte', 'ai', 'para', 'ver', 'o', 'coração', 'rsrsr', '@helioweirdo', 'seca', 'num', 'macbook,', 'porém', 'fora', 'de', 'cogitação.', 'prefiro', 'um', 'carro', '😬', 'com', 'desejo', 'de', 'macbook', 'juro', 'por', 'tudo', 'q', 'nunca', 'mais', 'compro', 'macbook', 'em', 'toda', 'a', 'minha', 'vida', 'mais', 'um', 'dia', 'procurando', 'macbook', 'barato', 'pq', 'a', 'apple', 'não', 'facilita', 'nem', 'pra', 'quem', 'quer', 'trabalhar', 'pra', 'ela', 'queria', 'um', 'notebook', 'pra', 'fazer', 'minhas', 'coisas', 'né', 'ai', 'fui', 'olhar', 'o', 'preço', 'de', 'um', 'macbook', 'pra', 'poder', 'usar', 'como', 'extensão', 'do', 'ipad', 'e', 'o', 'mais', 'barato', 'é', '8000', 'reais😍😍😍', 'uma', 'pena', 'então', 'né', 'estarei', 'ficando', 'sem', 'computador', 'mesmo']\n",
      "___________________________________________\n",
      "___________________________________________\n",
      "___________________________________________\n",
      "['@giovannatorrres', 'vai', 'trouxa,', 'compra', 'macbook', 'estando', 'acostumada', 'com', 'windows', 'desde', 'sempre', 'rt', '@go_nikaido:', 'pensando', 'aqui', 'o', 'macbook', 'do', 'chan', 'parece', 'uma', 'bomba', 'https://t.co/hefmtybspc', 'a', 'maior', 'decepção', 'com', 'meu', 'macbook', 'novo', 'é', 'que', 'ele', 'simplesmente', 'não', 'tem', 'cheiro.', 'nenhum.', 'nada', 'daquele', 'cheirinho', 'de', 'novo.', 'tou', 'achando', 'q', 'é', 'por', 'causa', 'daquelas', 'leis', 'novas', 'da', 'ce', 'q', 'proíbem', 'cheiros', 'tóxicos', 'nos', 'produtos', 'eu', 'responderia:', 'saúde,', 'um', 'mundo', 'mais', 'justo,', 'a', 'vacina', 'da', 'covid', 'para', 'todos,', 'voltar', 'a', 'trabalhar,', 'e', 'um', 'macbook', 'novo.', 'me', 'atende,', 'papai', 'noel.', 'amiga', 'tu', 'ja', 'ouviu', 'falar', 'em', 'formatar', 'computador????\\nnao', 'precisava', 'jogar', 'um', 'macbook', 'bom', 'no', 'rio', '\\nera', 'só', 'formatar', '@stuarttliro', 'macbook,', 'ipad,iphone', 'e', 'o', 'carregador', 'ta', 'de', 'bom', 'tamanho🤝', 'rt', '@alvaropereirajr:', 'no', 'apavorante', 'mausoléu', 'onde', 'estão', 'os', 'corpos', 'embalsamados', 'de', 'kim', 'il-sung', 'e', 'kim', 'jong-il,', 'em', 'pyongyang,', 'uma', 'das', 'atrações…', 'deus', 'eu', 'juro', 'que', 'se', 'o', 'senhor', 'transformar', 'meu', 'notebook', 'em', 'um', 'macbook', 'eu', 'não', 'conto', 'pra', 'ninguém', 'digo', 'pra', 'todo', 'mundo', 'que', 'ganhei', 'em', 'sorteio', 'do', 'instagram', '@finalde2003', 'pfv', 'n', 'me', 'diga', 'q', 'é', 'um', 'macbook', 'carta', 'irmão', 'josé', 'branham', 'as', 'últimas', 'dores', 'do', 'parto', 'https://t.co/irjjirmly3', '#macbook', 'rt', '@novacanedude:', 'hoje', 'sonhando', 'mais', 'que', 'nunca', 'com', 'meu', 'amor,', 'cada', 'um', 'com', 'um', 'macbook', 'trabalhando', 'em', 'nossa', 'casa', 'própria', 'e', 'falando', '“lembra', 'amo…', 'nao', 'confio', 'em', 'pessoas', 'q', 'tem', 'macbook', 'essa', 'é', 'uma', 'convicção', 'q', 'já', 'levo', 'há', 'anos', 'comigo', 'rt', '@cantinholabres:', '📢', 'sorteio', 'no', 'ig', 'da', '@barbaralabres', '\\n\\n➡️', '1', 'iphone', '11', 'pro', '+', 'macbook', '+', 'airpods', '+', 'apple', 'watch', '\\n\\n•', 'para', 'participar', 'basta:', 'seg…', 'queria', 'adesivinhos', 'bonitos', 'pra', 'colar', 'na', 'tampa', 'do', 'macbook', 'a', 'pessoa', 'com', 'um', '~macbook~', 'e', 'tendo', 'que', 'suar', 'a', 'tábua', 'de', 'passar', 'roupa', 'como', 'mesa?', 'https://t.co/spfw2fscyp', 'na', 'primeira', 'dificuldade', 'que', 'eu', 'esbarrei', 'já', 'desisti', 'e', 'montei', 'meu', 'setup', 'com', 'o', 'macbook', 'no', 'monitor', 'externo', 'de', 'novo', '@fskripski', '@ninaflsbrt', 'tem', 'fonte', 'paralela', 'nova', 'por', 'uns', '100~150', 'no', 'mercado', 'livre\\nse', 'não', 'se', 'importar', 'de', 'comprar', 'uma', 'original', 'usada,', 'vai', 'de', 'olx:\\n\\nhttps://t.co/zvxgiy62g2', '@rodidico', 'a', 'única', 'pessoa', 'que', 'porta', 'um', 'macbook', 'e', 'é', 'gente', 'boa', 'que', 'eu', 'conheço', 'é', 'o', 'fábio', '@pirigotico', 'ele', 'de', 'macbook', 'e', 'calça', 'marrom', 'https://t.co/1ocbaxaa2m', 'atualizei', 'meu', 'macbook', 'pro', 'catalina', 'e', 'já', 'baixei', 'fl', 'studio', 'boa', 'eu', 'depois', 'que', 'atualizei', 'o', 'sistema', 'operacional', 'e', 'trouxe', 'meu', 'macbook', 'de', 'volta', 'a', 'vida', 'https://t.co/f93awokadp', 'em', '2018', 'tivemos', '2', \"#appleevent's:\\n1°-\", '12/setembro', '-', 'iphones', 'xs,', 'xs', 'max,', 'xr,', 'apple', 'watch', 'series', '4;\\n\\n2°-', '30/outubro', '-', 'ipad', 'pro,', 'macbook', 'air', 'e', 'mac', 'mini;\\n\\njá', 'esse', 'ano', '(2020)\\n1°', '-', '15/setembro\\n2°', '-', '??/outubro\\n\\nqual', 'o', 'seu', 'palpite?\\ncomente', 'para', 'dias', 'diferentes\\n\\n#appleevent', '#appleevent2020', 'como', 'gravar', 'ligações', 'no', 'iphone', '-', 'tweak', 'audio', 'recorder', 'xs', '#pago', '|', '👍🏾', '🇧🇷', '📲\\nhttps://t.co/olyekgfx8o\\n\\n#retweet', 'no', '#post', 'para', 'mais', '#pessoas', 'terem', '#visibilidade.', '#apple', '#ios', '#iphone', '#ipad', '#applewatch', '#macbook', '#homepod', '#ipadpro', '#applesyncbrasil', '🇧🇷', 'era', 'pra', 'eu', 'estar', 'dormindo', 'mas', 'to', 'vendo', 'preço', 'macbook', '@lirounani', '@macedeusa_', 'eu', 'ri', 'quando', 'a', 'gente', 'falou', 'que', 'ele', 'era', 'rico', 'quando', 'a', 'gnt', 'viu', 'o', 'macbook', 'dele', 'e', 'ele', '*gente', 'nada', 'ver', 'eu', 'comprei', 'em', 'nova', 'york*', '@nicacio_7', '@ammorajoias_', '@tatuagefoda', 'eu', 'pedi', 'o', 'macbook,', 'você', 'não', 'me', 'deu.', 'a', 'fila', 'anda', 'alguem', 'sabe', 'uma', 'maneira', 'rapida', 'de', 'passar', '10', 'mil', 'fotos', 'do', 'rolo', 'da', 'camera', 'pro', 'macbook', 'sem', 'ser', 'pelo', 'itunes', 'ou', 'importando???', '🆘', 'pelo', 'amor', 'de', 'deus', 'se', 'alguém', 'entender', 'de', 'macbook', 'ajude', 'meu', 'google', 'chrome', 'voltar', 'a', 'pegar', 'eu', 'boto', 'as', 'página', 'pra', 'carregar', 'e', 'não', 'carrega', 'nada', 'fica', 'só', 'rodando', 'o', 'bicho', 'lá', 'aí', 'qnd', 'boto', 'pra', 'reconfigurar', 'não', 'vai', 'e', 'já', 'desinstalei', 'e', 'instalei', 'também', 'o', 'que', 'eu', 'faço', 'meu', 'deus???????????????', 'https://t.co/6azzta7mqq', 'queria', 'um', 'adesivo', 'do', 'psicopato', 'do', 'meu', 'avatar', 'pra', 'fechar', 'a', 'maçã', 'do', 'meu', 'macbook', 'sera', 'que', 'sou', 'nerd', 'olha', 'oq', 'eu', 'gosto', 'de', 'assistir\\n\\nunboxing', 'a', 'sealed', '17', 'inch', 'macbook', 'pro', 'from', '2007!', 'https://t.co/cssxyxcgdv', 'via', '@youtube', '@kevynp_', 'mano', 'sim,', 'kkkkk', 'só', 'um', 'macbook', 'pro', 'pra', 'eu', 'colar', 'uns', 'adesivinho', '@lmjcc1', 'mostrou', 'para', 'ela', 'o', 'app', 'furacões?\\npediu', 'para', 'ela', 'guardar', 'o', 'macbook?', '📲', 'indiana', 'massara', 'via', 'instagram.\\n\\n“tempo', 'de', 'oferta', '🤑\\nquem', 'está', 'pronto', 'para', 'ganhar', 'um', 'monte', 'de', 'prêmios', 'de', 'incríveis?', '\\n\\nfiz', 'uma', 'parceria', 'com', 'a', 'international', 'loops', 'para', 'dar', 'a', 'você', 'um', 'iphone', '11,', 'um', 'laptop', 'macbook', 'air,', 'um', 'ipad', 'pro', 'e', 'airpods', 'ou', '$1000', 'em', 'dinheiro!', '', '🏦', '(+)', 'https://t.co/q1cjgkeqjl', 'adivinha', 'quem', 'trabalha', 'com', 'macbook', 'agora', 'https://t.co/xacy0lbs0q', 'hj', 'tem', '#appleevent', 'a', 'esperança', 'é', 'q', 'novos', 'lançamentos', 'diminuem', 'os', 'preços', 'do', 'q', 'ja', 'foi', 'lançado', 'neammmm!', 'pq', 'ta', 'f****!', 'ate', 'queria', 'um', 'computador', 'novo', 'mas', 'pagar', 'o', 'preço', 'de', 'um', 'carro', 'n', 'da', 'nao!', 'lembro', 'q', 'paguei', '3', 'mil', 'e', 'pouco', 'no', 'meu', 'macbook', 'em', '2011', 'e', 'ja', 'achava', 'absurdo!!', 'agora', 'ta', 'quase', 'um', 'notícias\\n#news', '#outlet', '#blog', '#apple', '#iphone', '#ipad', '#macbook', '#asap', '', '\\nhttps://t.co/kxha5ie5qz', 'povo', 'se', 'sujeita', 'a', 'entrar', 'na', 'fazenda', 'para', 'ganhar', 'um', 'cachê', 'que', 'basicamente', 'é', 'o', 'preço', 'de', 'um', 'macbook.', '3', 'meses', 'de', 'expondo', 'de', 'uma', 'forma', 'agressiva', 'por', 'isso?', 'meio', 'hard.', 'eu', 'não', 'ia.', '🤔🤔🤔', '@nicesx_', 'porra', 'bicho,', 'aí', 'a', 'gnt', 'só', 'pode', 'fechar', 'o', 'negócio', 'qnd', 'eu', 'souber', 'qual', 'mac', 'q', 'ela', 'vai', 'te', 'dar\\n\\nslc,', 'vai', 'que', 'eu', 'do', 'foto', 'da', 'minha', 'raba', 'por', 'um', 'macbook', 'air,', 'aí', 'eu', 'me', 'mato', 'de', 'vez', 'macbook', 'ou', 'ipad', 'com', 'teclado?', 'o', 'que', 'fazer', 'com', 'um', 'macbook', 'pro', '2011', 'meio', 'vivo', 'meio', 'morto??', 'bom', 'dia,', 'eu', 'quero', 'saber', 'pq', 'ainda', 'não', 'uso', 'um', 'macbook', 'aqui', 'no', 'escritório....', '@delreychaos', 'eu', 'comprava', 'um', 'carro', 'e', 'dava', 'vários', 'pião', 'fodas', 'o', 'macbook', 'rt', '@xths_:', '@kevynp_', 'mano', 'sim,', 'kkkkk', 'só', 'um', 'macbook', 'pro', 'pra', 'eu', 'colar', 'uns', 'adesivinho', '@erickadams0', 'mas', 'é', 'porque', 'o', 'nome', 'do', 'aparelho', 'é', 'iphone', 'mesmo.', 'assim', 'como', 'ninguém', 'fala', '“pega', 'lá', 'meu', 'notebook”', 'quando', 'vai', 'se', 'referir', 'ao', 'macbook,', 'a', 'pessoa', 'fala', '“pega', 'lá', 'meu', 'macbook”,', 'sacou?', 'todas', 'as', 'pessoas', 'q', 'eu', 'conheço', 'q', 'tem', 'macbook', 'ou', 'compraram', 'com', 'bolsa', 'do', 'ciencia', 'sem', 'fronteiras', 'ou', 'fizeram', 'uma', 'gambiarra', 'danada', 'pra', 'importar', 'barato..', 'n', 'consigo', 'nem', 'conceber', 'um', 'amigo', 'q', 'tenha', '$12.000', 'sobrando', 'pra', 'comprar', 'um', 'computador', '!', 'serase', 'eu', 'compro', 'só', 'not', 'qualquer,', 'e', 'depois', 'pego', 'um', 'iphone,', 'ou', 'pego', 'um', 'macbook', 'e', 'anos', 'depois,', 'quando', 'terminar', 'de', 'pagar', 'o', 'mac', 'eu', 'pego', 'um', 'iphone??', 'o', 'teu', '#macbook', 'não', 'passa', 'deste', 'ecrã?', 'nós', 'podemos', 'resolver!', 'pede', 'um', 'orçamento', 'grátis', '👉', 'https://t.co/kvnnldg7mk', '|', '914', '090', '000', '|', 'info@youget.pt', '|', '\\n\\n#apple', '#repair', 'https://t.co/khjipd9scr', '@gus_bruno', '@pedruckss', 'eu', 'também', 'to', 'com', 'necessidade', '):', 'o', 'meu', 'macbook', 'da', 'cândida', 'é', 'de', '2011', 'https://t.co/q1na49epxv', 'notícias\\n#news', '#promoções', '#blog', '#apple', '#iphone', '#ipad', '#macbook', '#asap\\nhttps://t.co/ae8zg4bk9a', '@misakiputa', 'essa', 'merda', 'dá', 'para', 'macbook?', '@basgan', '@gittigidiyor', 'https://t.co/tcifroptc1\\n#aklınagelenlerkapınagelsin', \"\\n25'\", 'belhanda', '@titanicrisiing', 'vc', 'pedindovmeu', 'macbook', 'rt', '@labresupdates:', 'você', 'quer', 'ter', 'a', 'oportunidade', 'de', 'ganhar', '1', 'iphone', 'pro', '📲+', 'macbook', '💻', '+', 'airpods', '+', 'apple', 'watch', '?!', 'então', 'corre', 'para', 'o', 'link', '⬇️', 'e…', '@gowanfavs', 'vibe', 'tão', 'boa', 'que', 'gi', 'perdeu', 'o', 'macbook', 'no', 'avião', ',', 'marcela', 'teve', 'que', 'fazer', 'teste', 'pro', 'covid', 'https://t.co/3jqa9ghkmc', 'como', '#sincronizar', 'os', 'contatos/agenda', 'do', '#gmail', 'no', 'ios', 'em', '2020', '|', 'apple', 'sync', 'brasil™\\nhttps://t.co/7vtj4o0nug\\n\\n#retweet', 'no', '#post', 'para', 'mais', '#pessoas', 'terem', '#visibilidade.', '#apple', '#ios', '#iphone', '#ipad', '#applewatch', '#macbook', '#homepod', '#ipadpro', '#applesyncbrasil', '🇧🇷', 'de', 'dentro', 'do', 'apê\\nar', 'condicionado,', 'macbook,', 'você', 'vai', 'dizer\\nque', 'é', 'de', 'esquerda,', 'feminista,', 'defende', 'as', 'mulher\\nposta', 'lá', 'que', 'é', 'vadia,', 'que', 'pode', 'chamar', 'de', 'puta\\nsua', 'fala', 'não', 'condiz', 'com', 'sua', 'conduta', 'algum', 'de', 'vocês', 'tem', 'um', 'mac', 'ou', 'macbook?', 'algum', 'de', 'vcs', 'tem', 'macbook?', 'vale', 'a', 'pena', 'comprar', 'um', 'básico', 'air', '13', 'por', 'exemplo?', 'eu', 'hj', 'levando', 'meu', 'macbook', 'pra', 'manutenção', 'com', 'ele', 'no', 'colo,', 'enrolado', 'num', 'cobertor,', 'tal', 'qual', 'um', 'bebê', 'febril', 'https://t.co/mz9ixy7hu2', 'til:', 'meu', 'macbook,', 'estava', 'travando', 'com', 'o', '\"kernel_task\"', 'usando', '500%', 'do', 'cpu', 'e', 'tudo', 'congelava,', 'cpu', 'frequency', 'ia', 'pra', '800hz\\n\\nli', 'isso:', 'https://t.co/1mq3heu29x\\n\\nqdo', 'tá', 'muito', 'quente,', 'o', 'kernel_task', 'ocupa', 'a', 'cpu', 'de', 'forma', '\"artificial\"', 'e', 'abaixa', 'a', 'frequência', 'da', 'cpu', 'para', 'o', 'hardware', 'esfriar.', 'amo', 'esse', 'wipe', 'para', 'eletrônicos,', 'com', 'um', 'eu', 'faço', 'o', 'switch,', 'o', 'celular', 'e', 'o', 'macbook', 'e', 'fica', 'assim', 'ó', '✨', 'mockup', 'de', 'macbook', 'pro', 'grátis', '-', 'hoje', 'eu', 'lanço', 'um', 'mockup', 'simples', 'mas', 'bastante', 'desejado.', 'um', 'mockup', 'gratuito', 'de', 'um', 'macbook', 'pro', 'com', 'tela', 'mutável', 'e', 'cor', 'de', 'fundo.', 'você', 'pode', 'desligar', 'os', 'destaques', 'da', 'tela', 'ou', 'até', 'mesmo', 'torná-los', 'mais', 'visíveis.', 'https://t.co/lnapqgrgof', '@nunocasteleira', '@alltoowellpt', 'sim,', 'vai', 'sair', 'ainda', 'este', 'ano.', 'possivelmente', 'no', 'macbook', 'air.', 'os', 'pro', 'só', 'para', '2021.', 'como', '#ativar', 'o', 'e-sim', 'no', 'seu', '#iphone', 'dual', 'chip', '|', 'apple', 'sync', 'brasil™\\nhttps://t.co/ol6u8a2dxp\\n\\n#retweet', 'no', '#post', 'para', 'mais', '#pessoas', 'terem', '#visibilidade.', '#apple', '#ios', '#iphone', '#ipad', '#applewatch', '#macbook', '#homepod', '#ipadpro', '#applesyncbrasil', '🇧🇷', 'o', 'vendedor', 'cancelou', 'a', 'compra', 'do', 'macbook,', 'o', 'dinheiro', 'já', 'voltou', 'para', 'a', 'minha', 'conta,', 'obrigado', 'para', 'quem', 'mandou', 'mensagens', 'para', 'mim', 'me', 'orientando', 'no', 'que', 'fazer', 'a', 'garota', 'tem', 'macbook,', 'ipad,', 'câmera', 'fotográfica', 'de', 'boa', 'qualidade,', 'iphone,', 'um', 'quarto', 'bonito', 'e', 'planejado', 'e', 'está', 'no', 'prouni', 'de', 'medicina', 'com', 'a', 'cota', 'de', 'baixa', 'renda...', 'olha', 'sinceramente', 'vai', 'se', 'foder.', 'mexi', 'e', 'deu', 'pau', 'dnv', 'voltamos', 'a', 'estaca', '', '0', 'alguem', 'me', 'vende', 'um', 'carregador', 'de', 'macbook', 'pro', 'por', 'favor', '@selenawas', 'quer', 'ser', 'chique', 'e', 'não', 'sabe', 'nem', 'mexer', 'num', 'macbook', 'eu', 'mexendo', 'em', 'um', 'macbook', 'https://t.co/aczssljk27', 'eu', 'tenho', 'um', 'ranço', 'de', 'quem', 'fala', '“meu', 'iphone,', 'meu', 'macbook”.', 'vsf,', 'é', 'um', 'celular', 'e', 'um', 'computador!', 'eu', 'não', 'consigo', 'confiar', 'em', 'instagram', 'de', 'estudo', 'em', 'que', 'a', 'pessoa', 'tem', 'um', 'macbook', 'me', 'desculpem', 'boa', 'noite', 'site', 'alguém', 'tem', 'um', 'carregador', 'de', 'macbook', 'pra', 'doar', 'kkk', 'n', 'teve', 'macbook', 'nem', 'iphone', 'novo', '🤡🤡🤡', 'to', 'aqui', 'naquela', 'situação', 'que', 'o', 'cara', 'abriu', 'um', 'macbook', 'no', 'metrô', 'vi', 'um', 'sorteio', 'no', 'instagram', 'q', 'um', 'dos', 'prêmios', 'é', 'um', 'macbook', 'pro', 'novinho,', 'td', 'q', 'eu', 'preciso.', 'tava', 'lá', '\"quanto', 'mais', 'vc', 'comentar', 'mais', 'chances', 'de', 'ganhar\",', 'fui', 'bloqueada', 'de', 'tanto', 'q', 'comentei', 'https://t.co/yzualxtt6q', '1', 'minuto', 'de', 'silêncio', 'pra', 'pretona', 'que', 'percebeu', 'que', 'não', 'vai', 'mais', 'trabalhar', 'com', 'macbook.\\nluto.', '[dica]', 'como', 'fazer', '#backup', 'de', 'forma', 'correta', 'no', '#whatsapp', '|', 'apple', 'sync', 'brasil™\\nhttps://t.co/asob6htfrs\\n\\n#retweet', 'no', '#post', 'para', 'mais', '#pessoas', 'terem', '#visibilidade.', '#apple', '#ios', '#iphone', '#ipad', '#applewatch', '#macbook', '#homepod', '#ipadpro', '#applesyncbrasil', '🇧🇷', 'fora', 'que', 'com', 'essa', 'distância', 'eu', 'n', 'iria', 'enxergar', 'nada', 'do', 'que', 'está', 'escrito', 'no', 'macbook', 'kkkkkk', 'gostei,', 'vou', 'comprar', 'um', 'e', 'o', 'suporte', 'tb', 'ganhei', 'um', 'macbook', 'https://t.co/ys6en6l64v', 'lembrando', 'do', 'dia', 'q', 'tive', 'q', 'fazer', 'uma', 'apresentação', 'em', 'um', 'macbook', 'e', 'nunca', 'tinha', 'usado', 'um', 'kkkkkkjkjjk', 'rt', '@eubecx:', 'raiva', 'eu', 'tenho', 'de', 'menina', 'de', 'studygram', 'que', 'tem', 'ipad', 'iphone', 'e', 'macbook', '', 'canetas', 'das', 'melhores', 'marcas', '', 'caderno', 'inteligente', 'e', 'afins', 'e…', 'ele', 'demora', 'mais', 'um', 'pouquinho,', 'olhando', 'fixamente', 'pra', 'tela', 'do', 'macbook.', '\\npatrão:', 'dê', 'a', 'volta', 'e', 'venha', 'ver', 'como', 'ficou', 'isso', 'aqui.', '\\nvocê:', 'ahn...', 'está', 'trabalhando', 'em', 'um', 'novo', 'projeto?', '\\nele', 'não', 'responde', 'até', 'você', 'chegar', 'ao', 'lado', 'dele', '{+}', '@zehzito', 'o', 'macbook', 'de', '5', 'nanômetros', 'já', 'tá', 'claro', 'que', 'vai', 'vir', 'em', 'março,', 'ainda', 'bem', 'que', 'não', 'troquei...', 'intel', 'vai', 'engolir', 'seca', 'miga', 'eu', 'nunca', 'vi', 'ninguém', 'mais', 'burguês', 'q', 'matheus,', 'tem', 'nem', '1', 'mes', 'q', 'ele', 'pediu', 'um', 'notebook', 'novo', 'p', 'mae', 'dele', 'e', 'ganhou', 'um', 'macbook', 'pro', 'pqp', '@tododiabrigas', 'chamou', 'a', 'mamãe', 'que', 'tirou', 'o', 'iphone,', 'macbook', 'e', 'airpod', 'que', 'eles', 'ficam', 'de', 'boazinha', 'dores', 'de', 'parto', 'tabernaculo', 'branham', 'ao', 'vivo', 'irmão', 'joseph', 'branham', 'https://t.co/ck9fvruzzw', '#macbook', '@whindersson', 'https://t.co/uibetanmoa\\ngente', 'se', 'inscreve', 'nesse', 'link', 'vcs', 'pode', 'me', 'ajudar', 'a', 'ganhar', 'um', '1', 'de', 'conversação', 'em', 'inglês', 'e', 'um', 'macbook', '(', 'link', 'de', 'um', 'curso', '100%', 'online', 'e', 'gratuito)', 'ajudaaaaa', '#help', 'daeeee,', 'to', 'vendendo', 'meu', 'mac', '\\n\\nse', 'alguém', 'tiver', 'interesse', 'chama', 'na', 'dm', '\\n\\nhttps://t.co/xprwkascuy', 'https://t.co/dfpuss5hua', '@sirfrederiq', 'a', 'dar', 'flex', 'com', 'macbook', '👌😼', 'macbook', 'air', '(intel', 'core', 'i5,', '512gb', 'de', 'ssd,', '8gb', 'de', 'ram),', 'de', 'r$13.299', 'por', 'r$9.999', 'em', 'até', '12x', 'https://t.co/v77zwq4ooe', 'rt', '@iluminicho:', 'primeiro', 'dia', 'de', 'trampo', 'e', 'o', 'pai', 'já', 'tá', 'de', 'macbook', 'pró', 'https://t.co/gdplzownxx', 'você', 'quer', 'ter', 'a', 'oportunidade', 'de', 'ganhar', '1', 'iphone', 'pro', '📲+', 'macbook', '💻', '+', 'airpods', '+', 'apple', 'watch', '?!', 'então', 'corre', 'para', 'o', 'link', '⬇️', 'e', 'saiba', 'todas', 'as', 'orientações', 'e', 'o', 'que', 'você', 'deve', 'fazer!', '\\n\\n🔗https://t.co/hf0rckrt4u\\n➡️', 'sorteio', 'acaba', 'dia', '25/09!😏', 'https://t.co/kjcm0kga6q', 'rt', '@sandinossauro:', 'imagina', 'ter', 'grana', 'pra', 'um', 'macbook', 'e', 'ter', 'que', 'usar', 'a', 'tábua', 'de', 'passar', 'como', 'escrivaninha', 'https://t.co/enfhz3h77s', 'mínimo', '17', 'e', 'o', 'máximo', 'uns', '45', 'pq', 'o', 'com', 'um', 'suggar', 'daddy', 'o', 'macbook', 'vem', 'https://t.co/x8tcoyhalp', 'alô', 'anitta', 'esconde', 'o', 'macbook', 'antes', 'que', 'a', 'samsung', 'vê', 'https://t.co/xelrht8ois', 'fodase', 'o', 'iphone', '12,', 'sapoha', 'só', 'serve', 'pra', 'jogar', 'dinheiro', 'fora', 'ou', 'se', 'vc', 'tem', 'o', 'cel', 'da', 'apple,', 'o', 'smartwatch', 'e', 'o', 'macbook', 'puts', 'eu', 'queria', 'ta', 'assim', 'com', 'meu', 'macbook', 'pro', '16', 'pol', 'https://t.co/gcbaygcesf', '@thiago_cco', 'aqui', 'tem', 'coragem!!', 'querendo', 'comprar', 'macbook', 'em', 'plena', 'pandemia.', 'hsaushuahuhsa.', 'gente,', '', 'vou', 'vender', 'meu', 'macbook', 'air.', 'comservadíssimo,', 'comprado', 'em', '2017', 'e', 'utilizado', 'pouquíssimas', 'vezes.', '[dica]', 'seu', 'id', 'apple/', 'conta', '#desativada', 'no', 'iphone', '(resolvido)', '|', 'apple', 'sync', 'brasil™\\nhttps://t.co/snxhiypnoo\\n\\n#retweet', 'no', '#post', 'para', 'mais', '#pessoas', 'terem', '#visibilidade.', '#apple', '#ios', '#iphone', '#ipad', '#applewatch', '#macbook', '#homepod', '#ipadpro', '#applesyncbrasil', '🇧🇷', 'pega', 'teu', 'macbook', 'e', 'enfia', 'no', 'cu', 'caralho.', 'me', 'esquece!', 'quanto', 'você', 'cobraria', 'para', 'formatar', 'um', 'macbook?', 'comprei', 'uma', 'capinha', 'protetora', 'de', 'teclado', 'do', 'notebook', 'e', 'vieram', 'duas', 'dentro', 'da', 'embalagem,', 'mandei', 'mensagem', 'pro', 'vendedor', 'e', 'ele', 'mandou', 'ficar', '\\nse', 'alguém', 'se', 'interessar', 'por', 'uma', 'capa', 'de', 'teclado', 'macbook', 'air', \"13'\", 'chama', 'eu', '\\nentão', 'gente', 'e', 'eu', 'que', 'esqueci', 'o', 'microfone', 'aberto', 'na', 'aula', 'on-line', 'e', 'disse', '\"ele', 'tem', 'um', 'macbook\"', '@nagamatsu__', '@marinenorstrahl', '@lucasjtho', 'rapaz,', 'vai', 'ifood', 'hein!', 'uma', 'vez', 'usei', 'macbook', 'num', 'lugar', 'em', 'que', 'eu', 'fiz', 'estágio,', 'e', 'fiquei', 'até', 'com', 'medo', 'de', 'quebrar', 'alguma', 'coisa.', 'mas', 'a', 'experiência', 'foi', 'bacana.', 'aparentemente', 'vai', 'dar', 'pra', 'atualizar', '', 'o', 'sistema', 'operacional', 'do', 'meu', 'macbook', 'air', ':]', '...', 'tinha', 'tentado', 'descobrir', 'várias', 'vezes', 'e', 'era', 'mó', 'caô', 'pra', 'baixar,', 'ontem', 'fui', 'procurar', 'outra', 'vez', 'e', 'encontrei', 'facinho', 'o', 'link', 'de', 'download', 'no', 'site', 'da', 'apple', 'que', 'merda', 'eu', 'so', 'queria', 'um', 'macbook', 'mas', 'ele', 'nao', 'é', 'bom', 'pra', 'arquitetura', 'ufrj', 'dá', 'bolsa', 'macbook/imac', 'pros', 'professores?', 'e', 'vamos', 'de', 'atraso', 'do', 'metro', 'de', '1h,', 'tem', 'nem', 'como', 'trabalhar', 'de', 'casa', 'já', 'que', 'levei', 'o', 'macbook', 'ontem', 'pro', 'trabalho', '@lmjcc1', 'amiga', 'fala', 'pra', 'ela', 'se', 'lembrar', 'do', 'macbook', 'pra', 'ela', 'nao', 'esquecer', 'esse', 'bendito', 'eu', 'tenho', 'ctz', 'que', 'nesse', 'calor', 'o', 'macbook', 'vai', 'explodir', '@_chrless', 'amigo', 'é', 'uma', 'virtual', 'box', 'que', 'simula', 'outro', 'pc', 'dentro', 'do', 'macbook,', 'aí', 'eu', 'posso', 'jogar', 'uns', 'joguinhos', 'que', 'n', 'rodaria', 'no', 'mac', 'normalmente', '@_pnobre_', '@hmendes', 'trocar', 'a', 'o', 'carro', 'pela', 'bicicleta', 'é', 'como', 'trocar', 'o', 'desktop', 'pastelão', 'e', 'ineficiente', 'pelo', 'novo', 'macbook', 'air.\\n\\nfaz', 'a', 'mesma', 'coisa,', 'provavelmente', 'mais', 'devagar.\\n\\nsó', 'que', 'no', 'caso', 'da', 'bicicleta,', 'até', 'sai', 'mais', 'barato.', '@leandrolyrarj', 'dispinibiliza', 'ipad', 'e', 'macbook', '', 'pra', 'galera,', 'e', 'amplia', 'o', 'acesso', 'a', 'internet.', '@muriloramosdc', '@tingracio', 'esse', 'é', 'pessoal,', 'do', 'google', 'era', 'um', 'carbon', 'x1', 'e', 'agora', 'é', 'um', 'macbook', 'pro.', '@ahirtonlopes', 'o', 'macbook', 'da', 'patroa', 'eu', 'fiz', 'downgrade', 'para', 'mac', 'os', 'mojave.', 'não', 'dava', 'de', 'usar', 'o', 'catalina', 'a', 'professora', 'de', 'programação', 'é', 'rica,', 'cadeira', 'chique,', 'macbook', '...', 'hoje', 'sonhando', 'mais', 'que', 'nunca', 'com', 'meu', 'amor,', 'cada', 'um', 'com', 'um', 'macbook', 'trabalhando', 'em', 'nossa', 'casa', 'própria', 'e', 'falando', '“lembra', 'amor,', 'quando', 'tínhamos', 'aquele', 'notebook', 'horrível', 'que', 'ganhamos', 'do', 'governo,', 'olha', 'onde', 'chegamos', '🥺”\\n\\nlike', 'se', 'vc', 'chorou.', 'gente', 'da', 'pra', 'baixar', 'jogos/apps', 'crackeados', 'no', 'imac/macbook??', 'https://t.co/nlm3fltbzv', 'macbook', 'touchbar', 'velho', 'mais', 'caro', 'do', 'que', 'novo', 'lacrado', 'ou', '1000', 'conto', 'mais', 'barato!', 'o', 'brasil', 'tá', 'surreal', 'rt', '@staylswift1989:', 'eu', 'achando', 'que', 'a', 'laura', 'queria', 'um', 'macbook', 'mas', 'na', 'verdade', 'ela', 'queria', 'mcdonald’s', 'kkkk', 'telegram', '-', 'como', 'criar', 'um', 'grupo', 'e', 'colocar', 'um', 'bot', 'para', 'gerenciamento', '|', 'apple', 'sync', 'brasil™\\nhttps://t.co/b0zmmcj2nc\\n\\n#retweet', 'no', '#post', 'para', 'mais', '#pessoas', 'terem', '#visibilidade.', '#apple', '#ios', '#iphone', '#ipad', '#applewatch', '#macbook', '#homepod', '#ipadpro', '#applesyncbrasil', '🇧🇷', 'meu', 'deus,', 'o', 'macbook', 'custa', 'o', 'valor', 'de', 'um', 'celta,', 'cara', 'pqp', 'essa', 'botada', 'foi', 'foda,', 'foi', 'fodaaaaaaa', '@ducatambasco', 'eu', 'sempre', 'compro', 'no', 'kabum', 'ou', 'no', 'mercado', 'livre.', 'se', 'o', 'seu', 'note', 'não', 'for', 'um', 'macbook', 'é', 'relativamente', 'facil', 'trocar', 'sozinho.', 'olhem', 'só', 'espero', 'que', 'hoje', 'no', 'evento', 'da', 'apple', 'não', 'estreie', 'nenhum', 'macbook', 'melhor', 'do', 'que', 'o', 'que', 'eu', 'comprei', 'porque', 'senão', 'vou', 'chorar', 'professora:', 'não', 'uso', 'nd', 'do', 'google.', 'nd', 'de', 'grandes', 'corporações.', '\\n\\nlogo', 'após', 'compartilha', 'a', 'tela', 'para', 'exibir', 'o', 'cronograma', 'do', 'curso', 'no', 'macbook**', '', 'em', 'fim', 'a', 'hipocrisia', 'minha', 'meta', 'de', 'vida', 'é', 'ser', 'aquele', 'designer', 'rico', 'que', 'tem', 'macbook,', 'ipad', 'última', 'geração', 'e', 'o', 'último', 'iphone', 'sentado', 'num', 'starbucks', 'pensando', 'na', 'próxima', 'coleção', 'pra', 'd&amp;g', 'preciso', 'de', 'uma', 'ajuda', 'pra', 'resetar', 'um', 'macbook...', ':(((', 'o', 'boy', 'me', 'falando', 'que', 'vai', 'ter', 'que', 'fazer', 'hora', 'extra,', 'eu', 'já', 'lancei', 'a', 'braba', 'pra', 'ele', 'fazer', 'isso', 'sempre', 'e', 'me', 'conquistar/', 'dar', 'um', 'macbook', 'kkkkkkkkk', '\\noh', 'dó,', 'não', 'tenho', 'nem', 'coragem', 'de', 'aceitar', 'kkk', 'rolou', 'isso', 'mesmo\\nsó', 'q', 'a', 'gente', 'deu', 'o', 'filho', 'pra', 'um', 'orfanato', 'pq', 'era', 'um', 'macbook\\nfizemo', 'outro', 'e', 'veio', 'um', 'pc', 'da', 'razer', 'tunado', '😎', 'https://t.co/wddxlsbdxw', '@leeandrobarbosa', 'completamente,', 'ele', 'funciona', '100%', 'independente', 'de', 'smartphone', 'e', 'tem', 'compatibilidade', 'total', 'com', 'outros', 'produtos', 'da', 'apple,', 'inclusive', 'da', 'pra', 'usar', 'de', 'segunda', 'tela', 'de', 'macbook', 'sem', 'necessidade', 'de', 'cabos', '@imluciano', 'ahh', 'entendi', ',', 'meu', 'irmão', 'tem', 'um', 'sem', 'bordas', 'do', 'ano', 'passado', ',', 'mas', 'eu', 'ainda', 'acho', 'macbook', 'melhor', 'q', 'ipad', 'mano', 'que', 'felicidade', 'ver', 'meu', 'macbook', 'vivo', 'obrigado', 'deus', 'https://t.co/ahrx57ewxu', '@barbaralabres', 'pode', 'separa', 'o', 'macbook,', 'que', 'ja', 'e', 'meuuu', 'notícias\\n#news', '#promoções', '#blog', '#apple', '#iphone', '#ipad', '#macbook', '#asap\\nhttps://t.co/9aaxejq99d', 'alguém', 'sabe', 'onde', 'posso', 'vender', 'um', 'macbook', 'a', 'peças?', 'ela', 'compra', 'um', 'novo', 'macbook', 'pra', 'cada', 'término', 'de', 'namoro,', 'daí', 'mostrou', 'uma', 'penka', 'de', 'macbook', 'guardado', 'de', 'ex', 'relacionamentos,', 'sofro', 'kkk', 'rt', '@madrini:', 'to', 'vendendo', 'meu', 'macbook', 'air', '13', '(2013)', '\\ni7', '1.7', '3.3', 'turbo\\n8gb', 'ram\\n500', 'ssd\\nbateria', 'com', '633', 'ciclos\\nteclado', 'padrão', 'reino', 'unido\\nr$', '4…', 'essa', 'galera', 'que', 'quer', 'vender', 'macbook', '2010/11/12', 'por', '2k', 'ou', '3k', 'esta', 'de', 'brincadeira', 'hahahaha', '@pepinoemcoserva', '@thatfatdud3', 'amigo', 'meu', 'derrubou', 'vinho', 'num', 'macbook', 'retina,', 'imagine', 'a', 'dor', 'o', 'bichinho', 'do', 'capitalismo', 'botou', 'na', 'minha', 'cabeça', 'agora', 'que', 'eu', 'quero', 'um', 'macbook', 'pro', '16”.', 'vou', 'vender', 'meu', 'corpo', 'na', 'esquina', 'pra', 'conseguir', 'comprar', 'um.', '😅🆘', 'fico', 'muito', 'abismada', 'quando', 'descubro', 'que', 'as', 'pessoas', 'tem', 'iphone', '11', 'e', 'macbook', 'na', 'vida', 'real', 'minha', 'sogra', 'comprou', 'um', 'macbook', 'de', 'mesa', 'pra', 'fazer', 'planilha', 'e', 'vídeo', 'chamada....', 'isso', 'mesmo', 'que', 'você', 'leu...', '@claudifih', 'nunca', 'tive\\nso', 'macbook', 'e', 'iphone\\namo', 'muito\\nquem', 'sabe', 'quando', 'o', 'dolar', 'baixar\\nse', 'baixar', '@acouleee', '@pneutereza', 'lenda', 'q', 'até', 'macbook', 'tem', 'e', 'minha', 'mãe', 'q', 'tá', 'com', 'macbook', 'pra', 'ver', 'netflix', 'hahahhaha', 'amo', '@sepmadu', 'troca', 'por', 'um', 'macbook.', 'mas', 'se', 'preferir', 'continuar', 'com', 'windows', 'troca', 'o', 'hd', 'por', 'um', 'ssd.', 'melhora', 'bastante', 'eu', 'achando', 'que', 'a', 'laura', 'queria', 'um', 'macbook', 'mas', 'na', 'verdade', 'ela', 'queria', 'mcdonald’s', 'kkkk', 'https://t.co/z1abdttvov', '@_thiag0x', '@thatfatdud3', 'ehhh', 'vai', 'pagar', 'de', 'gatão', 'tocando', 'música', 'no', 'macbook', 'pra', 'se', 'exibir', 'pra', 'gata!', 'ahahha', 'se', 'fode', 'filhadapyta', '@naniechev', 'no', 'macbook', 'tem', 'a', 'teclinha', 'dele', '=/', 'tenta', 'alt+barra', 'invertida', 'queria', 'tanto', 'virar', 'desenvolvedor', 'ios', 'mas', 'não', 'falta', 'vontade,', 'falta', 'dinheiro', 'pra', 'comprar', 'um', 'macbook...', 'o', '“todo', 'médico', 'vai', 'ser', 'rico”', 'cai', 'por', 'terra', 'quando', 'você', 'vê', 'que', 'todo', 'professor', 'de', 'cirurgia', 'tem', 'um', 'macbook', 'com', 'todos', 'os', 'acessórios', 'e', 'os', 'de', 'clínica', 'tem', 'um', 'dell', 'fuleiro', 'um', 'conhecido', 'sugeriu', '\"macbook', 'air\"', 'antigo...', 'aí', 'olha', 'a', 'alucinação', 'que', 'o', 'pessoal', 'quer', 'em', 'um', 'de', '2011', 'usado.', 'https://t.co/vxjolnf9wf', 'to', 'vendendo', 'meu', 'macbook', 'air', '13', '(2013)', '\\ni7', '1.7', '3.3', 'turbo\\n8gb', 'ram\\n500', 'ssd\\nbateria', 'com', '633', 'ciclos\\nteclado', 'padrão', 'reino', 'unido\\nr$', '4.200', 'vai', 'com', 'carregador', 'original', 'funcionando', 'porém', 'o', 'cabo', 'está', 'levemente', 'comido\\nporto', 'alegre', 'perto', 'do', 'iguatemi\\nrts', 'pls', 'https://t.co/0vwr3e2s7x', 'fantástico', 'nem', 'se', 'preocupou', 'em', 'cobrir', 'a', 'maçã', 'do', 'macbook', 'bom', 'dia', 'para', 'quem', 'sonhou', 'que', 'estava', 'comprando', 'um', 'macbook', 'pro', '🥰', 'a', 'tristeza', 'do', 'pobre', 'é', 'querer', 'um', 'apple', 'watch', 'e', 'um', 'macbook.', '@dalemeupirraia', 'mas', 'tipo,', 'mesmo', 'a', 'galera', 'mais', 'privilegiada', 'não', 'costuma', 'usar', 'o', 'ipad', 'aqui', 'no', 'br.', 'preferem', 'ter', 'o', 'macbook', 'e', 'carregar', 'pra', 'todo', 'lugar', 'do', 'que', 'ter', 'o', 'próprio', 'ipad,', 'é', 'estranho', 'isso', 'toma', 'aqui', 'esse', 'desconto', 'de', '3.500', 'num', 'macbook', 'de', '20.000', '🥰🥰', 'to', 'necessitada', 'de', 'um', 'notebook,', 'vou', 'comprar', 'um', 'usado', 'de', 'até', 'uns', '400', 'que', 'eh', 'o', 'que', 'infelizmente', 'da', 'no', 'meu', 'orçamento.....quando', 'eu', 'ficar', 'rica', 'vou', 'ser', 'que', 'nem', 'meu', 'pai', 'ter', 'um', 'macbook', '💻', '😭', 'inclusive', 'alguém', 'vendendo', 'um?', 'primeiro', 'dia', 'de', 'trampo', 'e', 'o', 'pai', 'já', 'tá', 'de', 'macbook', 'pró', 'https://t.co/gdplzownxx', '@alltoowellpt', 'só', 'em', 'outubro,', 'filho.', 'haverá', 'um', 'evento', 'para', 'iphone', '12,', 'macbook', 'com', 'processador', 'a14x', 'e', 'nova', 'appletv', 'com', 'a14', 'também.', 'pq', 'q', 'deus', 'não', 'me', 'fez', 'rica', 'pra', 'comprar', 'um', 'macbook', 'pelo', 'airplay', 'para', 'quem', 'tiver', 'macbook.', 'ou', 'utilizar', 'o', 'app', 'transmitir', 'tela', 'para', 'tv', 'https://t.co/jiuwjlfosx\\n\\ndesculpem', 'o', 'transtorno!', '🙏', 'só', 'porque', 'a', 'bonita', 'tem', 'um', 'macbook', 'acha', 'que', 'pode', 'ficar', 'mandando', 'vírus', 'pro', 'meu', 'samsung.', 'abri', 'o', 'macbook,', 'limpei', 'o', 'pó', '\"superficial\",', 'soprei', 'as', 'ventoinha.', 'amanhã', 'vou', 'abrir', 'denovo', 'e', 'usar', 'ar', 'comprimido', 'que', 'eu', 'comprei', 'hoje.\\n\\nmas', 'enfim,', 'o', 'problema', 'parou.', 'doideira.', 'rt', '@maxqmerda:', '\"não', 'podem', 'cancelar', 'o', 'ano', 'letivo!', 'eu', 'estou', 'conseguindo', 'estudar', 'perfeitamente', 'à', 'distância', 'com', 'o', 'meu', 'iphone', '11,', 'meu', 'macbook', 'e…', '@apple', 'ontem,', 'às', '18:33,', 'fiz', 'uma', 'cópia', 'de', 'segurança', 'para', 'o', 'meu', 'macbook', 'air', 'de', '2013', 'e', 'restaurei', 'o', 'telemóvel', '[iphone', 'xr].', 'o', 'telemóvel', 'do', 'm/pai', 'não', 'era', 'reconhecido', 'pelo', 'm/mac.', 'após', 'ontem', 'nem', 'dormirmos', 'bem,', 'tendo', 'em', 'conta', 'o', 'enorme', 'valor', 'do', 'telemóvel', 'do', 'm/pai,', '(...)', '@ryanbala_22', 'lkkkkkkkkkkk', 'não', 'é', 'ele', 'tadinho,', 'é', 'pelo', 'um', 'macbook', '@thuanmota', 'to', 'na', 'msm', 'meu', 'amigo,', 'desktop', 'ou', 'laptop', 'gamer??', '7k-8k', 'opa', 'macbook', 'pro', 'é', 'quase', 'o', 'msm', 'preço', 'hein??', 'devo', 'investir', 'em', 'uma', 'moto', 'em', 'forma', 'de', 'laptop?', 'talvez??????', 'tá', 'foda', '@stormsbae', 'macbook', 'keksksksks', 'mano', 'quem', 'que', 'da', 'um', 'macbook', 'de', 'presente', 'de', '4', 'meses', 'pra', 'alguém', 'viado', 'queria', 'ter', 'o', 'tanto', 'de', 'dinheiro', 'que', 'esse', 'menino', 'tem', 'porra', '@kevynp_', 'daí', 'vc', 'compra', 'o', 'macbook', 'e', 'não', 'tem', 'coragem', 'de', 'colar', 'os', 'adesivos....', 'aquele', 'macbook', 'arm', 'vai', 'ser', 'tão', 'sensacional', 'que', 'o', 'patterson', 'vai', 'ter', 'que', 'atualizar', 'o', 'livro', 'dele', '@promisebak', '@isaffonti', 'rpz', 'se', 'eu', 'não', 'macbook', 'é', 'tipo', 'um', 'notebook', 'so', 'q', 'menor,', 'sla', '@diogoexmachina', 'acho', 'que', 'por', 'enquanto', 'vou', 'manter', 'o', 'meu', 'iphone', 'x.', 'só', 'precisava', 'mesmo', 'de', 'atualizar', 'o', 'macbook', '(comprei', 'o', 'pro', 'de', '13”', 'deste', 'ano)', 'e', 'o', 'apple', 'watch,', 'que', 'está', 'sofrível.', 'bota', 'doomed', 'nisso.', 'pré', 'requisito', 'pra', 'cursar', 'medicina', 'eh', 'ter', 'um', 'macbook', 'eh', '📢', 'sorteio', 'no', 'ig', 'da', '@barbaralabres', '\\n\\n➡️', '1', 'iphone', '11', 'pro', '+', 'macbook', '+', 'airpods', '+', 'apple', 'watch', '\\n\\n•', 'para', 'participar', 'basta:', 'seguir', '@', 'grupoangelafariaaf', 'no', 'intagram', 'e', 'comentar', 'muito', 'na', 'foto', 'do', 'sorteio', 'no', 'instagram', '@', 'barbara.labres', '\\n\\n🚀', 'resultado', 'dia', '25/09', 'no', 'ig', '@', 'resultadosorteioaf', 'https://t.co/1el8zy7zwr']\n",
      "0      @giovannatorrres vai trouxa, compra macbook es...\n",
      "1      rt @go_nikaido: pensando aqui o macbook do cha...\n",
      "2      @marinenorstrahl @ogascao @lucasjtho ou econom...\n",
      "3      vendendo um macbook pro bem bichado, porém fun...\n",
      "4      a maior decepção com meu macbook novo é que el...\n",
      "                             ...                        \n",
      "294    mais um dia procurando macbook barato pq a app...\n",
      "295    queria um notebook pra fazer minhas coisas né ...\n",
      "296    @diogoexmachina acho que por enquanto vou mant...\n",
      "297    pré requisito pra cursar medicina eh ter um ma...\n",
      "298    📢 sorteio no ig da @barbaralabres \\n\\n➡️ 1 iph...\n",
      "Name: Treinamento, Length: 299, dtype: object\n"
     ]
    }
   ],
   "source": [
    "# P_I = \n",
    "# P_R = \n",
    "\n",
    "# total = train['Relevância (0 - irrelevante ; 1- relevante) ']\n",
    "# print(total)\n",
    "\n",
    "import re\n",
    "\n",
    "textao_total = ' '.join(train.Treinamento)\n",
    "\n",
    "def cleanup(text):\n",
    "    punctuation = '[!-.:?;]'\n",
    "    pattern = re.compile(punctuation)\n",
    "    text_subbed = re.sub(pattern, '', text)\n",
    "    return text_subbed\n",
    "\n",
    "cleanup(textao_total)\n",
    "lista_total = textao_total.split(' ')\n",
    "\n",
    "\n",
    "df_total = pd.Series(lista_total)\n",
    "df_total\n",
    "\n",
    "abs_total = df_total.value_counts()\n",
    "rel_total = df_total.value_counts(True)\n",
    "\n",
    "print(\"Frequência Absoluta Total\", abs_total) \n",
    "print(\"Frequência Relativa Total\", rel_total) \n",
    "\n",
    "\n",
    "print(lista_total)\n",
    "print(len(lista_total)+1)\n",
    "print(\"___________________________________________\")\n",
    "print(\"___________________________________________\")\n",
    "print(\"___________________________________________\")\n",
    "print(lista_r)\n",
    "print(\"___________________________________________\")\n",
    "print(\"___________________________________________\")\n",
    "print(\"___________________________________________\")\n",
    "print(lista_i)\n",
    "\n",
    "total_palavras = len(abs_total)\n",
    "total_relevante = len(abs_relevante)\n",
    "total_irrelevante = len(abs_irrelevante)\n",
    "print(train.Treinamento)\n",
    "# for i in train.Treinamento:\n",
    "# rel_irrelevante['que']"
   ]
  },
  {
   "cell_type": "code",
   "execution_count": 110,
   "metadata": {
    "scrolled": false
   },
   "outputs": [
    {
     "name": "stdout",
     "output_type": "stream",
     "text": [
      "0.00023730422401518748 0.00032927230819888045\n",
      "0.00023730422401518748 0.00032927230819888045\n",
      "2.6726765417869145e-11 1.0842025294661852e-07\n",
      "6.342374327923385e-15 3.569978694323955e-11\n",
      "2.857279958807224e-21 1.1754951249008741e-14\n",
      "6.780446034188952e-25 3.870579930526421e-18\n",
      "0.00023730422401518748 0.00032927230819888045\n"
     ]
    },
    {
     "data": {
      "text/html": [
       "<div>\n",
       "<style scoped>\n",
       "    .dataframe tbody tr th:only-of-type {\n",
       "        vertical-align: middle;\n",
       "    }\n",
       "\n",
       "    .dataframe tbody tr th {\n",
       "        vertical-align: top;\n",
       "    }\n",
       "\n",
       "    .dataframe thead th {\n",
       "        text-align: right;\n",
       "    }\n",
       "</style>\n",
       "<table border=\"1\" class=\"dataframe\">\n",
       "  <thead>\n",
       "    <tr style=\"text-align: right;\">\n",
       "      <th></th>\n",
       "      <th>Treinamento</th>\n",
       "      <th>Relevância (0 - irrelevante ; 1- relevante)</th>\n",
       "      <th>ClassificaçãoPrograma</th>\n",
       "    </tr>\n",
       "  </thead>\n",
       "  <tbody>\n",
       "    <tr>\n",
       "      <td>0</td>\n",
       "      <td>@giovannatorrres vai trouxa, compra macbook es...</td>\n",
       "      <td>0</td>\n",
       "      <td>R</td>\n",
       "    </tr>\n",
       "    <tr>\n",
       "      <td>1</td>\n",
       "      <td>rt @go_nikaido: pensando aqui o macbook do cha...</td>\n",
       "      <td>0</td>\n",
       "      <td>R</td>\n",
       "    </tr>\n",
       "    <tr>\n",
       "      <td>2</td>\n",
       "      <td>@marinenorstrahl @ogascao @lucasjtho ou econom...</td>\n",
       "      <td>1</td>\n",
       "      <td>R</td>\n",
       "    </tr>\n",
       "    <tr>\n",
       "      <td>3</td>\n",
       "      <td>vendendo um macbook pro bem bichado, porém fun...</td>\n",
       "      <td>1</td>\n",
       "      <td>R</td>\n",
       "    </tr>\n",
       "    <tr>\n",
       "      <td>4</td>\n",
       "      <td>a maior decepção com meu macbook novo é que el...</td>\n",
       "      <td>0</td>\n",
       "      <td>R</td>\n",
       "    </tr>\n",
       "    <tr>\n",
       "      <td>...</td>\n",
       "      <td>...</td>\n",
       "      <td>...</td>\n",
       "      <td>...</td>\n",
       "    </tr>\n",
       "    <tr>\n",
       "      <td>294</td>\n",
       "      <td>mais um dia procurando macbook barato pq a app...</td>\n",
       "      <td>1</td>\n",
       "      <td>R</td>\n",
       "    </tr>\n",
       "    <tr>\n",
       "      <td>295</td>\n",
       "      <td>queria um notebook pra fazer minhas coisas né ...</td>\n",
       "      <td>1</td>\n",
       "      <td>R</td>\n",
       "    </tr>\n",
       "    <tr>\n",
       "      <td>296</td>\n",
       "      <td>@diogoexmachina acho que por enquanto vou mant...</td>\n",
       "      <td>0</td>\n",
       "      <td>R</td>\n",
       "    </tr>\n",
       "    <tr>\n",
       "      <td>297</td>\n",
       "      <td>pré requisito pra cursar medicina eh ter um ma...</td>\n",
       "      <td>0</td>\n",
       "      <td>R</td>\n",
       "    </tr>\n",
       "    <tr>\n",
       "      <td>298</td>\n",
       "      <td>📢 sorteio no ig da @barbaralabres \\n\\n➡️ 1 iph...</td>\n",
       "      <td>0</td>\n",
       "      <td>R</td>\n",
       "    </tr>\n",
       "  </tbody>\n",
       "</table>\n",
       "<p>299 rows × 3 columns</p>\n",
       "</div>"
      ],
      "text/plain": [
       "                                           Treinamento  \\\n",
       "0    @giovannatorrres vai trouxa, compra macbook es...   \n",
       "1    rt @go_nikaido: pensando aqui o macbook do cha...   \n",
       "2    @marinenorstrahl @ogascao @lucasjtho ou econom...   \n",
       "3    vendendo um macbook pro bem bichado, porém fun...   \n",
       "4    a maior decepção com meu macbook novo é que el...   \n",
       "..                                                 ...   \n",
       "294  mais um dia procurando macbook barato pq a app...   \n",
       "295  queria um notebook pra fazer minhas coisas né ...   \n",
       "296  @diogoexmachina acho que por enquanto vou mant...   \n",
       "297  pré requisito pra cursar medicina eh ter um ma...   \n",
       "298  📢 sorteio no ig da @barbaralabres \\n\\n➡️ 1 iph...   \n",
       "\n",
       "     Relevância (0 - irrelevante ; 1- relevante)  ClassificaçãoPrograma  \n",
       "0                                               0                     R  \n",
       "1                                               0                     R  \n",
       "2                                               1                     R  \n",
       "3                                               1                     R  \n",
       "4                                               0                     R  \n",
       "..                                            ...                   ...  \n",
       "294                                             1                     R  \n",
       "295                                             1                     R  \n",
       "296                                             0                     R  \n",
       "297                                             0                     R  \n",
       "298                                             0                     R  \n",
       "\n",
       "[299 rows x 3 columns]"
      ]
     },
     "execution_count": 110,
     "metadata": {},
     "output_type": "execute_result"
    }
   ],
   "source": [
    "# total0 = abs_total.loc[abs_total[0],]\n",
    "\n",
    "palavras_unicas = []\n",
    "\n",
    "# for i in lista_total:\n",
    "#     if i not in palavras_unicas:\n",
    "#         palavras_unicas.append(i)\n",
    "#     else:\n",
    "#         break\n",
    "# df = pd.DataFrame()\n",
    "# colunas = ['Tweets', 'Classificação']\n",
    "# df = pd.DataFrame(columns=colunas)\n",
    "\n",
    "for tweet in train:\n",
    "    tweet_limpo = cleanup(tweet)\n",
    "    lista_tweet = tweet_limpo.split()\n",
    "    prob_irr = 1\n",
    "    prob_rel = 1\n",
    "    for i in lista_tweet:\n",
    "        if i in abs_relevante:\n",
    "            prob_rel *= ((abs_relevante[i] + 1)/(total_palavras + total_relevante))\n",
    "        if i not in abs_relevante:\n",
    "            prob_rel *= ((1)/(total_palavras + total_relevante))\n",
    "        if i in abs_irrelevante:     \n",
    "            prob_irr *= ((abs_irrelevante[i] + 1)/(total_palavras + total_irrelevante))\n",
    "        if i not in abs_relevante:\n",
    "            prob_irr *= ((1)/(total_palavras + total_irrelevante))\n",
    "        print(prob_irr,prob_rel)\n",
    "    if prob_rel>prob_irr:\n",
    "        train['ClassificaçãoPrograma']='R'\n",
    "    else:\n",
    "        train['ClassificaçãoPrograma']='I'\n",
    "train"
   ]
  },
  {
   "cell_type": "code",
   "execution_count": 102,
   "metadata": {},
   "outputs": [
    {
     "data": {
      "text/plain": [
       "R    1.0\n",
       "Name: ClassificaçãoPrograma, dtype: float64"
      ]
     },
     "execution_count": 102,
     "metadata": {},
     "output_type": "execute_result"
    }
   ],
   "source": [
    "train.ClassificaçãoPrograma.value_counts(normalize=True, sort=False)"
   ]
  },
  {
   "cell_type": "code",
   "execution_count": 81,
   "metadata": {},
   "outputs": [
    {
     "name": "stdout",
     "output_type": "stream",
     "text": [
      "['@giovannatorrres', 'vai', 'trouxa,', 'compra', 'macbook', 'estando', 'acostumada', 'com', 'windows', 'desde', 'sempre', 'rt', '@go_nikaido:', 'pensando', 'aqui', 'o']\n"
     ]
    }
   ],
   "source": [
    "print(palavras_unicas)"
   ]
  },
  {
   "cell_type": "markdown",
   "metadata": {},
   "source": [
    "___\n",
    "### Concluindo"
   ]
  },
  {
   "cell_type": "code",
   "execution_count": null,
   "metadata": {},
   "outputs": [],
   "source": []
  },
  {
   "cell_type": "code",
   "execution_count": null,
   "metadata": {},
   "outputs": [],
   "source": []
  },
  {
   "cell_type": "markdown",
   "metadata": {},
   "source": [
    "___\n",
    "## Aperfeiçoamento:\n",
    "\n",
    "Os trabalhos vão evoluir em conceito dependendo da quantidade de itens avançados:\n",
    "\n",
    "* Limpar: \\n, :, \", ', (, ), etc SEM remover emojis\n",
    "* Corrigir separação de espaços entre palavras e emojis ou entre emojis e emojis\n",
    "* Propor outras limpezas e transformações que não afetem a qualidade da informação ou classificação\n",
    "* Criar categorias intermediárias de relevância baseadas na probabilidade: ex.: muito relevante, relevante, neutro, irrelevante, muito irrelevante (3 categorias: C, mais categorias conta para B)\n",
    "* Explicar por que não posso usar o próprio classificador para gerar mais amostras de treinamento\n",
    "* Propor diferentes cenários para Naïve Bayes fora do contexto do projeto\n",
    "* Sugerir e explicar melhorias reais com indicações concretas de como implementar (indicar como fazer e indicar material de pesquisa)\n",
    "* Montar um dashboard que realiza análise de sentimento e visualiza estes dados"
   ]
  },
  {
   "cell_type": "markdown",
   "metadata": {},
   "source": [
    "___\n",
    "## Referências"
   ]
  },
  {
   "cell_type": "markdown",
   "metadata": {},
   "source": [
    "[Naive Bayes and Text Classification](https://arxiv.org/pdf/1410.5329.pdf)  **Mais completo**\n",
    "\n",
    "[A practical explanation of a Naive Bayes Classifier](https://monkeylearn.com/blog/practical-explanation-naive-bayes-classifier/) **Mais simples**"
   ]
  },
  {
   "cell_type": "code",
   "execution_count": null,
   "metadata": {},
   "outputs": [],
   "source": []
  },
  {
   "cell_type": "code",
   "execution_count": null,
   "metadata": {},
   "outputs": [],
   "source": []
  }
 ],
 "metadata": {
  "kernelspec": {
   "display_name": "Python 3",
   "language": "python",
   "name": "python3"
  },
  "language_info": {
   "codemirror_mode": {
    "name": "ipython",
    "version": 3
   },
   "file_extension": ".py",
   "mimetype": "text/x-python",
   "name": "python",
   "nbconvert_exporter": "python",
   "pygments_lexer": "ipython3",
   "version": "3.7.4"
  }
 },
 "nbformat": 4,
 "nbformat_minor": 4
}
