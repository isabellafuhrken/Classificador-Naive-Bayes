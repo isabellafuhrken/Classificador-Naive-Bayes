{
 "cells": [
  {
   "cell_type": "markdown",
   "metadata": {},
   "source": [
    "# Projeto 1 - Ciência dos Dados"
   ]
  },
  {
   "cell_type": "markdown",
   "metadata": {},
   "source": [
    "Nome: Isabella Fuhrken\n",
    "\n",
    "Nome: Isabella Oliveira"
   ]
  },
  {
   "cell_type": "markdown",
   "metadata": {},
   "source": [
    "**Atenção:** Serão permitidos grupos de três pessoas, mas com uma rubrica mais exigente. Grupos deste tamanho precisarão fazer um questionário de avaliação de trabalho em equipe"
   ]
  },
  {
   "cell_type": "markdown",
   "metadata": {},
   "source": [
    "___\n",
    "Carregando algumas bibliotecas:"
   ]
  },
  {
   "cell_type": "code",
   "execution_count": 46,
   "metadata": {},
   "outputs": [],
   "source": [
    "#Importando bibliotecas\n",
    "%matplotlib inline\n",
    "import pandas as pd\n",
    "import matplotlib.pyplot as plt\n",
    "import numpy as np\n",
    "import os\n",
    "import re"
   ]
  },
  {
   "cell_type": "markdown",
   "metadata": {},
   "source": [
    "**Em `filename`, coloque o nome do seu arquivo de dados!**"
   ]
  },
  {
   "cell_type": "code",
   "execution_count": 47,
   "metadata": {
    "scrolled": false
   },
   "outputs": [
    {
     "name": "stdout",
     "output_type": "stream",
     "text": [
      "Encontrei o arquivo macbook.xlsx, tudo certo para prosseguir com a prova!\n"
     ]
    }
   ],
   "source": [
    "filename = 'macbook.xlsx'\n",
    "if filename in os.listdir(): # Verificando se o arquivo está no diretório \n",
    "    print(f'Encontrei o arquivo {filename}, tudo certo para prosseguir com a prova!')\n",
    "else:\n",
    "    print(f'Não encontrei o arquivo {filename} aqui no diretório {os.getcwd()}, será que você não baixou o arquivo?')"
   ]
  },
  {
   "cell_type": "markdown",
   "metadata": {},
   "source": [
    "Carregando a base de dados com os tweets classificados como relevantes e não relevantes:"
   ]
  },
  {
   "cell_type": "code",
   "execution_count": 48,
   "metadata": {},
   "outputs": [
    {
     "data": {
      "text/html": [
       "<div>\n",
       "<style scoped>\n",
       "    .dataframe tbody tr th:only-of-type {\n",
       "        vertical-align: middle;\n",
       "    }\n",
       "\n",
       "    .dataframe tbody tr th {\n",
       "        vertical-align: top;\n",
       "    }\n",
       "\n",
       "    .dataframe thead th {\n",
       "        text-align: right;\n",
       "    }\n",
       "</style>\n",
       "<table border=\"1\" class=\"dataframe\">\n",
       "  <thead>\n",
       "    <tr style=\"text-align: right;\">\n",
       "      <th></th>\n",
       "      <th>Treinamento</th>\n",
       "      <th>Relevância (0 - irrelevante ; 1- relevante)</th>\n",
       "    </tr>\n",
       "  </thead>\n",
       "  <tbody>\n",
       "    <tr>\n",
       "      <th>0</th>\n",
       "      <td>@giovannatorrres vai trouxa, compra macbook es...</td>\n",
       "      <td>0</td>\n",
       "    </tr>\n",
       "    <tr>\n",
       "      <th>1</th>\n",
       "      <td>rt @go_nikaido: pensando aqui o macbook do cha...</td>\n",
       "      <td>0</td>\n",
       "    </tr>\n",
       "    <tr>\n",
       "      <th>2</th>\n",
       "      <td>@marinenorstrahl @ogascao @lucasjtho ou econom...</td>\n",
       "      <td>1</td>\n",
       "    </tr>\n",
       "    <tr>\n",
       "      <th>3</th>\n",
       "      <td>vendendo um macbook pro bem bichado, porém fun...</td>\n",
       "      <td>1</td>\n",
       "    </tr>\n",
       "    <tr>\n",
       "      <th>4</th>\n",
       "      <td>a maior decepção com meu macbook novo é que el...</td>\n",
       "      <td>0</td>\n",
       "    </tr>\n",
       "  </tbody>\n",
       "</table>\n",
       "</div>"
      ],
      "text/plain": [
       "                                         Treinamento  \\\n",
       "0  @giovannatorrres vai trouxa, compra macbook es...   \n",
       "1  rt @go_nikaido: pensando aqui o macbook do cha...   \n",
       "2  @marinenorstrahl @ogascao @lucasjtho ou econom...   \n",
       "3  vendendo um macbook pro bem bichado, porém fun...   \n",
       "4  a maior decepção com meu macbook novo é que el...   \n",
       "\n",
       "   Relevância (0 - irrelevante ; 1- relevante)   \n",
       "0                                             0  \n",
       "1                                             0  \n",
       "2                                             1  \n",
       "3                                             1  \n",
       "4                                             0  "
      ]
     },
     "execution_count": 48,
     "metadata": {},
     "output_type": "execute_result"
    }
   ],
   "source": [
    "# Lendo os arquivos do Excel\n",
    "train = pd.read_excel(filename) \n",
    "train.head() # Imprimindo as 5 primeiras linhas do arquivo"
   ]
  },
  {
   "cell_type": "code",
   "execution_count": 49,
   "metadata": {},
   "outputs": [
    {
     "data": {
      "text/html": [
       "<div>\n",
       "<style scoped>\n",
       "    .dataframe tbody tr th:only-of-type {\n",
       "        vertical-align: middle;\n",
       "    }\n",
       "\n",
       "    .dataframe tbody tr th {\n",
       "        vertical-align: top;\n",
       "    }\n",
       "\n",
       "    .dataframe thead th {\n",
       "        text-align: right;\n",
       "    }\n",
       "</style>\n",
       "<table border=\"1\" class=\"dataframe\">\n",
       "  <thead>\n",
       "    <tr style=\"text-align: right;\">\n",
       "      <th></th>\n",
       "      <th>Teste</th>\n",
       "      <th>Relevância (0 - irrelevante ; 1- relevante)</th>\n",
       "    </tr>\n",
       "  </thead>\n",
       "  <tbody>\n",
       "    <tr>\n",
       "      <th>0</th>\n",
       "      <td>@eduardo_ocastro comprei um macbook 2012 a 6 a...</td>\n",
       "      <td>1</td>\n",
       "    </tr>\n",
       "    <tr>\n",
       "      <th>1</th>\n",
       "      <td>serei cara de pau e vou pedir pros meus tios e...</td>\n",
       "      <td>1</td>\n",
       "    </tr>\n",
       "    <tr>\n",
       "      <th>2</th>\n",
       "      <td>pensando aqui o macbook do chan parece uma bom...</td>\n",
       "      <td>1</td>\n",
       "    </tr>\n",
       "    <tr>\n",
       "      <th>3</th>\n",
       "      <td>@djnicolepeixoto pega um macbook pro 2012, bot...</td>\n",
       "      <td>1</td>\n",
       "    </tr>\n",
       "    <tr>\n",
       "      <th>4</th>\n",
       "      <td>iphone 12, novo applewatch, ipad e macbook 🤩🤩🤩...</td>\n",
       "      <td>1</td>\n",
       "    </tr>\n",
       "  </tbody>\n",
       "</table>\n",
       "</div>"
      ],
      "text/plain": [
       "                                               Teste  \\\n",
       "0  @eduardo_ocastro comprei um macbook 2012 a 6 a...   \n",
       "1  serei cara de pau e vou pedir pros meus tios e...   \n",
       "2  pensando aqui o macbook do chan parece uma bom...   \n",
       "3  @djnicolepeixoto pega um macbook pro 2012, bot...   \n",
       "4  iphone 12, novo applewatch, ipad e macbook 🤩🤩🤩...   \n",
       "\n",
       "   Relevância (0 - irrelevante ; 1- relevante)   \n",
       "0                                             1  \n",
       "1                                             1  \n",
       "2                                             1  \n",
       "3                                             1  \n",
       "4                                             1  "
      ]
     },
     "execution_count": 49,
     "metadata": {},
     "output_type": "execute_result"
    }
   ],
   "source": [
    "# Lendo os arquivos do Excel\n",
    "test = pd.read_excel(filename, sheet_name = 'Teste') \n",
    "test.head() # Imprimindo as 5 primeiras linhas do arquivo"
   ]
  },
  {
   "cell_type": "markdown",
   "metadata": {},
   "source": [
    "___\n",
    "## Classificador automático de sentimento\n"
   ]
  },
  {
   "cell_type": "markdown",
   "metadata": {},
   "source": [
    "Faça aqui uma descrição do seu produto e o que considerou como relevante ou não relevante na classificação dos tweets.\n",
    "\n",
    "O MacBook é um notebook da empresa Apple e ao levantarmos tweets sobre ele, definimos como relevante críticas e considerações acerca do desempenho do produto, além do desejo de obtenção de tal pelos usuários do Twitter. Já foram considerados como irrelaventes, sorteios, memes e venda de produtos."
   ]
  },
  {
   "cell_type": "markdown",
   "metadata": {},
   "source": [
    "___\n",
    "### Montando um Classificador Naive-Bayes\n",
    "\n",
    "Considerando apenas as mensagens da planilha Treinamento, ensine  seu classificador."
   ]
  },
  {
   "cell_type": "markdown",
   "metadata": {},
   "source": [
    "#### Função de limpeza dos dados "
   ]
  },
  {
   "cell_type": "code",
   "execution_count": 70,
   "metadata": {},
   "outputs": [],
   "source": [
    "def cleanup(dados):\n",
    "    punctuation = '[!-.:?;,#`´@/\\…|=\"]' # Remoção de certos símbolos \n",
    "    pattern = re.compile(punctuation)\n",
    "    text_subbed = re.sub(pattern, ' ', dados)\n",
    "    # Remoção dos acentos \n",
    "    text_subbed=text_subbed.replace('á','a')\n",
    "    text_subbed=text_subbed.replace('ã','a')\n",
    "    text_subbed=text_subbed.replace('â','a')\n",
    "    text_subbed=text_subbed.replace('é','e')\n",
    "    text_subbed=text_subbed.replace('ê','e')\n",
    "    text_subbed=text_subbed.replace('í','i')\n",
    "    text_subbed=text_subbed.replace('ô','o')\n",
    "    text_subbed=text_subbed.replace('ó','o')\n",
    "    text_subbed=text_subbed.replace('ú','u')\n",
    "    text_subbed=text_subbed.replace('ç','c')\n",
    "    return text_subbed"
   ]
  },
  {
   "cell_type": "markdown",
   "metadata": {},
   "source": [
    "#### Analisando os dados relevantes"
   ]
  },
  {
   "cell_type": "code",
   "execution_count": 71,
   "metadata": {},
   "outputs": [
    {
     "name": "stdout",
     "output_type": "stream",
     "text": [
      "Frequência Absoluta\n",
      " macbook          123\n",
      "e                 98\n",
      "um                92\n",
      "que               55\n",
      "o                 49\n",
      "                ... \n",
      "500                1\n",
      "ruimoura           1\n",
      "doido              1\n",
      "imediatamente      1\n",
      "bichado            1\n",
      "Length: 856, dtype: int64\n",
      "\n",
      "Frequência Relativa\n",
      "  macbook          0.053618\n",
      "e                0.042720\n",
      "um               0.040105\n",
      "que              0.023976\n",
      "o                0.021360\n",
      "                   ...   \n",
      "500              0.000436\n",
      "ruimoura         0.000436\n",
      "doido            0.000436\n",
      "imediatamente    0.000436\n",
      "bichado          0.000436\n",
      "Length: 856, dtype: float64\n"
     ]
    }
   ],
   "source": [
    "# Filtrando os dados relevantes da planilha do treinamento\n",
    "relevante = train.loc[train['Relevância (0 - irrelevante ; 1- relevante) '] == 1]\n",
    "\n",
    "# Transformando os dados em um único texto\n",
    "textao_relevante = ' '.join(relevante.Treinamento)\n",
    "\n",
    "# Limpando o texto e transformando-o em uma lista\n",
    "lista_r = (cleanup(textao_relevante)).split()\n",
    "\n",
    "# Transformando a lista em uma Series\n",
    "df_relevante = pd.Series(lista_r)\n",
    "\n",
    "# Tabelas de frequências absolutas e relativas do df_relevante\n",
    "abs_relevante = df_relevante.value_counts()\n",
    "rel_relevante = df_relevante.value_counts(True)\n",
    "\n",
    "# Imprimindo as tabelas\n",
    "print(\"Frequência Absoluta\\n\", abs_relevante) \n",
    "print(\"\\nFrequência Relativa\\n \", rel_relevante) \n"
   ]
  },
  {
   "cell_type": "markdown",
   "metadata": {},
   "source": [
    "#### Analisando os dados irrelevantes"
   ]
  },
  {
   "cell_type": "code",
   "execution_count": 72,
   "metadata": {},
   "outputs": [
    {
     "name": "stdout",
     "output_type": "stream",
     "text": [
      "Frequência Absoluta\n",
      " macbook         174\n",
      "e               114\n",
      "um              108\n",
      "de              101\n",
      "o               100\n",
      "               ... \n",
      "nerd              1\n",
      "independente      1\n",
      "mesma             1\n",
      "requisito         1\n",
      "tentado           1\n",
      "Length: 1374, dtype: int64\n",
      "\n",
      "Frequência Relativa\n",
      " macbook         0.045372\n",
      "e               0.029726\n",
      "um              0.028162\n",
      "de              0.026336\n",
      "o               0.026076\n",
      "                  ...   \n",
      "nerd            0.000261\n",
      "independente    0.000261\n",
      "mesma           0.000261\n",
      "requisito       0.000261\n",
      "tentado         0.000261\n",
      "Length: 1374, dtype: float64\n"
     ]
    }
   ],
   "source": [
    "# Filtrando os dados irrelevantes da planilha do treinamento\n",
    "irrelevante = train.loc[train['Relevância (0 - irrelevante ; 1- relevante) '] == 0]\n",
    "\n",
    "# Transformando os dados em um único texto\n",
    "textao_irrelevante = ' '.join(irrelevante.Treinamento)\n",
    "\n",
    "# Limpando o texto e transformando-o em uma lista\n",
    "lista_i = (cleanup(textao_irrelevante)).split()\n",
    "\n",
    "# Transformando a lista em uma Series\n",
    "df_irrelevante = pd.Series(lista_i)\n",
    "\n",
    "\n",
    "# Tabelas de frequências absolutas e relativas do df_irrelevante\n",
    "abs_irrelevante = df_irrelevante.value_counts()\n",
    "rel_irrelevante = df_irrelevante.value_counts(True)\n",
    "\n",
    "# Imprimindo as tabelas\n",
    "print(\"Frequência Absoluta\\n\",abs_irrelevante) \n",
    "print(\"\\nFrequência Relativa\\n\", rel_irrelevante) \n"
   ]
  },
  {
   "cell_type": "markdown",
   "metadata": {},
   "source": [
    "#### Analisando todos os dados"
   ]
  },
  {
   "cell_type": "code",
   "execution_count": 73,
   "metadata": {},
   "outputs": [
    {
     "name": "stdout",
     "output_type": "stream",
     "text": [
      "Frequência Absoluta Total\n",
      " macbook      297\n",
      "e            212\n",
      "um           200\n",
      "o            149\n",
      "de           148\n",
      "            ... \n",
      "lancei         1\n",
      "🤩              1\n",
      "facinho        1\n",
      "braba          1\n",
      "protetora      1\n",
      "Length: 1865, dtype: int64\n",
      "\n",
      "Frequência Relativa Total\n",
      " macbook      0.048458\n",
      "e            0.034590\n",
      "um           0.032632\n",
      "o            0.024311\n",
      "de           0.024147\n",
      "               ...   \n",
      "lancei       0.000163\n",
      "🤩            0.000163\n",
      "facinho      0.000163\n",
      "braba        0.000163\n",
      "protetora    0.000163\n",
      "Length: 1865, dtype: float64\n"
     ]
    }
   ],
   "source": [
    "\n",
    "# Transformando os dados em um único texto\n",
    "textao_total = ' '.join(train.Treinamento)\n",
    "\n",
    "\n",
    "# Limpando o texto e transformando-o em uma lista\n",
    "lista_total = (cleanup(textao_total)).split()\n",
    "\n",
    "# Transformando a lista em uma Series\n",
    "df_total = pd.Series(lista_total)\n",
    "\n",
    "# Tabelas de frequências absolutas e relativas do df_irrelevante\n",
    "abs_total = df_total.value_counts()\n",
    "rel_total = df_total.value_counts(True)\n",
    "\n",
    "# Imprimindo as tabelas\n",
    "print(\"Frequência Absoluta Total\\n\", abs_total) \n",
    "print(\"\\nFrequência Relativa Total\\n\", rel_total) \n"
   ]
  },
  {
   "cell_type": "markdown",
   "metadata": {},
   "source": [
    "#### Imprimindo as listas e calculando o tamanho das tabelas de frequências absolutas"
   ]
  },
  {
   "cell_type": "code",
   "execution_count": 74,
   "metadata": {},
   "outputs": [
    {
     "name": "stdout",
     "output_type": "stream",
     "text": [
      "['giovannatorrres', 'vai', 'trouxa', 'compra', 'macbook', 'estando', 'acostumada', 'com', 'windows', 'desde', 'sempre', 'rt', 'go_nikaido', 'pensando', 'aqui', 'o', 'macbook', 'do', 'chan', 'parece', 'uma', 'bomba', 'https', 't', 'co', 'hefmtybspc', 'marinenorstrahl', 'ogascao', 'lucasjtho', 'ou', 'economiza', 'no', 'ifood', 'e', 'compra', 'um', 'macbook', 'pro', 'vale', 'cada', 'centavo', 'vendendo', 'um', 'macbook', 'pro', 'bem', 'bichado', 'porem', 'funcionando', 'alguem', 'sabe', 'onde', 'posso', 'levar', 'pra', 'reaproveitarem', 'as', 'pecas', 'sera', 'que', 'pego', 'ao', 'menos', '1k', 'nele', 'a', 'maior', 'decepcao', 'com', 'meu', 'macbook', 'novo', 'e', 'que', 'ele', 'simplesmente', 'nao', 'tem', 'cheiro', 'nenhum', 'nada', 'daquele', 'cheirinho', 'de', 'novo', 'tou', 'achando', 'q', 'e', 'por', 'causa', 'daquelas', 'leis', 'novas', 'da', 'ce', 'q', 'proibem', 'cheiros', 'toxicos', 'nos', 'produtos', 'eu', 'responderia', 'saude', 'um', 'mundo', 'mais', 'justo', 'a', 'vacina', 'da', 'covid', 'para', 'todos', 'voltar', 'a', 'trabalhar', 'e', 'um', 'macbook', 'novo', 'me', 'atende', 'papai', 'noel', 'amiga', 'tu', 'ja', 'ouviu', 'falar', 'em', 'formatar', 'computador', 'nao', 'precisava', 'jogar', 'um', 'macbook', 'bom', 'no', 'rio', 'era', 'so', 'formatar', 'meu', 'sonho', 'trabalhar', 'numa', 'mesa', 'branca', 'com', 'o', 'meu', 'macbook', 'um', 'copo', 'de', 'cafe', 'do', 'lado', 'e', 'fazendo', 'anotacao', 'num', 'livro', 'quando', 'foi', 'que', 'eu', 'virei', 'tao', 'adulta', 'josiasteofilo', 'eu', 'acho', 'que', 'e', 'sempre', 'mais', 'do', 'mesmo', 'e', 'logo', 'vem', 'muito', 'mais', 'caro', 'sao', 'bons', 'aparelhos', 'sao', 'mas', 'macbook', 'custar', 'mais', 'de', '17k', 'e', 'uma', 'loucura', 'stuarttliro', 'macbook', 'ipad', 'iphone', 'e', 'o', 'carregador', 'ta', 'de', 'bom', 'tamanho🤝', 'rt', 'alvaropereirajr', 'no', 'apavorante', 'mausoleu', 'onde', 'estao', 'os', 'corpos', 'embalsamados', 'de', 'kim', 'il', 'sung', 'e', 'kim', 'jong', 'il', 'em', 'pyongyang', 'uma', 'das', 'atracões', 'meu', 'pai', 'querendo', 'q', 'eu', 'escolha', 'um', 'macbook', 'e', 'eu', '😐❓❓❓❓n', 'quero', 'deus', 'eu', 'juro', 'que', 'se', 'o', 'senhor', 'transformar', 'meu', 'notebook', 'em', 'um', 'macbook', 'eu', 'nao', 'conto', 'pra', 'ninguem', 'digo', 'pra', 'todo', 'mundo', 'que', 'ganhei', 'em', 'sorteio', 'do', 'instagram', 'antonyo_almeida', 'alltoowellpt', 'macbook', 'com', 'a14x', 'ja', 'ricaaaaaaaardo', 'so', 'queria', 'um', 'macbook', '😔', 'finalde2003', 'pfv', 'n', 'me', 'diga', 'q', 'e', 'um', 'macbook', 'vai', 'apple', 'lanca', 'logo', 'os', 'produtos', 'novos', 'p', 'cair', 'o', 'preco', 'dos', 'antigos', 'p', 'eu', 'comprar', 'um', 'macbook', 'kkkkk', 'carta', 'irmao', 'jose', 'branham', 'as', 'ultimas', 'dores', 'do', 'parto', 'https', 't', 'co', 'irjjirmly3', 'macbook', 'mano', 'agora', 'e', 'serio', 'quando', 'e', 'comeca', 'esse', 'bagulho', 'da', 'unifesspa', 'dar', 'os', 'macbook', 'tenho', 'internet', 'po', 'preciso', 'e', 'de', 'um', 'computador', 'caraca', 'quero', 'muito', 'um', 'macbook', '2020', '🥰😍', 'rt', 'novacanedude', 'hoje', 'sonhando', 'mais', 'que', 'nunca', 'com', 'meu', 'amor', 'cada', 'um', 'com', 'um', 'macbook', 'trabalhando', 'em', 'nossa', 'casa', 'propria', 'e', 'falando', '“lembra', 'amo', 'nao', 'confio', 'em', 'pessoas', 'q', 'tem', 'macbook', 'essa', 'e', 'uma', 'conviccao', 'q', 'ja', 'levo', 'ha', 'anos', 'comigo', 'rt', 'cantinholabres', '📢', 'sorteio', 'no', 'ig', 'da', 'barbaralabres', '➡️', '1', 'iphone', '11', 'pro', 'macbook', 'airpods', 'apple', 'watch', '•', 'para', 'participar', 'basta', 'seg', 'queria', 'adesivinhos', 'bonitos', 'pra', 'colar', 'na', 'tampa', 'do', 'macbook', 'a', 'pessoa', 'com', 'um', '~macbook~', 'e', 'tendo', 'que', 'suar', 'a', 'tabua', 'de', 'passar', 'roupa', 'como', 'mesa', 'https', 't', 'co', 'spfw2fscyp', 'me', 'da', 'um', 'macbook', 'ou', 'um', 'imac', 'de', 'natal', 'papai', 'na', 'primeira', 'dificuldade', 'que', 'eu', 'esbarrei', 'ja', 'desisti', 'e', 'montei', 'meu', 'setup', 'com', 'o', 'macbook', 'no', 'monitor', 'externo', 'de', 'novo', 'fskripski', 'ninaflsbrt', 'tem', 'fonte', 'paralela', 'nova', 'por', 'uns', '100~150', 'no', 'mercado', 'livre', 'se', 'nao', 'se', 'importar', 'de', 'comprar', 'uma', 'original', 'usada', 'vai', 'de', 'olx', 'https', 't', 'co', 'zvxgiy62g2', 'rodidico', 'a', 'unica', 'pessoa', 'que', 'porta', 'um', 'macbook', 'e', 'e', 'gente', 'boa', 'que', 'eu', 'conheco', 'e', 'o', 'fabio', 'caralho', 'a', 'promocao', 'do', 'ig', 'da', 'barbara', 'ate', 'salivei', 'com', 'o', 'macbook', '🤤', 'pirigotico', 'ele', 'de', 'macbook', 'e', 'calca', 'marrom', 'https', 't', 'co', '1ocbaxaa2m', 'eu', 'tenho', 'fe', 'q', 'hoje', 'vai', 'ter', 'apple', 'lancando', 'macbook', 'ja', 'c', 'o', 'apple', 'silicon', 'atualizei', 'meu', 'macbook', 'pro', 'catalina', 'e', 'ja', 'baixei', 'fl', 'studio', 'boa', 'eu', 'depois', 'que', 'atualizei', 'o', 'sistema', 'operacional', 'e', 'trouxe', 'meu', 'macbook', 'de', 'volta', 'a', 'vida', 'https', 't', 'co', 'f93awokadp', 'em', '2018', 'tivemos', '2', 'appleevent', 's', '1°', '12', 'setembro', 'iphones', 'xs', 'xs', 'max', 'xr', 'apple', 'watch', 'series', '4', '2°', '30', 'outubro', 'ipad', 'pro', 'macbook', 'air', 'e', 'mac', 'mini', 'ja', 'esse', 'ano', '2020', '1°', '15', 'setembro', '2°', 'outubro', 'qual', 'o', 'seu', 'palpite', 'comente', 'para', 'dias', 'diferentes', 'appleevent', 'appleevent2020', 'macbook', 'e', 'caro', 'pra', 'crlhhhhh', 'como', 'gravar', 'ligacões', 'no', 'iphone', 'tweak', 'audio', 'recorder', 'xs', 'pago', '👍🏾', '🇧🇷', '📲', 'https', 't', 'co', 'olyekgfx8o', 'retweet', 'no', 'post', 'para', 'mais', 'pessoas', 'terem', 'visibilidade', 'apple', 'ios', 'iphone', 'ipad', 'applewatch', 'macbook', 'homepod', 'ipadpro', 'applesyncbrasil', '🇧🇷', 'era', 'pra', 'eu', 'estar', 'dormindo', 'mas', 'to', 'vendo', 'preco', 'macbook', 'lirounani', 'macedeusa_', 'eu', 'ri', 'quando', 'a', 'gente', 'falou', 'que', 'ele', 'era', 'rico', 'quando', 'a', 'gnt', 'viu', 'o', 'macbook', 'dele', 'e', 'ele', 'gente', 'nada', 'ver', 'eu', 'comprei', 'em', 'nova', 'york', 'nicacio_7', 'ammorajoias_', 'tatuagefoda', 'eu', 'pedi', 'o', 'macbook', 'voce', 'nao', 'me', 'deu', 'a', 'fila', 'anda', 'vei', 'nao', 'faz', 'sentido', 'nenhum', 'o', 'ipad', 'pro', 'ser', 'mais', 'caro', 'que', 'o', 'macbook', 'air', 'alguem', 'sabe', 'uma', 'maneira', 'rapida', 'de', 'passar', '10', 'mil', 'fotos', 'do', 'rolo', 'da', 'camera', 'pro', 'macbook', 'sem', 'ser', 'pelo', 'itunes', 'ou', 'importando', '🆘', 'pelo', 'amor', 'de', 'deus', 'se', 'alguem', 'entender', 'de', 'macbook', 'ajude', 'meu', 'google', 'chrome', 'voltar', 'a', 'pegar', 'eu', 'boto', 'as', 'pagina', 'pra', 'carregar', 'e', 'nao', 'carrega', 'nada', 'fica', 'so', 'rodando', 'o', 'bicho', 'la', 'ai', 'qnd', 'boto', 'pra', 'reconfigurar', 'nao', 'vai', 'e', 'ja', 'desinstalei', 'e', 'instalei', 'tambem', 'o', 'que', 'eu', 'faco', 'meu', 'deus', 'https', 't', 'co', '6azzta7mqq', 'alguem', 'me', 'vende', 'um', 'macbook', 'voces', 'tambem', 'levam', 'choque', 'do', 'macbook', 'de', 'vcs', 'eu', 'sou', 'muito', 'cadelinha', 'da', 'apple', 'queria', 'muito', 'um', 'applewatch', 'um', 'macbook', 'um', 'ipad', 'poxa', 'queria', 'um', 'adesivo', 'do', 'psicopato', 'do', 'meu', 'avatar', 'pra', 'fechar', 'a', 'maca', 'do', 'meu', 'macbook', 'sera', 'que', 'sou', 'nerd', 'olha', 'oq', 'eu', 'gosto', 'de', 'assistir', 'unboxing', 'a', 'sealed', '17', 'inch', 'macbook', 'pro', 'from', '2007', 'https', 't', 'co', 'cssxyxcgdv', 'via', 'youtube', 'kevynp_', 'mano', 'sim', 'kkkkk', 'so', 'um', 'macbook', 'pro', 'pra', 'eu', 'colar', 'uns', 'adesivinho', 'lmjcc1', 'mostrou', 'para', 'ela', 'o', 'app', 'furacões', 'pediu', 'para', 'ela', 'guardar', 'o', 'macbook', 'todo', 'mundo', 'da', 'minha', 'turma', 'tem', 'macbook', 'namoral', 'revoltante', 'e', 'tenho', 'um', 'macbook', 'pro', '13', 'polegadas', 'core', '2', 'duo', 'zerado', 'tambem', 'se', 'botar', 'mais', '4gb', 'de', 'memoria', 'e', 'um', 'ssd', 'roda', 'lindo', 'tambem', 'era', 'da', 'minha', 'mae', 'ta', 'zerado', 'impecavel', 'r', '2500', 'leva', 'sei', 'que', 'fica', 'legal', 'por', 'que', 'tenho', 'um', 'identico', 'e', 'fiz', 'esse', 'upgrade', 'e', 'rodo', 'ate', 'logic', 'pro', 'x', 'nele', 'sem', 'problemas', '📲', 'indiana', 'massara', 'via', 'instagram', '“tempo', 'de', 'oferta', '🤑', 'quem', 'esta', 'pronto', 'para', 'ganhar', 'um', 'monte', 'de', 'premios', 'de', 'incriveis', 'fiz', 'uma', 'parceria', 'com', 'a', 'international', 'loops', 'para', 'dar', 'a', 'voce', 'um', 'iphone', '11', 'um', 'laptop', 'macbook', 'air', 'um', 'ipad', 'pro', 'e', 'airpods', 'ou', '1000', 'em', 'dinheiro', '🏦', 'https', 't', 'co', 'q1cjgkeqjl', 'comprar', 'macbook', 'uma', 'enorme', 'furada', 'pra', 'mulher', 'que', 'vai', 'investir', 'na', 'carreira', 'gamer', 'stream', 'de', 'the', 'sims', 'to', 'precisando', 'comprar', 'um', 'notebook', 'bom', 'pra', 'programar', 'pro', 'caso', 'de', 'acontecer', 'de', 'eu', 'ficar', 'sem', 'internet', 'em', 'casa', 'igual', 'quinta', 'e', 'sexta', 'estava', 'pesquisando', 'os', 'precos', 'do', 'macbook', 'e', 'e', 'absurdo', 'o', 'preco', 'disso', 'aqui', 'no', 'brasil', 'na', 'verdade', 'o', 'preco', 'dos', 'produtos', 'da', 'apple', 'aqui', 'no', 'br', 'e', 'um', 'assalto', 'adivinha', 'quem', 'trabalha', 'com', 'macbook', 'agora', 'https', 't', 'co', 'xacy0lbs0q', 'hj', 'tem', 'appleevent', 'a', 'esperanca', 'e', 'q', 'novos', 'lancamentos', 'diminuem', 'os', 'precos', 'do', 'q', 'ja', 'foi', 'lancado', 'neammmm', 'pq', 'ta', 'f', 'ate', 'queria', 'um', 'computador', 'novo', 'mas', 'pagar', 'o', 'preco', 'de', 'um', 'carro', 'n', 'da', 'nao', 'lembro', 'q', 'paguei', '3', 'mil', 'e', 'pouco', 'no', 'meu', 'macbook', 'em', '2011', 'e', 'ja', 'achava', 'absurdo', 'agora', 'ta', 'quase', 'um', 'decidi', 'q', 'n', 'vou', 'comprar', 'um', 'nada', 'ate', 'eu', 'juntar', 'dinheiro', 'p', 'comprar', 'um', 'macbook', 'o', 'capitalismo', 'venceu', 'noticias', 'news', 'outlet', 'blog', 'apple', 'iphone', 'ipad', 'macbook', 'asap', 'https', 't', 'co', 'kxha5ie5qz', 'povo', 'se', 'sujeita', 'a', 'entrar', 'na', 'fazenda', 'para', 'ganhar', 'um', 'cache', 'que', 'basicamente', 'e', 'o', 'preco', 'de', 'um', 'macbook', '3', 'meses', 'de', 'expondo', 'de', 'uma', 'forma', 'agressiva', 'por', 'isso', 'meio', 'hard', 'eu', 'nao', 'ia', '🤔🤔🤔', 'rosana', 'e', 'o', 'meu', 'macbook', 'pro', 'de', '2018', 'que', 'esta', 'com', 'um', 'problema', 'no', 'flat', 'cable', 'e', 'tem', 'que', 'trocar', 'a', 'tela', 'inteira', 'que', 'custa', '4500', '00', 'o', 'pior', 'e', 'que', 'e', 'um', 'problema', 'cronico', 'da', 'apple', 'estao', 'sendo', 'processados', 'por', 'isso', 'nos', 'eua', 'mas', 'nao', 'querem', 'saber', 'eu', 'que', 'lute', 'nicesx_', 'porra', 'bicho', 'ai', 'a', 'gnt', 'so', 'pode', 'fechar', 'o', 'negocio', 'qnd', 'eu', 'souber', 'qual', 'mac', 'q', 'ela', 'vai', 'te', 'dar', 'slc', 'vai', 'que', 'eu', 'do', 'foto', 'da', 'minha', 'raba', 'por', 'um', 'macbook', 'air', 'ai', 'eu', 'me', 'mato', 'de', 'vez', 'eduss26', 'rulexcat', 'opedry', 'na', 'realidade', 'tem', 'rumores', 'de', 'realmente', 'so', 'anunciar', 'no', 'evento', 'de', 'outubro', 'mesmo', 'hoje', 'seria', 'focado', 'no', 'apple', 'watch', 'ipad', 'airtags', 'e', 'talvez', 'ano', 'novo', 'macbook', 'com', 'apple', 'silicon', 'macbook', 'ou', 'ipad', 'com', 'teclado', 'o', 'que', 'fazer', 'com', 'um', 'macbook', 'pro', '2011', 'meio', 'vivo', 'meio', 'morto', 'bom', 'dia', 'eu', 'quero', 'saber', 'pq', 'ainda', 'nao', 'uso', 'um', 'macbook', 'aqui', 'no', 'escritorio', 'whatreweliving4', 'ai', 'nem', 'me', 'lembre', 'disso', 'os', 'katycats', 'doaram', 'mais', 'de', 'mil', 'dolares', 'pra', 'ajudar', 'na', 'musica', 'da', 'katy', 'e', 'ele', 'foi', 'la', 'e', 'comprou', 'um', 'macbook', 'https', 't', 'co', 'm3nnnt6x91', 'pai', 'me', 'de', 'um', 'macbook', 'imediatamente', 'eu', 'quero', 'apoiar', 'o', 'capitalismo', 'vai', 'anda', 'anda', 'delreychaos', 'eu', 'comprava', 'um', 'carro', 'e', 'dava', 'varios', 'piao', 'fodas', 'o', 'macbook', 'rt', 'xths_', 'kevynp_', 'mano', 'sim', 'kkkkk', 'so', 'um', 'macbook', 'pro', 'pra', 'eu', 'colar', 'uns', 'adesivinho', 'ruimoura', 'n', 'tenho', 'problemas', 'em', 'comprar', 'coisas', 'da', 'apple', 'porque', 'a', 'qualidade', 'e', 'de', 'facto', 'impressionante', 'tenho', 'uma', 'pessoa', 'na', 'empresa', 'que', 'ainda', 'usa', 'um', 'macbook', 'air', 'de', '2011', 'e', 'ainda', 'bomba', 'forte', 'nunca', 'tive', 'nada', 'que', 'se', 'estragasse', 'a', 'rodinha', 'do', 'watch', 's2', 'foi', 'a', 'unica', 'coisa', 'ate', 'hj', 'q', 'me', 'deixou', 'de', 'funcionar', 'erickadams0', 'mas', 'e', 'porque', 'o', 'nome', 'do', 'aparelho', 'e', 'iphone', 'mesmo', 'assim', 'como', 'ninguem', 'fala', '“pega', 'la', 'meu', 'notebook”', 'quando', 'vai', 'se', 'referir', 'ao', 'macbook', 'a', 'pessoa', 'fala', '“pega', 'la', 'meu', 'macbook”', 'sacou', 'alguem', 'me', 'da', 'um', 'macbook', 'todas', 'as', 'pessoas', 'q', 'eu', 'conheco', 'q', 'tem', 'macbook', 'ou', 'compraram', 'com', 'bolsa', 'do', 'ciencia', 'sem', 'fronteiras', 'ou', 'fizeram', 'uma', 'gambiarra', 'danada', 'pra', 'importar', 'barato', 'n', 'consigo', 'nem', 'conceber', 'um', 'amigo', 'q', 'tenha', '12', '000', 'sobrando', 'pra', 'comprar', 'um', 'computador', 'serase', 'eu', 'compro', 'so', 'not', 'qualquer', 'e', 'depois', 'pego', 'um', 'iphone', 'ou', 'pego', 'um', 'macbook', 'e', 'anos', 'depois', 'quando', 'terminar', 'de', 'pagar', 'o', 'mac', 'eu', 'pego', 'um', 'iphone', 'krikrikrine', 'e', 'menina', 'ele', 'nem', 'e', 'rico', 'so', 'pose', 'com', 'o', 'macbook', 'e', 'a', 'caneta', 'de', '500', 'reais', 'o', 'teu', 'macbook', 'nao', 'passa', 'deste', 'ecra', 'nos', 'podemos', 'resolver', 'pede', 'um', 'orcamento', 'gratis', '👉', 'https', 't', 'co', 'kvnnldg7mk', '914', '090', '000', 'info', 'youget', 'pt', 'apple', 'repair', 'https', 't', 'co', 'khjipd9scr', 'meu', 'setup', 'de', 'trampo', 'atual', 'ipad', 'pro', '2018', 'macbook', 'pro', '13”', '2015', 'apple', 'e', 'caro', 'e', 'e', 'muito', 'caro', 'mas', 'dura', 'e', 'lembre', 'se', 'sao', 'ferramentas', 'de', 'trabalho', 'sou', 'apple', 'fag', 'em', 'alguns', 'sentidos', 'por', 'exemplo', 'eu', 'nao', 'teria', 'nem', 'um', 'apple', 'watch', 'nem', 'um', 'airpod', 'appleevent', 'https', 't', 'co', 'dsadoklodb', 'meu', 'deuuussss', 'cara', 'como', 'eu', 'odeio', 'macbook', 'puta', 'que', 'pariu', 'gus_bruno', 'pedruckss', 'eu', 'tambem', 'to', 'com', 'necessidade', 'o', 'meu', 'macbook', 'da', 'candida', 'e', 'de', '2011', 'https', 't', 'co', 'q1na49epxv', 'rt', 'oibalfoaoj', 'deus', 'eu', 'juro', 'que', 'se', 'o', 'senhor', 'transformar', 'meu', 'notebook', 'em', 'um', 'macbook', 'eu', 'nao', 'conto', 'pra', 'ninguem', 'digo', 'pra', 'todo', 'mundo', 'que', 'ganhei', 'noticias', 'news', 'promocões', 'blog', 'apple', 'iphone', 'ipad', 'macbook', 'asap', 'https', 't', 'co', 'ae8zg4bk9a', 'agora', 'q', 'o', 'trampo', 'me', 'mandou', 'um', 'macbook', 'vou', 'poder', 'usar', 'macvim', 'novamente', '3', 'quando', 'eu', 'tiver', 'dinheiro', 'e', 'tiver', 'um', 'macbook', 'eu', 'vou', 'lembrar', 'misakiputa', 'essa', 'merda', 'da', 'para', 'macbook', 'aff', 'queria', 'ter', 'um', 'macbook', 'pro', 'https', 't', 'co', 'q5w0gintqg', 'vcs', 'acham', 'melhor', 'eu', 'comprar', 'um', 'macbook', 'ou', 'um', 'ipad', 'lembro', 'que', 'antigamente', 'eu', 'ficava', 'doido', 'com', 'esses', 'eventos', 'da', 'apple', 'hj', 'em', 'dia', 'cago', 'baldes', 'nao', 'odeio', 'a', 'apple', 'nem', 'nada', 'adoro', 'o', 'macbook', 'e', 'nunca', 'usei', 'nenhum', 'computador', 'melhor', 'mas', 'acho', 'muito', 'buzz', 'pra', 'pouca', 'inovacao', 'real', 'tudo', 'muito', 'caro', 'so', 'pela', 'marca', 'basgan', 'gittigidiyor', 'https', 't', 'co', 'tcifroptc1', 'aklınagelenlerkapınagelsin', '25', 'belhanda', 'appleevent', 'eu', 'sei', 'que', 'ja', 'sou', 'cadelinha', 'da', 'apple', 'macbook', 'airpods', 'iphone', 'e', 'apple', 'watch', 'ja', 'quero', 'trocar', 'meu', 'iphone', 'e', 'meu', 'apple', 'watch', 'aaaaa', 'titanicrisiing', 'vc', 'pedindovmeu', 'macbook', 'quem', 'acostuma', 'com', 'ios', 'pra', 'depois', 'pegar', 'qualquer', 'eletronico', 'da', 'samsung', 'e', 'puxado', 'viu', 'tudo', 'que', 'eu', 'queria', 'era', 'um', 'macbook', 'rt', 'labresupdates', 'voce', 'quer', 'ter', 'a', 'oportunidade', 'de', 'ganhar', '1', 'iphone', 'pro', '📲', 'macbook', '💻', 'airpods', 'apple', 'watch', 'entao', 'corre', 'para', 'o', 'link', '⬇️', 'e', 'gowanfavs', 'vibe', 'tao', 'boa', 'que', 'gi', 'perdeu', 'o', 'macbook', 'no', 'aviao', 'marcela', 'teve', 'que', 'fazer', 'teste', 'pro', 'covid', 'https', 't', 'co', '3jqa9ghkmc', 'como', 'sincronizar', 'os', 'contatos', 'agenda', 'do', 'gmail', 'no', 'ios', 'em', '2020', 'apple', 'sync', 'brasil™', 'https', 't', 'co', '7vtj4o0nug', 'retweet', 'no', 'post', 'para', 'mais', 'pessoas', 'terem', 'visibilidade', 'apple', 'ios', 'iphone', 'ipad', 'applewatch', 'macbook', 'homepod', 'ipadpro', 'applesyncbrasil', '🇧🇷', 'de', 'dentro', 'do', 'ape', 'ar', 'condicionado', 'macbook', 'voce', 'vai', 'dizer', 'que', 'e', 'de', 'esquerda', 'feminista', 'defende', 'as', 'mulher', 'posta', 'la', 'que', 'e', 'vadia', 'que', 'pode', 'chamar', 'de', 'puta', 'sua', 'fala', 'nao', 'condiz', 'com', 'sua', 'conduta', 'rosaliaxxo', 'quantas', 'vezes', 'vc', 'ja', 'deu', 'zoom', 'nessa', 'foto', 'foi', 'ai', 'que', 'eu', 'descobri', 'que', 'a', 'camera', 'do', 'macbook', 'nao', 'presta', 'hahahahaha', 'eu', 'to', 'passando', 'tanta', 'raiva', 'com', 'esse', 'notebook', 'novo', 'da', 'acer', 'que', 'se', 'eu', 'tivesse', 'um', 'cartao', 'de', 'credito', 'com', 'limite', 'alto', 'mas', 'eu', 'com', 'certeza', 'financiava', 'um', 'macbook', 'air', 'pq', 'ios', 'nunca', 'me', 'decepciona', 'e', 'nao', 'me', 'deixa', 'na', 'mao', 'macbook', 'e', 'uma', 'coisa', 'que', 'nao', 'me', 'falta', 'nem', 'dinheiro', 'me', 'falta', 'e', 'coragem', 'mesmo', 'o', 'cara', 'estuda', 'eletronica', 'pra', 'usar', 'macbook', 'pqp', 'algum', 'de', 'voces', 'tem', 'um', 'mac', 'ou', 'macbook', 'algum', 'de', 'vcs', 'tem', 'macbook', 'vale', 'a', 'pena', 'comprar', 'um', 'basico', 'air', '13', 'por', 'exemplo', 'eu', 'hj', 'levando', 'meu', 'macbook', 'pra', 'manutencao', 'com', 'ele', 'no', 'colo', 'enrolado', 'num', 'cobertor', 'tal', 'qual', 'um', 'bebe', 'febril', 'https', 't', 'co', 'mz9ixy7hu2', 'til', 'meu', 'macbook', 'estava', 'travando', 'com', 'o', 'kernel_task', 'usando', '500', 'do', 'cpu', 'e', 'tudo', 'congelava', 'cpu', 'frequency', 'ia', 'pra', '800hz', 'li', 'isso', 'https', 't', 'co', '1mq3heu29x', 'qdo', 'ta', 'muito', 'quente', 'o', 'kernel_task', 'ocupa', 'a', 'cpu', 'de', 'forma', 'artificial', 'e', 'abaixa', 'a', 'frequencia', 'da', 'cpu', 'para', 'o', 'hardware', 'esfriar', 'por', 'quanto', 'eu', 'consigo', 've', 'der', 'um', 'macbook', 'pro', 'de', '2006', 'amo', 'esse', 'wipe', 'para', 'eletronicos', 'com', 'um', 'eu', 'faco', 'o', 'switch', 'o', 'celular', 'e', 'o', 'macbook', 'e', 'fica', 'assim', 'o', '✨', 'renanbocalon', 'zehzito', 'eu', 'tremi', 'aqui', 'de', 'vontade', 'visse', 'uso', 'o', 'macbook', 'pro', 'adoro', 'mas', 'a', 'versatilidade', 'do', 'ipad', 'e', 'ma', 'ra', 'vi', 'lho', 'sa', 'to', 'encantado', 'joseadorno', 'que', 'usa', 'no', 'dia', 'a', 'dia', 'e', 'ama', 'mockup', 'de', 'macbook', 'pro', 'gratis', 'hoje', 'eu', 'lanco', 'um', 'mockup', 'simples', 'mas', 'bastante', 'desejado', 'um', 'mockup', 'gratuito', 'de', 'um', 'macbook', 'pro', 'com', 'tela', 'mutavel', 'e', 'cor', 'de', 'fundo', 'voce', 'pode', 'desligar', 'os', 'destaques', 'da', 'tela', 'ou', 'ate', 'mesmo', 'torna', 'los', 'mais', 'visiveis', 'https', 't', 'co', 'lnapqgrgof', 'o', 'macbook', 'ta', 'a', 'hora', 'da', 'morte', 'comecando', 'em', 'dez', 'mil', 'reais', 'amigas', 'https', 't', 'co', '85csxzapo8', 'ngm', 'quer', 'me', 'dar', 'um', 'macbook', 'nunocasteleira', 'alltoowellpt', 'sim', 'vai', 'sair', 'ainda', 'este', 'ano', 'possivelmente', 'no', 'macbook', 'air', 'os', 'pro', 'so', 'para', '2021', 'como', 'ativar', 'o', 'e', 'sim', 'no', 'seu', 'iphone', 'dual', 'chip', 'apple', 'sync', 'brasil™', 'https', 't', 'co', 'ol6u8a2dxp', 'retweet', 'no', 'post', 'para', 'mais', 'pessoas', 'terem', 'visibilidade', 'apple', 'ios', 'iphone', 'ipad', 'applewatch', 'macbook', 'homepod', 'ipadpro', 'applesyncbrasil', '🇧🇷', 'o', 'vendedor', 'cancelou', 'a', 'compra', 'do', 'macbook', 'o', 'dinheiro', 'ja', 'voltou', 'para', 'a', 'minha', 'conta', 'obrigado', 'para', 'quem', 'mandou', 'mensagens', 'para', 'mim', 'me', 'orientando', 'no', 'que', 'fazer', 'a', 'garota', 'tem', 'macbook', 'ipad', 'camera', 'fotografica', 'de', 'boa', 'qualidade', 'iphone', 'um', 'quarto', 'bonito', 'e', 'planejado', 'e', 'esta', 'no', 'prouni', 'de', 'medicina', 'com', 'a', 'cota', 'de', 'baixa', 'renda', 'olha', 'sinceramente', 'vai', 'se', 'foder', 'alguem', 'me', 'da', 'um', 'macbook', 'hahah', 'apple', 'quero', 'um', 'macbook', 'o', 'preco', 'do', 'mais', 'simples', 'no', 'brasil', 'da', 'pra', 'viajar', 'comprar', 'fora', 'passear', 'e', 'voltar', 'corona', 'me', 'ajuda', 'ai', 'vai', 'felizona', 'pq', 'o', 'pai', 'comprou', 'o', 'macbook', 'dele', '🤩', 'pxrsonv', 'eu', 'confiei', 'demais', 'no', 'meu', 'macbook', 'esse', 'foi', 'o', 'erro', 'yoongi', 'me', 'da', 'seu', 'macbook', 'antigo', 'q', 'ta', 'guardado', 'no', 'seu', 'armario', 'e', 'eu', 'digo', 'se', 'esperava', 'ou', 'nao', 'mexi', 'e', 'deu', 'pau', 'dnv', 'voltamos', 'a', 'estaca', '0', 'alguem', 'me', 'vende', 'um', 'carregador', 'de', 'macbook', 'pro', 'por', 'favor', 'selenawas', 'quer', 'ser', 'chique', 'e', 'nao', 'sabe', 'nem', 'mexer', 'num', 'macbook', 'eu', 'mexendo', 'em', 'um', 'macbook', 'https', 't', 'co', 'aczssljk27', 'eu', 'tenho', 'um', 'ranco', 'de', 'quem', 'fala', '“meu', 'iphone', 'meu', 'macbook”', 'vsf', 'e', 'um', 'celular', 'e', 'um', 'computador', 'rt', 'najuh_batista', 'preciso', 'comprar', 'um', 'macbook', 'pra', 'ontem😭😭', 'eu', 'nao', 'consigo', 'confiar', 'em', 'instagram', 'de', 'estudo', 'em', 'que', 'a', 'pessoa', 'tem', 'um', 'macbook', 'me', 'desculpem', 'boa', 'noite', 'site', 'alguem', 'tem', 'um', 'carregador', 'de', 'macbook', 'pra', 'doar', 'kkk', 'n', 'teve', 'macbook', 'nem', 'iphone', 'novo', '🤡🤡🤡', 'allysonrodrigoo', 'macbook', 'sao', 'tudo', 'a', 'qualidade', 'de', 'imagem', 'nenhum', 'outro', 'vai', 'dar', 'porem', 'acho', '13', 'polegadas', 'pequeno', 'mas', 'depende', 'do', 'teu', 'uso', 'pensei', 'em', 'comprar', 'um', 'mas', 'vou', 'ficar', 'de', 'ipad', 'pro', '2018', 'que', 'ta', 'uns', '800€', 'e', 'faz', 'praticamente', 'tudo', 'que', 'um', 'notebook', 'faz', 'to', 'aqui', 'naquela', 'situacao', 'que', 'o', 'cara', 'abriu', 'um', 'macbook', 'no', 'metro', 'appleevent', 'e', 'nois', 'so', 'querendo', 'um', 'macbook', 'air', 'vi', 'um', 'sorteio', 'no', 'instagram', 'q', 'um', 'dos', 'premios', 'e', 'um', 'macbook', 'pro', 'novinho', 'td', 'q', 'eu', 'preciso', 'tava', 'la', 'quanto', 'mais', 'vc', 'comentar', 'mais', 'chances', 'de', 'ganhar', 'fui', 'bloqueada', 'de', 'tanto', 'q', 'comentei', 'https', 't', 'co', 'yzualxtt6q', '1', 'minuto', 'de', 'silencio', 'pra', 'pretona', 'que', 'percebeu', 'que', 'nao', 'vai', 'mais', 'trabalhar', 'com', 'macbook', 'luto', '[dica]', 'como', 'fazer', 'backup', 'de', 'forma', 'correta', 'no', 'whatsapp', 'apple', 'sync', 'brasil™', 'https', 't', 'co', 'asob6htfrs', 'retweet', 'no', 'post', 'para', 'mais', 'pessoas', 'terem', 'visibilidade', 'apple', 'ios', 'iphone', 'ipad', 'applewatch', 'macbook', 'homepod', 'ipadpro', 'applesyncbrasil', '🇧🇷', 'fora', 'que', 'com', 'essa', 'distancia', 'eu', 'n', 'iria', 'enxergar', 'nada', 'do', 'que', 'esta', 'escrito', 'no', 'macbook', 'kkkkkk', 'gostei', 'vou', 'comprar', 'um', 'e', 'o', 'suporte', 'tb', 'arrumar', 'um', 'emprego', 'na', 'nubank', 'pra', 'ganhar', 'um', 'macbook', 'ganhei', 'um', 'macbook', 'https', 't', 'co', 'ys6en6l64v', 'xicocomch', 'e', 'o', 'que', 'aconteceu', 'comigo', 'tava', 'na', 'plataforma', 'mac', 'ha', '20', 'anos', 'meu', 'ultimo', 'macbook', 'durou', '9', 'era', 'um', 'pro', 'final', 'de', '2011', 'mas', 'foi', 'impossivel', 'seguir', 'tive', 'que', 'migrar', 'pro', 'windows', 'blogdoiphone', 'nao', 'uso', 'google', 'chrome', 'nem', 'no', 'macbook', 'safari', 'e', 'vida', 'comprei', 'um', 'macbook', 'pela', 'internet', 'e', 'nao', 'vou', 'dormir', 'em', 'paz', 'enquanto', 'nao', 'chegar', 'aqui', 'medo', 'do', 'golpe', 'meu', 'limite', 'no', 'nubank', 'nao', 'da', 'nem', 'pra', 'comprar', 'um', 'apple', 'macbook', 'air', 'meu', 'pai', 'falando', 'que', 'vai', 'levar', 'meu', 'notebook', 'pra', 'empresa', 'e', 'que', 'vai', 'me', 'comprar', 'um', 'novo', '“ta', 'mas', 'tem', 'que', 'ser', 'um', 'macbook', 'pq', 'eu', 'odeio', 'samsung”', '“fica', 'com', 'ele', 'mesmo', 'da', 'pra', 'usar', 'ainda', 'ne', '”', 'queria', 'um', 'macbook', 'mas', 'um', 'macbook', 'nao', 'posso', 'ter', 'pois', 'ele', 'e', 'muito', 'caro', 'e', 'o', 'dinheiro', 'que', 'eu', 'tenho', 'e', 'pra', 'ver', 'voce', 'https', 't', 'co', 'rkdoo9jyup', 'nossa', 'mano', 'macbook', 'air', 'ta', 'muito', 'mais', 'barato', 'do', 'q', 'eu', 'pensei', 'hmmmmmmmmmmmmmmm', 'lembrando', 'do', 'dia', 'q', 'tive', 'q', 'fazer', 'uma', 'apresentacao', 'em', 'um', 'macbook', 'e', 'nunca', 'tinha', 'usado', 'um', 'kkkkkkjkjjk', 'rt', 'eubecx', 'raiva', 'eu', 'tenho', 'de', 'menina', 'de', 'studygram', 'que', 'tem', 'ipad', 'iphone', 'e', 'macbook', 'canetas', 'das', 'melhores', 'marcas', 'caderno', 'inteligente', 'e', 'afins', 'e', 'ele', 'demora', 'mais', 'um', 'pouquinho', 'olhando', 'fixamente', 'pra', 'tela', 'do', 'macbook', 'patrao', 'de', 'a', 'volta', 'e', 'venha', 'ver', 'como', 'ficou', 'isso', 'aqui', 'voce', 'ahn', 'esta', 'trabalhando', 'em', 'um', 'novo', 'projeto', 'ele', 'nao', 'responde', 'ate', 'voce', 'chegar', 'ao', 'lado', 'dele', '{', '}', 'rodeicomfino', 'kkkkkkk', 'pia', 'o', 'macbook', 'do', 'matheus', 'corrige', 'tudo', 'mano', 'to', 'no', 'odio', 'ja', 'era', 'pra', 'se', 'ganja', 'vi', 'agr', 'pouco', 'q', 'tava', 'errado', 'kaizergabriel', 'gostou', 'todas', 'as', 'economias', 'comprando', 'o', 'macbook', 'que', 'nao', 'sobrou', 'dinheiro', 'pra', 'mais', 'nada', 'zehzito', 'o', 'macbook', 'de', '5', 'nanometros', 'ja', 'ta', 'claro', 'que', 'vai', 'vir', 'em', 'marco', 'ainda', 'bem', 'que', 'nao', 'troquei', 'intel', 'vai', 'engolir', 'seca', 'miga', 'eu', 'nunca', 'vi', 'ninguem', 'mais', 'burgues', 'q', 'matheus', 'tem', 'nem', '1', 'mes', 'q', 'ele', 'pediu', 'um', 'notebook', 'novo', 'p', 'mae', 'dele', 'e', 'ganhou', 'um', 'macbook', 'pro', 'pqp', 'tododiabrigas', 'chamou', 'a', 'mamae', 'que', 'tirou', 'o', 'iphone', 'macbook', 'e', 'airpod', 'que', 'eles', 'ficam', 'de', 'boazinha', 'xiumiaubr', 'nem', 'tenho', 'um', 'iphone', 'tenho', 'um', 'macbook', 'pro', 'aquela', 'desgraca', 'que', 'descarrega', 'muito', 'rapido', 'alguem', 'me', 'da', 'um', 'macbook', 'pro', '2014', 'com', 'ssd', 'de', '1tb', 'e', '16gb', 'de', 'ram', 'preciso', 'comprar', 'um', 'macbook', 'pra', 'ontem😭😭', 'dores', 'de', 'parto', 'tabernaculo', 'branham', 'ao', 'vivo', 'irmao', 'joseph', 'branham', 'https', 't', 'co', 'ck9fvruzzw', 'macbook', 'whindersson', 'https', 't', 'co', 'uibetanmoa', 'gente', 'se', 'inscreve', 'nesse', 'link', 'vcs', 'pode', 'me', 'ajudar', 'a', 'ganhar', 'um', '1', 'de', 'conversacao', 'em', 'ingles', 'e', 'um', 'macbook', 'link', 'de', 'um', 'curso', '100', 'online', 'e', 'gratuito', 'ajudaaaaa', 'help', 'daeeee', 'to', 'vendendo', 'meu', 'mac', 'se', 'alguem', 'tiver', 'interesse', 'chama', 'na', 'dm', 'https', 't', 'co', 'xprwkascuy', 'https', 't', 'co', 'dfpuss5hua', 'sirfrederiq', 'a', 'dar', 'flex', 'com', 'macbook', '👌😼', 'seriamente', 'pensando', 'em', 'comprar', 'um', 'teclado', 'mecanico', 'sem', 'fio', 'esse', 'teclado', 'do', 'macbook', 'e', 'mto', 'ridiculo', 'macbook', 'air', 'intel', 'core', 'i5', '512gb', 'de', 'ssd', '8gb', 'de', 'ram', 'de', 'r', '13', '299', 'por', 'r', '9', '999', 'em', 'ate', '12x', 'https', 't', 'co', 'v77zwq4ooe', 'rt', 'iluminicho', 'primeiro', 'dia', 'de', 'trampo', 'e', 'o', 'pai', 'ja', 'ta', 'de', 'macbook', 'pro', 'https', 't', 'co', 'gdplzownxx', 'parnasopunk', 'jvehmole', 'macbook', 'bom', 'e', 'macbook', 'na', 'vitrine', 'da', 'loja', 'empoeirando', 'voce', 'quer', 'ter', 'a', 'oportunidade', 'de', 'ganhar', '1', 'iphone', 'pro', '📲', 'macbook', '💻', 'airpods', 'apple', 'watch', 'entao', 'corre', 'para', 'o', 'link', '⬇️', 'e', 'saiba', 'todas', 'as', 'orientacões', 'e', 'o', 'que', 'voce', 'deve', 'fazer', '🔗https', 't', 'co', 'hf0rckrt4u', '➡️', 'sorteio', 'acaba', 'dia', '25', '09', '😏', 'https', 't', 'co', 'kjcm0kga6q', 'dias', 'de', 'luta', 'e', 'dias', 'de', 'gloria', 'agora', 'eu', 'tenho', 'um', 'windows', 'dentro', 'do', 'macbook', '🥺', 'https', 't', 'co', 'dwlrrz16yv', 'rt', 'sandinossauro', 'imagina', 'ter', 'grana', 'pra', 'um', 'macbook', 'e', 'ter', 'que', 'usar', 'a', 'tabua', 'de', 'passar', 'como', 'escrivaninha', 'https', 't', 'co', 'enfhz3h77s', 'minimo', '17', 'e', 'o', 'maximo', 'uns', '45', 'pq', 'o', 'com', 'um', 'suggar', 'daddy', 'o', 'macbook', 'vem', 'https', 't', 'co', 'x8tcoyhalp', 'coisas', 'que', 'aprendi', 'sobre', 'mac', 'eu', 'nao', 'gosto', 'de', 'macbook', 'eu', 'prefiro', 'windows', 'ao', 'macos', 'detesto', 'a', 'interface', 'do', 'macos', 'gosto', 'do', 'imac', 'apesar', 'dos', '3', 'pontos', 'acima', 'nao', 'curto', 'o', 'magic', 'mouse', 'e', 'acho', 'ele', 'uma', 'droga', 'alo', 'anitta', 'esconde', 'o', 'macbook', 'antes', 'que', 'a', 'samsung', 've', 'https', 't', 'co', 'xelrht8ois', 'fodase', 'o', 'iphone', '12', 'sapoha', 'so', 'serve', 'pra', 'jogar', 'dinheiro', 'fora', 'ou', 'se', 'vc', 'tem', 'o', 'cel', 'da', 'apple', 'o', 'smartwatch', 'e', 'o', 'macbook', 'guicury', 'oandrefogaca', 'qual', 'o', 'seu', 'macbook', 'pode', 'ser', 'que', 'o', 'modelo', 'dele', 'nao', 'tenha', 'suporte', 'para', 'transferencia', 'rapida', 'com', 'o', 'bt', 'puts', 'eu', 'queria', 'ta', 'assim', 'com', 'meu', 'macbook', 'pro', '16', 'pol', 'https', 't', 'co', 'gcbaygcesf', 'thiago_cco', 'aqui', 'tem', 'coragem', 'querendo', 'comprar', 'macbook', 'em', 'plena', 'pandemia', 'hsaushuahuhsa', 'quando', 'disseram', 'que', 'nao', 'da', 'p', 'jogar', 'no', 'macbook', 'nao', 'estavam', 'errados', 'sdd', 'qnd', 'os', 'amigos', 'do', 'meu', 'pai', 'davam', 'macbook', 'quebrado', 'pra', 'ele', 'consertar', 'por', 'mil', 'reais', 'e', 'ser', 'meu', 'gente', 'vou', 'vender', 'meu', 'macbook', 'air', 'comservadissimo', 'comprado', 'em', '2017', 'e', 'utilizado', 'pouquissimas', 'vezes', '[dica]', 'seu', 'id', 'apple', 'conta', 'desativada', 'no', 'iphone', 'resolvido', 'apple', 'sync', 'brasil™', 'https', 't', 'co', 'snxhiypnoo', 'retweet', 'no', 'post', 'para', 'mais', 'pessoas', 'terem', 'visibilidade', 'apple', 'ios', 'iphone', 'ipad', 'applewatch', 'macbook', 'homepod', 'ipadpro', 'applesyncbrasil', '🇧🇷', 'pega', 'teu', 'macbook', 'e', 'enfia', 'no', 'cu', 'caralho', 'me', 'esquece', 'quanto', 'voce', 'cobraria', 'para', 'formatar', 'um', 'macbook', 'alguem', 'sabe', 'me', 'dizer', 'se', 'macbook', 'e', 'bom', 'pra', 'fazer', 'live', 'mobile', 'no', 'caso', 'comprei', 'uma', 'capinha', 'protetora', 'de', 'teclado', 'do', 'notebook', 'e', 'vieram', 'duas', 'dentro', 'da', 'embalagem', 'mandei', 'mensagem', 'pro', 'vendedor', 'e', 'ele', 'mandou', 'ficar', 'se', 'alguem', 'se', 'interessar', 'por', 'uma', 'capa', 'de', 'teclado', 'macbook', 'air', '13', 'chama', 'eu', 'entao', 'gente', 'e', 'eu', 'que', 'esqueci', 'o', 'microfone', 'aberto', 'na', 'aula', 'on', 'line', 'e', 'disse', 'ele', 'tem', 'um', 'macbook', 'a', 'apple', 'vai', 'ter', 'que', 'lidar', 'agora', 'com', 'a', 'nvidia', 'apos', 'a', 'aquisicao', 'da', 'arm', 'o', 'apple', 'silicon', 'que', 'estara', 'presente', 'no', 'novo', 'macbook', 'e', 'baseado', 'na', 'arquitetura', 'arm', 'licenciada', '😅', 'https', 't', 'co', 'cbsm9mgcjp', 'pessoas', 'com', 'macbook', 'como', 'q', 'faz', 'pra', 'usar', 'o', 'word', 'power', 'point', 'nagamatsu__', 'marinenorstrahl', 'lucasjtho', 'rapaz', 'vai', 'ifood', 'hein', 'uma', 'vez', 'usei', 'macbook', 'num', 'lugar', 'em', 'que', 'eu', 'fiz', 'estagio', 'e', 'fiquei', 'ate', 'com', 'medo', 'de', 'quebrar', 'alguma', 'coisa', 'mas', 'a', 'experiencia', 'foi', 'bacana', 'aparentemente', 'vai', 'dar', 'pra', 'atualizar', 'o', 'sistema', 'operacional', 'do', 'meu', 'macbook', 'air', ']', 'tinha', 'tentado', 'descobrir', 'varias', 'vezes', 'e', 'era', 'mo', 'cao', 'pra', 'baixar', 'ontem', 'fui', 'procurar', 'outra', 'vez', 'e', 'encontrei', 'facinho', 'o', 'link', 'de', 'download', 'no', 'site', 'da', 'apple', 'bom', 'eu', 'enfiei', 'na', 'cabeca', 'que', 'quero', 'um', 'macbook', 'e', 'so', 'consigo', 'pensar', 'nisso', 'que', 'merda', 'eu', 'so', 'queria', 'um', 'macbook', 'mas', 'ele', 'nao', 'e', 'bom', 'pra', 'arquitetura', 'ufrj', 'da', 'bolsa', 'macbook', 'imac', 'pros', 'professores', 'e', 'vamos', 'de', 'atraso', 'do', 'metro', 'de', '1h', 'tem', 'nem', 'como', 'trabalhar', 'de', 'casa', 'ja', 'que', 'levei', 'o', 'macbook', 'ontem', 'pro', 'trabalho', 'caioincau', 'pra', 'quem', 'esta', 'comecando', 'na', 'area', 'e', 'principalmente', 'no', 'brasil', 'comprar', 'um', 'macbook', 'e', 'algo', 'impensavel', 'e', 'voce', 'tem', 'muito', 'mais', 'valor', 'comprando', 'um', 'laptop', 'com', 'bom', 'suporte', 'pra', 'linux', 'e', 'se', 'aventurando', 'no', 'windows', 'com', 'wsl2', 'lmjcc1', 'amiga', 'fala', 'pra', 'ela', 'se', 'lembrar', 'do', 'macbook', 'pra', 'ela', 'nao', 'esquecer', 'esse', 'bendito', 'eu', 'tenho', 'ctz', 'que', 'nesse', 'calor', 'o', 'macbook', 'vai', 'explodir', '_chrless', 'amigo', 'e', 'uma', 'virtual', 'box', 'que', 'simula', 'outro', 'pc', 'dentro', 'do', 'macbook', 'ai', 'eu', 'posso', 'jogar', 'uns', 'joguinhos', 'que', 'n', 'rodaria', 'no', 'mac', 'normalmente', '_pnobre_', 'hmendes', 'trocar', 'a', 'o', 'carro', 'pela', 'bicicleta', 'e', 'como', 'trocar', 'o', 'desktop', 'pastelao', 'e', 'ineficiente', 'pelo', 'novo', 'macbook', 'air', 'faz', 'a', 'mesma', 'coisa', 'provavelmente', 'mais', 'devagar', 'so', 'que', 'no', 'caso', 'da', 'bicicleta', 'ate', 'sai', 'mais', 'barato', 'leandrolyrarj', 'dispinibiliza', 'ipad', 'e', 'macbook', 'pra', 'galera', 'e', 'amplia', 'o', 'acesso', 'a', 'internet', 'macbook', 'eh', 'tao', 'caro', 'nunca', 'vou', 'ter', 'um😢', 'mais', 'de', 'um', 'ano', 'que', 'ganhei', 'meu', 'macbook', 'e', 'ate', 'hoje', 'descubro', 'coisas', 'novas', 'nele', 'muriloramosdc', 'tingracio', 'esse', 'e', 'pessoal', 'do', 'google', 'era', 'um', 'carbon', 'x1', 'e', 'agora', 'e', 'um', 'macbook', 'pro', 'ahirtonlopes', 'o', 'macbook', 'da', 'patroa', 'eu', 'fiz', 'downgrade', 'para', 'mac', 'os', 'mojave', 'nao', 'dava', 'de', 'usar', 'o', 'catalina', '98squeen', '10k', 'num', 'macbook', 'p', 'acessar', 'email', 'com', 'mais', 'praticidade', 'a', 'professora', 'de', 'programacao', 'e', 'rica', 'cadeira', 'chique', 'macbook', 'hoje', 'sonhando', 'mais', 'que', 'nunca', 'com', 'meu', 'amor', 'cada', 'um', 'com', 'um', 'macbook', 'trabalhando', 'em', 'nossa', 'casa', 'propria', 'e', 'falando', '“lembra', 'amor', 'quando', 'tinhamos', 'aquele', 'notebook', 'horrivel', 'que', 'ganhamos', 'do', 'governo', 'olha', 'onde', 'chegamos', '🥺”', 'like', 'se', 'vc', 'chorou', 'gente', 'da', 'pra', 'baixar', 'jogos', 'apps', 'crackeados', 'no', 'imac', 'macbook', 'https', 't', 'co', 'nlm3fltbzv', 'macbook', 'touchbar', 'velho', 'mais', 'caro', 'do', 'que', 'novo', 'lacrado', 'ou', '1000', 'conto', 'mais', 'barato', 'o', 'brasil', 'ta', 'surreal', 'rt', 'staylswift1989', 'eu', 'achando', 'que', 'a', 'laura', 'queria', 'um', 'macbook', 'mas', 'na', 'verdade', 'ela', 'queria', 'mcdonald’s', 'kkkk', 'telegram', 'como', 'criar', 'um', 'grupo', 'e', 'colocar', 'um', 'bot', 'para', 'gerenciamento', 'apple', 'sync', 'brasil™', 'https', 't', 'co', 'b0zmmcj2nc', 'retweet', 'no', 'post', 'para', 'mais', 'pessoas', 'terem', 'visibilidade', 'apple', 'ios', 'iphone', 'ipad', 'applewatch', 'macbook', 'homepod', 'ipadpro', 'applesyncbrasil', '🇧🇷', 'meu', 'deus', 'o', 'macbook', 'custa', 'o', 'valor', 'de', 'um', 'celta', 'cara', 'pqp', 'essa', 'botada', 'foi', 'foda', 'foi', 'fodaaaaaaa', 'ducatambasco', 'eu', 'sempre', 'compro', 'no', 'kabum', 'ou', 'no', 'mercado', 'livre', 'se', 'o', 'seu', 'note', 'nao', 'for', 'um', 'macbook', 'e', 'relativamente', 'facil', 'trocar', 'sozinho', 'olhem', 'so', 'espero', 'que', 'hoje', 'no', 'evento', 'da', 'apple', 'nao', 'estreie', 'nenhum', 'macbook', 'melhor', 'do', 'que', 'o', 'que', 'eu', 'comprei', 'porque', 'senao', 'vou', 'chorar', 'maldito', 'rwindows', 'alguem', 'me', 'compra', 'um', 'macbook', 'https', 't', 'co', '4ixmepdmvr', 'eu', 'to', 'sonhando', 'tanto', 'com', 'um', 'macbook', 'pqp', 'algm', 'me', 'empresta', '10000', 'nmrl', 'rt', 'marianalsvgss', 'comecar', 'a', 'juntar', 'para', 'um', 'macbook', 'daqueles', 'pequenos', 'que', 'da', 'para', 'levar', 'para', 'todo', 'o', 'lado', 'is', 'my', 'next', 'goal', 'professora', 'nao', 'uso', 'nd', 'do', 'google', 'nd', 'de', 'grandes', 'corporacões', 'logo', 'apos', 'compartilha', 'a', 'tela', 'para', 'exibir', 'o', 'cronograma', 'do', 'curso', 'no', 'macbook', 'em', 'fim', 'a', 'hipocrisia', 'minha', 'meta', 'de', 'vida', 'e', 'ser', 'aquele', 'designer', 'rico', 'que', 'tem', 'macbook', 'ipad', 'ultima', 'geracao', 'e', 'o', 'ultimo', 'iphone', 'sentado', 'num', 'starbucks', 'pensando', 'na', 'proxima', 'colecao', 'pra', 'd', 'amp', 'g', 'gente', 'bom', 'dia', 'quero', 'um', 'macbook', 'https', 't', 'co', 'zvzsfrhwdn', 'preciso', 'de', 'uma', 'ajuda', 'pra', 'resetar', 'um', 'macbook', 'thcarvao', 'seu', 'irmao', 'tem', 'o', 'pro', 'que', 'e', 'uma', 'fortuna', 'assim', 'como', 'o', 'macbook', 'tb', 'e', 'uma', 'fortuna', 'rs', 'o', 'boy', 'me', 'falando', 'que', 'vai', 'ter', 'que', 'fazer', 'hora', 'extra', 'eu', 'ja', 'lancei', 'a', 'braba', 'pra', 'ele', 'fazer', 'isso', 'sempre', 'e', 'me', 'conquistar', 'dar', 'um', 'macbook', 'kkkkkkkkk', 'oh', 'do', 'nao', 'tenho', 'nem', 'coragem', 'de', 'aceitar', 'kkk', 'rolou', 'isso', 'mesmo', 'so', 'q', 'a', 'gente', 'deu', 'o', 'filho', 'pra', 'um', 'orfanato', 'pq', 'era', 'um', 'macbook', 'fizemo', 'outro', 'e', 'veio', 'um', 'pc', 'da', 'razer', 'tunado', '😎', 'https', 't', 'co', 'wddxlsbdxw', 'macbook', 'e', 'um', 'lixo', 'mds', 'nao', 'sei', 'como', 'a', 'apple', 'vende', 'um', 'negocio', 'desses', 'luksrx', 'sim', 'irei', 'comprar', 'meu', 'macbook', 'o', 'dia', 'inteiro', 'tentando', 'formatar', 'o', 'macbook', '🥵🥵', 'so', 'queria', 'comprar', 'um', 'macbook', 'afff', 'meu', 'sonho', 'de', 'princesa', 'leeandrobarbosa', 'completamente', 'ele', 'funciona', '100', 'independente', 'de', 'smartphone', 'e', 'tem', 'compatibilidade', 'total', 'com', 'outros', 'produtos', 'da', 'apple', 'inclusive', 'da', 'pra', 'usar', 'de', 'segunda', 'tela', 'de', 'macbook', 'sem', 'necessidade', 'de', 'cabos', 'imluciano', 'ahh', 'entendi', 'meu', 'irmao', 'tem', 'um', 'sem', 'bordas', 'do', 'ano', 'passado', 'mas', 'eu', 'ainda', 'acho', 'macbook', 'melhor', 'q', 'ipad', 'duarteyuri_', 'migo', 'e', 'bem', 'melhor', 'eu', 'comprei', 'um', 'macbook', 'pro', 'e', 'agora', 'e', 'usb', 'c', 'e', 'super', 'tendencia', 'mais', 'possibilidades', 'mano', 'que', 'felicidade', 'ver', 'meu', 'macbook', 'vivo', 'obrigado', 'deus', 'https', 't', 'co', 'ahrx57ewxu', 'barbaralabres', 'pode', 'separa', 'o', 'macbook', 'que', 'ja', 'e', 'meuuu', 'a', 'pior', 'coisa', 'de', 'vc', 'ter', 'um', 'macbook', 'e', 'que', 'a', 'maioria', 'dos', 'tutoriais', 'de', 'alguma', 'coisa', 'sao', 'em', 'ingles', '😩', 'macbook', 'e', 'tudo', 'de', 'mais', 'perfeito', 'que', 'existe', 'puta', 'merda', 'aguardando', 'ansiosamente', 'o', 'momento', 'que', 'vou', 'ter', 'dinheiro', 'pra', 'comprar', 'um', 'macbook', 'pq', 'eu', 'odeio', 'esses', 'notebooks', 'lentosssss', 'aaaa', 'seria', 'meu', 'sonho', 'ganhar', 'um', 'macbook', 'puta', 'merda', 'noticias', 'news', 'promocões', 'blog', 'apple', 'iphone', 'ipad', 'macbook', 'asap', 'https', 't', 'co', '9aaxejq99d', 'alguem', 'sabe', 'onde', 'posso', 'vender', 'um', 'macbook', 'a', 'pecas', 'ela', 'compra', 'um', 'novo', 'macbook', 'pra', 'cada', 'termino', 'de', 'namoro', 'dai', 'mostrou', 'uma', 'penka', 'de', 'macbook', 'guardado', 'de', 'ex', 'relacionamentos', 'sofro', 'kkk', 'rt', 'madrini', 'to', 'vendendo', 'meu', 'macbook', 'air', '13', '2013', 'i7', '1', '7', '3', '3', 'turbo', '8gb', 'ram', '500', 'ssd', 'bateria', 'com', '633', 'ciclos', 'teclado', 'padrao', 'reino', 'unido', 'r', '4', 'essa', 'galera', 'que', 'quer', 'vender', 'macbook', '2010', '11', '12', 'por', '2k', 'ou', '3k', 'esta', 'de', 'brincadeira', 'hahahaha', 'pepinoemcoserva', 'thatfatdud3', 'amigo', 'meu', 'derrubou', 'vinho', 'num', 'macbook', 'retina', 'imagine', 'a', 'dor', 'o', 'bichinho', 'do', 'capitalismo', 'botou', 'na', 'minha', 'cabeca', 'agora', 'que', 'eu', 'quero', 'um', 'macbook', 'pro', '16”', 'vou', 'vender', 'meu', 'corpo', 'na', 'esquina', 'pra', 'conseguir', 'comprar', 'um', '😅🆘', 'aaaaaaaa', 'comprei', 'meu', 'macbook', 'caralhooooii', 'nem', 'acreditooooo', 'com', 'meu', 'fucking', 'dinheiroooooo', 'e', 'chega', 'em', '4', 'dias', 'uteis', 'aaaaaaaaaaaa', '✨✨✨✨✨', 'queria', 'um', 'macbook', 'tbm', 'appleevent', 'queria', 'mto', 'um', 'macbook', 'to', 'chorando', 'mas', 'com', 'o', 'valor', 'q', 'ta', 'o', 'dolar', 'nao', 'da', 'coragem', 'de', 'comprar', 'fico', 'muito', 'abismada', 'quando', 'descubro', 'que', 'as', 'pessoas', 'tem', 'iphone', '11', 'e', 'macbook', 'na', 'vida', 'real', 'nammyeee', 'alias', 'meu', 'macbook', 'foi', 'igual', 'a', 'cada', 'atualizacao', 'ficava', 'mais', 'lento', 'ate', 'ele', 'ficar', 'utilizavel', 'ai', 'um', 'dia', 'a', 'apple', 'deu', 'a', 'ultima', 'atualizacao', 'e', 'parou', 'de', 'dar', 'suporte', 'eu', 'formatei', 'do', 'zero', 'e', 'instalei', 'a', 'ultima', 'versao', 'do', 'sistema', 'ta', 'otimo', 'agora', 'minha', 'sogra', 'comprou', 'um', 'macbook', 'de', 'mesa', 'pra', 'fazer', 'planilha', 'e', 'video', 'chamada', 'isso', 'mesmo', 'que', 'voce', 'leu', 'claudifih', 'nunca', 'tive', 'so', 'macbook', 'e', 'iphone', 'amo', 'muito', 'quem', 'sabe', 'quando', 'o', 'dolar', 'baixar', 'se', 'baixar', 'acouleee', 'pneutereza', 'lenda', 'q', 'ate', 'macbook', 'tem', 'e', 'minha', 'mae', 'q', 'ta', 'com', 'macbook', 'pra', 'ver', 'netflix', 'hahahhaha', 'amo', 'sepmadu', 'troca', 'por', 'um', 'macbook', 'mas', 'se', 'preferir', 'continuar', 'com', 'windows', 'troca', 'o', 'hd', 'por', 'um', 'ssd', 'melhora', 'bastante', 'eu', 'achando', 'que', 'a', 'laura', 'queria', 'um', 'macbook', 'mas', 'na', 'verdade', 'ela', 'queria', 'mcdonald’s', 'kkkk', 'https', 't', 'co', 'z1abdttvov', '_thiag0x', 'thatfatdud3', 'ehhh', 'vai', 'pagar', 'de', 'gatao', 'tocando', 'musica', 'no', 'macbook', 'pra', 'se', 'exibir', 'pra', 'gata', 'ahahha', 'se', 'fode', 'filhadapyta', 'investir', 'e', 'num', 'macbook', 'air', 'bem', 'leve', 'pra', 'nao', 'pesar', 'a', 'mochila', 'manter', 'um', 'bom', 'cel', 'e', 'o', 'minimo', 'de', 'coisas', 'fixas', 'pq', 'quando', 'tudo', 'isso', 'passar', 'eu', 'quero', 'e', 'sumir', 'por', 'ai', 'to', 'num', 'nivel', 'de', 'desgaste', 'e', 'cansaco', 'mental', 'sou', 'aquariano', 'ta', 'ficando', 'meio', 'que', 'impossivel', 'sanidade', 'preso', 'esse', 'tempo', 'todo', 'eu', 'to', 'quase', 'trocando', 'de', 'computador', 'cara', 'meu', 'macbook', 'so', 'dificulta', 'eu', 'baixar', 'os', 'jogos', 'filmes', 'etc', 'de', 'graca', 'que', 'odio', 'al_lanacosta', 'eu', 'quero', 'um', 'macbook', '🙈', 'naniechev', 'no', 'macbook', 'tem', 'a', 'teclinha', 'dele', 'tenta', 'alt', 'barra', 'invertida', 'queria', 'tanto', 'virar', 'desenvolvedor', 'ios', 'mas', 'nao', 'falta', 'vontade', 'falta', 'dinheiro', 'pra', 'comprar', 'um', 'macbook', 'o', '“todo', 'medico', 'vai', 'ser', 'rico”', 'cai', 'por', 'terra', 'quando', 'voce', 've', 'que', 'todo', 'professor', 'de', 'cirurgia', 'tem', 'um', 'macbook', 'com', 'todos', 'os', 'acessorios', 'e', 'os', 'de', 'clinica', 'tem', 'um', 'dell', 'fuleiro', 'um', 'conhecido', 'sugeriu', 'macbook', 'air', 'antigo', 'ai', 'olha', 'a', 'alucinacao', 'que', 'o', 'pessoal', 'quer', 'em', 'um', 'de', '2011', 'usado', 'https', 't', 'co', 'vxjolnf9wf', 'comecar', 'a', 'juntar', 'para', 'um', 'macbook', 'daqueles', 'pequenos', 'que', 'da', 'para', 'levar', 'para', 'todo', 'o', 'lado', 'is', 'my', 'next', 'goal', 'to', 'vendendo', 'meu', 'macbook', 'air', '13', '2013', 'i7', '1', '7', '3', '3', 'turbo', '8gb', 'ram', '500', 'ssd', 'bateria', 'com', '633', 'ciclos', 'teclado', 'padrao', 'reino', 'unido', 'r', '4', '200', 'vai', 'com', 'carregador', 'original', 'funcionando', 'porem', 'o', 'cabo', 'esta', 'levemente', 'comido', 'porto', 'alegre', 'perto', 'do', 'iguatemi', 'rts', 'pls', 'https', 't', 'co', '0vwr3e2s7x', 'macbook', 'ultimamente', 'dando', 'uns', 'erro', 'estranho', 'vamao', 'ver', 'viu', 'apple', 'fantastico', 'nem', 'se', 'preocupou', 'em', 'cobrir', 'a', 'maca', 'do', 'macbook', 'bom', 'dia', 'para', 'quem', 'sonhou', 'que', 'estava', 'comprando', 'um', 'macbook', 'pro', '🥰', 'vitinzera1', 'naooo', 'po', 'vou', 'pegar', 'usado', 'macbook', 'pro', 'nunca', 'q', 'eu', 'gasto', 'isso', 'no', 'max', '5k', 'a', 'tristeza', 'do', 'pobre', 'e', 'querer', 'um', 'apple', 'watch', 'e', 'um', 'macbook', 'dalemeupirraia', 'mas', 'tipo', 'mesmo', 'a', 'galera', 'mais', 'privilegiada', 'nao', 'costuma', 'usar', 'o', 'ipad', 'aqui', 'no', 'br', 'preferem', 'ter', 'o', 'macbook', 'e', 'carregar', 'pra', 'todo', 'lugar', 'do', 'que', 'ter', 'o', 'proprio', 'ipad', 'e', 'estranho', 'isso', 'toma', 'aqui', 'esse', 'desconto', 'de', '3', '500', 'num', 'macbook', 'de', '20', '000', '🥰🥰', 'to', 'necessitada', 'de', 'um', 'notebook', 'vou', 'comprar', 'um', 'usado', 'de', 'ate', 'uns', '400', 'que', 'eh', 'o', 'que', 'infelizmente', 'da', 'no', 'meu', 'orcamento', 'quando', 'eu', 'ficar', 'rica', 'vou', 'ser', 'que', 'nem', 'meu', 'pai', 'ter', 'um', 'macbook', '💻', '😭', 'inclusive', 'alguem', 'vendendo', 'um', 'alguem', 'ja', 'teve', 'o', 'mitico', 'problema', 'kernel_task', 'que', 'surge', 'do', 'nada', 'e', 'ocupa', '60', '70', 'cpu', 'no', 'macbook', 'mto', 'obrigada', 'macbook', 'por', 'multiplos', 'desktops', 'a', 'partir', 'do', 'momento', 'que', 'a', 'adobe', 'nao', 'me', 'deixa', 'colocar', 'full', 'screen', '🙏🏻🙏🏻🙏🏻🙏🏻', 'primeiro', 'dia', 'de', 'trampo', 'e', 'o', 'pai', 'ja', 'ta', 'de', 'macbook', 'pro', 'https', 't', 'co', 'gdplzownxx', 'estou', 'instalando', 'o', 'windows', '10', 'no', 'meu', 'macbook', 'so', 'para', 'jogar', 'fullguys', 'kkkk', 'dudabremen', 'entendo', 'sua', 'dor', 'acho', 'que', 'a', 'unica', 'coisa', 'melhor', 'que', 'um', 'pc', 'gamer', 'pra', 'fzr', 'essas', 'coisas', 'de', 'facul', 'e', 'td', 'e', 'um', 'macbook', 'e', 'uma', 'delicia', 'a', 'interface', 'do', 'mac', 'e', 'nao', 'trava', 'de', 'jeito', 'nenhum', 'alltoowellpt', 'so', 'em', 'outubro', 'filho', 'havera', 'um', 'evento', 'para', 'iphone', '12', 'macbook', 'com', 'processador', 'a14x', 'e', 'nova', 'appletv', 'com', 'a14', 'tambem', 'queria', 'muito', 'um', 'macbook', 'karl', 'marx', 'eu', 'falhei', 'com', 'voce', 'jvehmole', 'e', 'pq', 'tem', 'gnt', 'q', 'defende', 'com', 'unhas', 'e', 'dentes', 'um', 'macbook', 'mas', 'pra', 'mim', 'e', 'mt', 'dinheiro', 'so', 'pela', 'marca', 'pq', 'q', 'deus', 'nao', 'me', 'fez', 'rica', 'pra', 'comprar', 'um', 'macbook', 'pelo', 'airplay', 'para', 'quem', 'tiver', 'macbook', 'ou', 'utilizar', 'o', 'app', 'transmitir', 'tela', 'para', 'tv', 'https', 't', 'co', 'jiuwjlfosx', 'desculpem', 'o', 'transtorno', '🙏', 'so', 'porque', 'a', 'bonita', 'tem', 'um', 'macbook', 'acha', 'que', 'pode', 'ficar', 'mandando', 'virus', 'pro', 'meu', 'samsung', 'abri', 'o', 'macbook', 'limpei', 'o', 'po', 'superficial', 'soprei', 'as', 'ventoinha', 'amanha', 'vou', 'abrir', 'denovo', 'e', 'usar', 'ar', 'comprimido', 'que', 'eu', 'comprei', 'hoje', 'mas', 'enfim', 'o', 'problema', 'parou', 'doideira', 'rt', 'maxqmerda', 'nao', 'podem', 'cancelar', 'o', 'ano', 'letivo', 'eu', 'estou', 'conseguindo', 'estudar', 'perfeitamente', 'à', 'distancia', 'com', 'o', 'meu', 'iphone', '11', 'meu', 'macbook', 'e', 'no', 'maior', 'dilema', 'se', 'compro', 'ou', 'nao', 'um', 'laptop', 'novo', 'pra', 'trabalhar', 'pq', 'trabalhar', 'com', 'macbook', 'e', 'complicado', 'com', 'alguns', 'jogos', 'e', 'fora', 'que', 'ele', 'e', 'um', 'pouco', 'antigo', 'ja', 'abaixa', 'o', 'preco', 'do', 'macbook', 'appleevent', 'curte', 'ai', 'para', 'ver', 'o', 'coracao', 'rsrsr', 'apple', 'ontem', 'às', '18', '33', 'fiz', 'uma', 'copia', 'de', 'seguranca', 'para', 'o', 'meu', 'macbook', 'air', 'de', '2013', 'e', 'restaurei', 'o', 'telemovel', '[iphone', 'xr]', 'o', 'telemovel', 'do', 'm', 'pai', 'nao', 'era', 'reconhecido', 'pelo', 'm', 'mac', 'apos', 'ontem', 'nem', 'dormirmos', 'bem', 'tendo', 'em', 'conta', 'o', 'enorme', 'valor', 'do', 'telemovel', 'do', 'm', 'pai', 'ryanbala_22', 'lkkkkkkkkkkk', 'nao', 'e', 'ele', 'tadinho', 'e', 'pelo', 'um', 'macbook', 'thuanmota', 'to', 'na', 'msm', 'meu', 'amigo', 'desktop', 'ou', 'laptop', 'gamer', '7k', '8k', 'opa', 'macbook', 'pro', 'e', 'quase', 'o', 'msm', 'preco', 'hein', 'devo', 'investir', 'em', 'uma', 'moto', 'em', 'forma', 'de', 'laptop', 'talvez', 'ta', 'foda', 'stormsbae', 'macbook', 'keksksksks', 'mano', 'quem', 'que', 'da', 'um', 'macbook', 'de', 'presente', 'de', '4', 'meses', 'pra', 'alguem', 'viado', 'queria', 'ter', 'o', 'tanto', 'de', 'dinheiro', 'que', 'esse', 'menino', 'tem', 'porra', 'helioweirdo', 'seca', 'num', 'macbook', 'porem', 'fora', 'de', 'cogitacao', 'prefiro', 'um', 'carro', '😬', 'kevynp_', 'dai', 'vc', 'compra', 'o', 'macbook', 'e', 'nao', 'tem', 'coragem', 'de', 'colar', 'os', 'adesivos', 'com', 'desejo', 'de', 'macbook', 'juro', 'por', 'tudo', 'q', 'nunca', 'mais', 'compro', 'macbook', 'em', 'toda', 'a', 'minha', 'vida', 'aquele', 'macbook', 'arm', 'vai', 'ser', 'tao', 'sensacional', 'que', 'o', 'patterson', 'vai', 'ter', 'que', 'atualizar', 'o', 'livro', 'dele', 'promisebak', 'isaffonti', 'rpz', 'se', 'eu', 'nao', 'macbook', 'e', 'tipo', 'um', 'notebook', 'so', 'q', 'menor', 'sla', 'mais', 'um', 'dia', 'procurando', 'macbook', 'barato', 'pq', 'a', 'apple', 'nao', 'facilita', 'nem', 'pra', 'quem', 'quer', 'trabalhar', 'pra', 'ela', 'queria', 'um', 'notebook', 'pra', 'fazer', 'minhas', 'coisas', 'ne', 'ai', 'fui', 'olhar', 'o', 'preco', 'de', 'um', 'macbook', 'pra', 'poder', 'usar', 'como', 'extensao', 'do', 'ipad', 'e', 'o', 'mais', 'barato', 'e', '8000', 'reais😍😍😍', 'uma', 'pena', 'entao', 'ne', 'estarei', 'ficando', 'sem', 'computador', 'mesmo', 'diogoexmachina', 'acho', 'que', 'por', 'enquanto', 'vou', 'manter', 'o', 'meu', 'iphone', 'x', 'so', 'precisava', 'mesmo', 'de', 'atualizar', 'o', 'macbook', 'comprei', 'o', 'pro', 'de', '13”', 'deste', 'ano', 'e', 'o', 'apple', 'watch', 'que', 'esta', 'sofrivel', 'bota', 'doomed', 'nisso', 'pre', 'requisito', 'pra', 'cursar', 'medicina', 'eh', 'ter', 'um', 'macbook', 'eh', '📢', 'sorteio', 'no', 'ig', 'da', 'barbaralabres', '➡️', '1', 'iphone', '11', 'pro', 'macbook', 'airpods', 'apple', 'watch', '•', 'para', 'participar', 'basta', 'seguir', 'grupoangelafariaaf', 'no', 'intagram', 'e', 'comentar', 'muito', 'na', 'foto', 'do', 'sorteio', 'no', 'instagram', 'barbara', 'labres', '🚀', 'resultado', 'dia', '25', '09', 'no', 'ig', 'resultadosorteioaf', 'https', 't', 'co', '1el8zy7zwr']\n",
      "___________________________________________\n",
      "___________________________________________\n",
      "___________________________________________\n",
      "['marinenorstrahl', 'ogascao', 'lucasjtho', 'ou', 'economiza', 'no', 'ifood', 'e', 'compra', 'um', 'macbook', 'pro', 'vale', 'cada', 'centavo', 'vendendo', 'um', 'macbook', 'pro', 'bem', 'bichado', 'porem', 'funcionando', 'alguem', 'sabe', 'onde', 'posso', 'levar', 'pra', 'reaproveitarem', 'as', 'pecas', 'sera', 'que', 'pego', 'ao', 'menos', '1k', 'nele', 'meu', 'sonho', 'trabalhar', 'numa', 'mesa', 'branca', 'com', 'o', 'meu', 'macbook', 'um', 'copo', 'de', 'cafe', 'do', 'lado', 'e', 'fazendo', 'anotacao', 'num', 'livro', 'quando', 'foi', 'que', 'eu', 'virei', 'tao', 'adulta', 'josiasteofilo', 'eu', 'acho', 'que', 'e', 'sempre', 'mais', 'do', 'mesmo', 'e', 'logo', 'vem', 'muito', 'mais', 'caro', 'sao', 'bons', 'aparelhos', 'sao', 'mas', 'macbook', 'custar', 'mais', 'de', '17k', 'e', 'uma', 'loucura', 'meu', 'pai', 'querendo', 'q', 'eu', 'escolha', 'um', 'macbook', 'e', 'eu', '😐❓❓❓❓n', 'quero', 'antonyo_almeida', 'alltoowellpt', 'macbook', 'com', 'a14x', 'ja', 'ricaaaaaaaardo', 'so', 'queria', 'um', 'macbook', '😔', 'vai', 'apple', 'lanca', 'logo', 'os', 'produtos', 'novos', 'p', 'cair', 'o', 'preco', 'dos', 'antigos', 'p', 'eu', 'comprar', 'um', 'macbook', 'kkkkk', 'mano', 'agora', 'e', 'serio', 'quando', 'e', 'comeca', 'esse', 'bagulho', 'da', 'unifesspa', 'dar', 'os', 'macbook', 'tenho', 'internet', 'po', 'preciso', 'e', 'de', 'um', 'computador', 'caraca', 'quero', 'muito', 'um', 'macbook', '2020', '🥰😍', 'me', 'da', 'um', 'macbook', 'ou', 'um', 'imac', 'de', 'natal', 'papai', 'caralho', 'a', 'promocao', 'do', 'ig', 'da', 'barbara', 'ate', 'salivei', 'com', 'o', 'macbook', '🤤', 'eu', 'tenho', 'fe', 'q', 'hoje', 'vai', 'ter', 'apple', 'lancando', 'macbook', 'ja', 'c', 'o', 'apple', 'silicon', 'macbook', 'e', 'caro', 'pra', 'crlhhhhh', 'vei', 'nao', 'faz', 'sentido', 'nenhum', 'o', 'ipad', 'pro', 'ser', 'mais', 'caro', 'que', 'o', 'macbook', 'air', 'alguem', 'me', 'vende', 'um', 'macbook', 'voces', 'tambem', 'levam', 'choque', 'do', 'macbook', 'de', 'vcs', 'eu', 'sou', 'muito', 'cadelinha', 'da', 'apple', 'queria', 'muito', 'um', 'applewatch', 'um', 'macbook', 'um', 'ipad', 'poxa', 'todo', 'mundo', 'da', 'minha', 'turma', 'tem', 'macbook', 'namoral', 'revoltante', 'e', 'tenho', 'um', 'macbook', 'pro', '13', 'polegadas', 'core', '2', 'duo', 'zerado', 'tambem', 'se', 'botar', 'mais', '4gb', 'de', 'memoria', 'e', 'um', 'ssd', 'roda', 'lindo', 'tambem', 'era', 'da', 'minha', 'mae', 'ta', 'zerado', 'impecavel', 'r', '2500', 'leva', 'sei', 'que', 'fica', 'legal', 'por', 'que', 'tenho', 'um', 'identico', 'e', 'fiz', 'esse', 'upgrade', 'e', 'rodo', 'ate', 'logic', 'pro', 'x', 'nele', 'sem', 'problemas', 'comprar', 'macbook', 'uma', 'enorme', 'furada', 'pra', 'mulher', 'que', 'vai', 'investir', 'na', 'carreira', 'gamer', 'stream', 'de', 'the', 'sims', 'to', 'precisando', 'comprar', 'um', 'notebook', 'bom', 'pra', 'programar', 'pro', 'caso', 'de', 'acontecer', 'de', 'eu', 'ficar', 'sem', 'internet', 'em', 'casa', 'igual', 'quinta', 'e', 'sexta', 'estava', 'pesquisando', 'os', 'precos', 'do', 'macbook', 'e', 'e', 'absurdo', 'o', 'preco', 'disso', 'aqui', 'no', 'brasil', 'na', 'verdade', 'o', 'preco', 'dos', 'produtos', 'da', 'apple', 'aqui', 'no', 'br', 'e', 'um', 'assalto', 'decidi', 'q', 'n', 'vou', 'comprar', 'um', 'nada', 'ate', 'eu', 'juntar', 'dinheiro', 'p', 'comprar', 'um', 'macbook', 'o', 'capitalismo', 'venceu', 'rosana', 'e', 'o', 'meu', 'macbook', 'pro', 'de', '2018', 'que', 'esta', 'com', 'um', 'problema', 'no', 'flat', 'cable', 'e', 'tem', 'que', 'trocar', 'a', 'tela', 'inteira', 'que', 'custa', '4500', '00', 'o', 'pior', 'e', 'que', 'e', 'um', 'problema', 'cronico', 'da', 'apple', 'estao', 'sendo', 'processados', 'por', 'isso', 'nos', 'eua', 'mas', 'nao', 'querem', 'saber', 'eu', 'que', 'lute', 'eduss26', 'rulexcat', 'opedry', 'na', 'realidade', 'tem', 'rumores', 'de', 'realmente', 'so', 'anunciar', 'no', 'evento', 'de', 'outubro', 'mesmo', 'hoje', 'seria', 'focado', 'no', 'apple', 'watch', 'ipad', 'airtags', 'e', 'talvez', 'ano', 'novo', 'macbook', 'com', 'apple', 'silicon', 'whatreweliving4', 'ai', 'nem', 'me', 'lembre', 'disso', 'os', 'katycats', 'doaram', 'mais', 'de', 'mil', 'dolares', 'pra', 'ajudar', 'na', 'musica', 'da', 'katy', 'e', 'ele', 'foi', 'la', 'e', 'comprou', 'um', 'macbook', 'https', 't', 'co', 'm3nnnt6x91', 'pai', 'me', 'de', 'um', 'macbook', 'imediatamente', 'eu', 'quero', 'apoiar', 'o', 'capitalismo', 'vai', 'anda', 'anda', 'ruimoura', 'n', 'tenho', 'problemas', 'em', 'comprar', 'coisas', 'da', 'apple', 'porque', 'a', 'qualidade', 'e', 'de', 'facto', 'impressionante', 'tenho', 'uma', 'pessoa', 'na', 'empresa', 'que', 'ainda', 'usa', 'um', 'macbook', 'air', 'de', '2011', 'e', 'ainda', 'bomba', 'forte', 'nunca', 'tive', 'nada', 'que', 'se', 'estragasse', 'a', 'rodinha', 'do', 'watch', 's2', 'foi', 'a', 'unica', 'coisa', 'ate', 'hj', 'q', 'me', 'deixou', 'de', 'funcionar', 'alguem', 'me', 'da', 'um', 'macbook', 'krikrikrine', 'e', 'menina', 'ele', 'nem', 'e', 'rico', 'so', 'pose', 'com', 'o', 'macbook', 'e', 'a', 'caneta', 'de', '500', 'reais', 'meu', 'setup', 'de', 'trampo', 'atual', 'ipad', 'pro', '2018', 'macbook', 'pro', '13”', '2015', 'apple', 'e', 'caro', 'e', 'e', 'muito', 'caro', 'mas', 'dura', 'e', 'lembre', 'se', 'sao', 'ferramentas', 'de', 'trabalho', 'sou', 'apple', 'fag', 'em', 'alguns', 'sentidos', 'por', 'exemplo', 'eu', 'nao', 'teria', 'nem', 'um', 'apple', 'watch', 'nem', 'um', 'airpod', 'appleevent', 'https', 't', 'co', 'dsadoklodb', 'meu', 'deuuussss', 'cara', 'como', 'eu', 'odeio', 'macbook', 'puta', 'que', 'pariu', 'rt', 'oibalfoaoj', 'deus', 'eu', 'juro', 'que', 'se', 'o', 'senhor', 'transformar', 'meu', 'notebook', 'em', 'um', 'macbook', 'eu', 'nao', 'conto', 'pra', 'ninguem', 'digo', 'pra', 'todo', 'mundo', 'que', 'ganhei', 'agora', 'q', 'o', 'trampo', 'me', 'mandou', 'um', 'macbook', 'vou', 'poder', 'usar', 'macvim', 'novamente', '3', 'quando', 'eu', 'tiver', 'dinheiro', 'e', 'tiver', 'um', 'macbook', 'eu', 'vou', 'lembrar', 'aff', 'queria', 'ter', 'um', 'macbook', 'pro', 'https', 't', 'co', 'q5w0gintqg', 'vcs', 'acham', 'melhor', 'eu', 'comprar', 'um', 'macbook', 'ou', 'um', 'ipad', 'lembro', 'que', 'antigamente', 'eu', 'ficava', 'doido', 'com', 'esses', 'eventos', 'da', 'apple', 'hj', 'em', 'dia', 'cago', 'baldes', 'nao', 'odeio', 'a', 'apple', 'nem', 'nada', 'adoro', 'o', 'macbook', 'e', 'nunca', 'usei', 'nenhum', 'computador', 'melhor', 'mas', 'acho', 'muito', 'buzz', 'pra', 'pouca', 'inovacao', 'real', 'tudo', 'muito', 'caro', 'so', 'pela', 'marca', 'appleevent', 'eu', 'sei', 'que', 'ja', 'sou', 'cadelinha', 'da', 'apple', 'macbook', 'airpods', 'iphone', 'e', 'apple', 'watch', 'ja', 'quero', 'trocar', 'meu', 'iphone', 'e', 'meu', 'apple', 'watch', 'aaaaa', 'quem', 'acostuma', 'com', 'ios', 'pra', 'depois', 'pegar', 'qualquer', 'eletronico', 'da', 'samsung', 'e', 'puxado', 'viu', 'tudo', 'que', 'eu', 'queria', 'era', 'um', 'macbook', 'rosaliaxxo', 'quantas', 'vezes', 'vc', 'ja', 'deu', 'zoom', 'nessa', 'foto', 'foi', 'ai', 'que', 'eu', 'descobri', 'que', 'a', 'camera', 'do', 'macbook', 'nao', 'presta', 'hahahahaha', 'eu', 'to', 'passando', 'tanta', 'raiva', 'com', 'esse', 'notebook', 'novo', 'da', 'acer', 'que', 'se', 'eu', 'tivesse', 'um', 'cartao', 'de', 'credito', 'com', 'limite', 'alto', 'mas', 'eu', 'com', 'certeza', 'financiava', 'um', 'macbook', 'air', 'pq', 'ios', 'nunca', 'me', 'decepciona', 'e', 'nao', 'me', 'deixa', 'na', 'mao', 'macbook', 'e', 'uma', 'coisa', 'que', 'nao', 'me', 'falta', 'nem', 'dinheiro', 'me', 'falta', 'e', 'coragem', 'mesmo', 'o', 'cara', 'estuda', 'eletronica', 'pra', 'usar', 'macbook', 'pqp', 'por', 'quanto', 'eu', 'consigo', 've', 'der', 'um', 'macbook', 'pro', 'de', '2006', 'renanbocalon', 'zehzito', 'eu', 'tremi', 'aqui', 'de', 'vontade', 'visse', 'uso', 'o', 'macbook', 'pro', 'adoro', 'mas', 'a', 'versatilidade', 'do', 'ipad', 'e', 'ma', 'ra', 'vi', 'lho', 'sa', 'to', 'encantado', 'joseadorno', 'que', 'usa', 'no', 'dia', 'a', 'dia', 'e', 'ama', 'o', 'macbook', 'ta', 'a', 'hora', 'da', 'morte', 'comecando', 'em', 'dez', 'mil', 'reais', 'amigas', 'https', 't', 'co', '85csxzapo8', 'ngm', 'quer', 'me', 'dar', 'um', 'macbook', 'alguem', 'me', 'da', 'um', 'macbook', 'hahah', 'apple', 'quero', 'um', 'macbook', 'o', 'preco', 'do', 'mais', 'simples', 'no', 'brasil', 'da', 'pra', 'viajar', 'comprar', 'fora', 'passear', 'e', 'voltar', 'corona', 'me', 'ajuda', 'ai', 'vai', 'felizona', 'pq', 'o', 'pai', 'comprou', 'o', 'macbook', 'dele', '🤩', 'pxrsonv', 'eu', 'confiei', 'demais', 'no', 'meu', 'macbook', 'esse', 'foi', 'o', 'erro', 'yoongi', 'me', 'da', 'seu', 'macbook', 'antigo', 'q', 'ta', 'guardado', 'no', 'seu', 'armario', 'e', 'eu', 'digo', 'se', 'esperava', 'ou', 'nao', 'rt', 'najuh_batista', 'preciso', 'comprar', 'um', 'macbook', 'pra', 'ontem😭😭', 'allysonrodrigoo', 'macbook', 'sao', 'tudo', 'a', 'qualidade', 'de', 'imagem', 'nenhum', 'outro', 'vai', 'dar', 'porem', 'acho', '13', 'polegadas', 'pequeno', 'mas', 'depende', 'do', 'teu', 'uso', 'pensei', 'em', 'comprar', 'um', 'mas', 'vou', 'ficar', 'de', 'ipad', 'pro', '2018', 'que', 'ta', 'uns', '800€', 'e', 'faz', 'praticamente', 'tudo', 'que', 'um', 'notebook', 'faz', 'appleevent', 'e', 'nois', 'so', 'querendo', 'um', 'macbook', 'air', 'arrumar', 'um', 'emprego', 'na', 'nubank', 'pra', 'ganhar', 'um', 'macbook', 'xicocomch', 'e', 'o', 'que', 'aconteceu', 'comigo', 'tava', 'na', 'plataforma', 'mac', 'ha', '20', 'anos', 'meu', 'ultimo', 'macbook', 'durou', '9', 'era', 'um', 'pro', 'final', 'de', '2011', 'mas', 'foi', 'impossivel', 'seguir', 'tive', 'que', 'migrar', 'pro', 'windows', 'blogdoiphone', 'nao', 'uso', 'google', 'chrome', 'nem', 'no', 'macbook', 'safari', 'e', 'vida', 'comprei', 'um', 'macbook', 'pela', 'internet', 'e', 'nao', 'vou', 'dormir', 'em', 'paz', 'enquanto', 'nao', 'chegar', 'aqui', 'medo', 'do', 'golpe', 'meu', 'limite', 'no', 'nubank', 'nao', 'da', 'nem', 'pra', 'comprar', 'um', 'apple', 'macbook', 'air', 'meu', 'pai', 'falando', 'que', 'vai', 'levar', 'meu', 'notebook', 'pra', 'empresa', 'e', 'que', 'vai', 'me', 'comprar', 'um', 'novo', '“ta', 'mas', 'tem', 'que', 'ser', 'um', 'macbook', 'pq', 'eu', 'odeio', 'samsung”', '“fica', 'com', 'ele', 'mesmo', 'da', 'pra', 'usar', 'ainda', 'ne', '”', 'queria', 'um', 'macbook', 'mas', 'um', 'macbook', 'nao', 'posso', 'ter', 'pois', 'ele', 'e', 'muito', 'caro', 'e', 'o', 'dinheiro', 'que', 'eu', 'tenho', 'e', 'pra', 'ver', 'voce', 'https', 't', 'co', 'rkdoo9jyup', 'nossa', 'mano', 'macbook', 'air', 'ta', 'muito', 'mais', 'barato', 'do', 'q', 'eu', 'pensei', 'hmmmmmmmmmmmmmmm', 'rodeicomfino', 'kkkkkkk', 'pia', 'o', 'macbook', 'do', 'matheus', 'corrige', 'tudo', 'mano', 'to', 'no', 'odio', 'ja', 'era', 'pra', 'se', 'ganja', 'vi', 'agr', 'pouco', 'q', 'tava', 'errado', 'kaizergabriel', 'gostou', 'todas', 'as', 'economias', 'comprando', 'o', 'macbook', 'que', 'nao', 'sobrou', 'dinheiro', 'pra', 'mais', 'nada', 'xiumiaubr', 'nem', 'tenho', 'um', 'iphone', 'tenho', 'um', 'macbook', 'pro', 'aquela', 'desgraca', 'que', 'descarrega', 'muito', 'rapido', 'alguem', 'me', 'da', 'um', 'macbook', 'pro', '2014', 'com', 'ssd', 'de', '1tb', 'e', '16gb', 'de', 'ram', 'preciso', 'comprar', 'um', 'macbook', 'pra', 'ontem😭😭', 'seriamente', 'pensando', 'em', 'comprar', 'um', 'teclado', 'mecanico', 'sem', 'fio', 'esse', 'teclado', 'do', 'macbook', 'e', 'mto', 'ridiculo', 'parnasopunk', 'jvehmole', 'macbook', 'bom', 'e', 'macbook', 'na', 'vitrine', 'da', 'loja', 'empoeirando', 'dias', 'de', 'luta', 'e', 'dias', 'de', 'gloria', 'agora', 'eu', 'tenho', 'um', 'windows', 'dentro', 'do', 'macbook', '🥺', 'https', 't', 'co', 'dwlrrz16yv', 'coisas', 'que', 'aprendi', 'sobre', 'mac', 'eu', 'nao', 'gosto', 'de', 'macbook', 'eu', 'prefiro', 'windows', 'ao', 'macos', 'detesto', 'a', 'interface', 'do', 'macos', 'gosto', 'do', 'imac', 'apesar', 'dos', '3', 'pontos', 'acima', 'nao', 'curto', 'o', 'magic', 'mouse', 'e', 'acho', 'ele', 'uma', 'droga', 'guicury', 'oandrefogaca', 'qual', 'o', 'seu', 'macbook', 'pode', 'ser', 'que', 'o', 'modelo', 'dele', 'nao', 'tenha', 'suporte', 'para', 'transferencia', 'rapida', 'com', 'o', 'bt', 'quando', 'disseram', 'que', 'nao', 'da', 'p', 'jogar', 'no', 'macbook', 'nao', 'estavam', 'errados', 'sdd', 'qnd', 'os', 'amigos', 'do', 'meu', 'pai', 'davam', 'macbook', 'quebrado', 'pra', 'ele', 'consertar', 'por', 'mil', 'reais', 'e', 'ser', 'meu', 'alguem', 'sabe', 'me', 'dizer', 'se', 'macbook', 'e', 'bom', 'pra', 'fazer', 'live', 'mobile', 'no', 'caso', 'a', 'apple', 'vai', 'ter', 'que', 'lidar', 'agora', 'com', 'a', 'nvidia', 'apos', 'a', 'aquisicao', 'da', 'arm', 'o', 'apple', 'silicon', 'que', 'estara', 'presente', 'no', 'novo', 'macbook', 'e', 'baseado', 'na', 'arquitetura', 'arm', 'licenciada', '😅', 'https', 't', 'co', 'cbsm9mgcjp', 'pessoas', 'com', 'macbook', 'como', 'q', 'faz', 'pra', 'usar', 'o', 'word', 'power', 'point', 'bom', 'eu', 'enfiei', 'na', 'cabeca', 'que', 'quero', 'um', 'macbook', 'e', 'so', 'consigo', 'pensar', 'nisso', 'caioincau', 'pra', 'quem', 'esta', 'comecando', 'na', 'area', 'e', 'principalmente', 'no', 'brasil', 'comprar', 'um', 'macbook', 'e', 'algo', 'impensavel', 'e', 'voce', 'tem', 'muito', 'mais', 'valor', 'comprando', 'um', 'laptop', 'com', 'bom', 'suporte', 'pra', 'linux', 'e', 'se', 'aventurando', 'no', 'windows', 'com', 'wsl2', 'macbook', 'eh', 'tao', 'caro', 'nunca', 'vou', 'ter', 'um😢', 'mais', 'de', 'um', 'ano', 'que', 'ganhei', 'meu', 'macbook', 'e', 'ate', 'hoje', 'descubro', 'coisas', 'novas', 'nele', '98squeen', '10k', 'num', 'macbook', 'p', 'acessar', 'email', 'com', 'mais', 'praticidade', 'maldito', 'rwindows', 'alguem', 'me', 'compra', 'um', 'macbook', 'https', 't', 'co', '4ixmepdmvr', 'eu', 'to', 'sonhando', 'tanto', 'com', 'um', 'macbook', 'pqp', 'algm', 'me', 'empresta', '10000', 'nmrl', 'rt', 'marianalsvgss', 'comecar', 'a', 'juntar', 'para', 'um', 'macbook', 'daqueles', 'pequenos', 'que', 'da', 'para', 'levar', 'para', 'todo', 'o', 'lado', 'is', 'my', 'next', 'goal', 'gente', 'bom', 'dia', 'quero', 'um', 'macbook', 'https', 't', 'co', 'zvzsfrhwdn', 'thcarvao', 'seu', 'irmao', 'tem', 'o', 'pro', 'que', 'e', 'uma', 'fortuna', 'assim', 'como', 'o', 'macbook', 'tb', 'e', 'uma', 'fortuna', 'rs', 'macbook', 'e', 'um', 'lixo', 'mds', 'nao', 'sei', 'como', 'a', 'apple', 'vende', 'um', 'negocio', 'desses', 'luksrx', 'sim', 'irei', 'comprar', 'meu', 'macbook', 'o', 'dia', 'inteiro', 'tentando', 'formatar', 'o', 'macbook', '🥵🥵', 'so', 'queria', 'comprar', 'um', 'macbook', 'afff', 'meu', 'sonho', 'de', 'princesa', 'duarteyuri_', 'migo', 'e', 'bem', 'melhor', 'eu', 'comprei', 'um', 'macbook', 'pro', 'e', 'agora', 'e', 'usb', 'c', 'e', 'super', 'tendencia', 'mais', 'possibilidades', 'a', 'pior', 'coisa', 'de', 'vc', 'ter', 'um', 'macbook', 'e', 'que', 'a', 'maioria', 'dos', 'tutoriais', 'de', 'alguma', 'coisa', 'sao', 'em', 'ingles', '😩', 'macbook', 'e', 'tudo', 'de', 'mais', 'perfeito', 'que', 'existe', 'puta', 'merda', 'aguardando', 'ansiosamente', 'o', 'momento', 'que', 'vou', 'ter', 'dinheiro', 'pra', 'comprar', 'um', 'macbook', 'pq', 'eu', 'odeio', 'esses', 'notebooks', 'lentosssss', 'aaaa', 'seria', 'meu', 'sonho', 'ganhar', 'um', 'macbook', 'puta', 'merda', 'aaaaaaaa', 'comprei', 'meu', 'macbook', 'caralhooooii', 'nem', 'acreditooooo', 'com', 'meu', 'fucking', 'dinheiroooooo', 'e', 'chega', 'em', '4', 'dias', 'uteis', 'aaaaaaaaaaaa', '✨✨✨✨✨', 'queria', 'um', 'macbook', 'tbm', 'appleevent', 'queria', 'mto', 'um', 'macbook', 'to', 'chorando', 'mas', 'com', 'o', 'valor', 'q', 'ta', 'o', 'dolar', 'nao', 'da', 'coragem', 'de', 'comprar', 'nammyeee', 'alias', 'meu', 'macbook', 'foi', 'igual', 'a', 'cada', 'atualizacao', 'ficava', 'mais', 'lento', 'ate', 'ele', 'ficar', 'utilizavel', 'ai', 'um', 'dia', 'a', 'apple', 'deu', 'a', 'ultima', 'atualizacao', 'e', 'parou', 'de', 'dar', 'suporte', 'eu', 'formatei', 'do', 'zero', 'e', 'instalei', 'a', 'ultima', 'versao', 'do', 'sistema', 'ta', 'otimo', 'agora', 'investir', 'e', 'num', 'macbook', 'air', 'bem', 'leve', 'pra', 'nao', 'pesar', 'a', 'mochila', 'manter', 'um', 'bom', 'cel', 'e', 'o', 'minimo', 'de', 'coisas', 'fixas', 'pq', 'quando', 'tudo', 'isso', 'passar', 'eu', 'quero', 'e', 'sumir', 'por', 'ai', 'to', 'num', 'nivel', 'de', 'desgaste', 'e', 'cansaco', 'mental', 'sou', 'aquariano', 'ta', 'ficando', 'meio', 'que', 'impossivel', 'sanidade', 'preso', 'esse', 'tempo', 'todo', 'eu', 'to', 'quase', 'trocando', 'de', 'computador', 'cara', 'meu', 'macbook', 'so', 'dificulta', 'eu', 'baixar', 'os', 'jogos', 'filmes', 'etc', 'de', 'graca', 'que', 'odio', 'al_lanacosta', 'eu', 'quero', 'um', 'macbook', '🙈', 'comecar', 'a', 'juntar', 'para', 'um', 'macbook', 'daqueles', 'pequenos', 'que', 'da', 'para', 'levar', 'para', 'todo', 'o', 'lado', 'is', 'my', 'next', 'goal', 'macbook', 'ultimamente', 'dando', 'uns', 'erro', 'estranho', 'vamao', 'ver', 'viu', 'apple', 'vitinzera1', 'naooo', 'po', 'vou', 'pegar', 'usado', 'macbook', 'pro', 'nunca', 'q', 'eu', 'gasto', 'isso', 'no', 'max', '5k', 'alguem', 'ja', 'teve', 'o', 'mitico', 'problema', 'kernel_task', 'que', 'surge', 'do', 'nada', 'e', 'ocupa', '60', '70', 'cpu', 'no', 'macbook', 'mto', 'obrigada', 'macbook', 'por', 'multiplos', 'desktops', 'a', 'partir', 'do', 'momento', 'que', 'a', 'adobe', 'nao', 'me', 'deixa', 'colocar', 'full', 'screen', '🙏🏻🙏🏻🙏🏻🙏🏻', 'estou', 'instalando', 'o', 'windows', '10', 'no', 'meu', 'macbook', 'so', 'para', 'jogar', 'fullguys', 'kkkk', 'dudabremen', 'entendo', 'sua', 'dor', 'acho', 'que', 'a', 'unica', 'coisa', 'melhor', 'que', 'um', 'pc', 'gamer', 'pra', 'fzr', 'essas', 'coisas', 'de', 'facul', 'e', 'td', 'e', 'um', 'macbook', 'e', 'uma', 'delicia', 'a', 'interface', 'do', 'mac', 'e', 'nao', 'trava', 'de', 'jeito', 'nenhum', 'queria', 'muito', 'um', 'macbook', 'karl', 'marx', 'eu', 'falhei', 'com', 'voce', 'jvehmole', 'e', 'pq', 'tem', 'gnt', 'q', 'defende', 'com', 'unhas', 'e', 'dentes', 'um', 'macbook', 'mas', 'pra', 'mim', 'e', 'mt', 'dinheiro', 'so', 'pela', 'marca', 'no', 'maior', 'dilema', 'se', 'compro', 'ou', 'nao', 'um', 'laptop', 'novo', 'pra', 'trabalhar', 'pq', 'trabalhar', 'com', 'macbook', 'e', 'complicado', 'com', 'alguns', 'jogos', 'e', 'fora', 'que', 'ele', 'e', 'um', 'pouco', 'antigo', 'ja', 'abaixa', 'o', 'preco', 'do', 'macbook', 'appleevent', 'curte', 'ai', 'para', 'ver', 'o', 'coracao', 'rsrsr', 'helioweirdo', 'seca', 'num', 'macbook', 'porem', 'fora', 'de', 'cogitacao', 'prefiro', 'um', 'carro', '😬', 'com', 'desejo', 'de', 'macbook', 'juro', 'por', 'tudo', 'q', 'nunca', 'mais', 'compro', 'macbook', 'em', 'toda', 'a', 'minha', 'vida', 'mais', 'um', 'dia', 'procurando', 'macbook', 'barato', 'pq', 'a', 'apple', 'nao', 'facilita', 'nem', 'pra', 'quem', 'quer', 'trabalhar', 'pra', 'ela', 'queria', 'um', 'notebook', 'pra', 'fazer', 'minhas', 'coisas', 'ne', 'ai', 'fui', 'olhar', 'o', 'preco', 'de', 'um', 'macbook', 'pra', 'poder', 'usar', 'como', 'extensao', 'do', 'ipad', 'e', 'o', 'mais', 'barato', 'e', '8000', 'reais😍😍😍', 'uma', 'pena', 'entao', 'ne', 'estarei', 'ficando', 'sem', 'computador', 'mesmo']\n",
      "___________________________________________\n",
      "___________________________________________\n",
      "___________________________________________\n",
      "['giovannatorrres', 'vai', 'trouxa', 'compra', 'macbook', 'estando', 'acostumada', 'com', 'windows', 'desde', 'sempre', 'rt', 'go_nikaido', 'pensando', 'aqui', 'o', 'macbook', 'do', 'chan', 'parece', 'uma', 'bomba', 'https', 't', 'co', 'hefmtybspc', 'a', 'maior', 'decepcao', 'com', 'meu', 'macbook', 'novo', 'e', 'que', 'ele', 'simplesmente', 'nao', 'tem', 'cheiro', 'nenhum', 'nada', 'daquele', 'cheirinho', 'de', 'novo', 'tou', 'achando', 'q', 'e', 'por', 'causa', 'daquelas', 'leis', 'novas', 'da', 'ce', 'q', 'proibem', 'cheiros', 'toxicos', 'nos', 'produtos', 'eu', 'responderia', 'saude', 'um', 'mundo', 'mais', 'justo', 'a', 'vacina', 'da', 'covid', 'para', 'todos', 'voltar', 'a', 'trabalhar', 'e', 'um', 'macbook', 'novo', 'me', 'atende', 'papai', 'noel', 'amiga', 'tu', 'ja', 'ouviu', 'falar', 'em', 'formatar', 'computador', 'nao', 'precisava', 'jogar', 'um', 'macbook', 'bom', 'no', 'rio', 'era', 'so', 'formatar', 'stuarttliro', 'macbook', 'ipad', 'iphone', 'e', 'o', 'carregador', 'ta', 'de', 'bom', 'tamanho🤝', 'rt', 'alvaropereirajr', 'no', 'apavorante', 'mausoleu', 'onde', 'estao', 'os', 'corpos', 'embalsamados', 'de', 'kim', 'il', 'sung', 'e', 'kim', 'jong', 'il', 'em', 'pyongyang', 'uma', 'das', 'atracões', 'deus', 'eu', 'juro', 'que', 'se', 'o', 'senhor', 'transformar', 'meu', 'notebook', 'em', 'um', 'macbook', 'eu', 'nao', 'conto', 'pra', 'ninguem', 'digo', 'pra', 'todo', 'mundo', 'que', 'ganhei', 'em', 'sorteio', 'do', 'instagram', 'finalde2003', 'pfv', 'n', 'me', 'diga', 'q', 'e', 'um', 'macbook', 'carta', 'irmao', 'jose', 'branham', 'as', 'ultimas', 'dores', 'do', 'parto', 'https', 't', 'co', 'irjjirmly3', 'macbook', 'rt', 'novacanedude', 'hoje', 'sonhando', 'mais', 'que', 'nunca', 'com', 'meu', 'amor', 'cada', 'um', 'com', 'um', 'macbook', 'trabalhando', 'em', 'nossa', 'casa', 'propria', 'e', 'falando', '“lembra', 'amo', 'nao', 'confio', 'em', 'pessoas', 'q', 'tem', 'macbook', 'essa', 'e', 'uma', 'conviccao', 'q', 'ja', 'levo', 'ha', 'anos', 'comigo', 'rt', 'cantinholabres', '📢', 'sorteio', 'no', 'ig', 'da', 'barbaralabres', '➡️', '1', 'iphone', '11', 'pro', 'macbook', 'airpods', 'apple', 'watch', '•', 'para', 'participar', 'basta', 'seg', 'queria', 'adesivinhos', 'bonitos', 'pra', 'colar', 'na', 'tampa', 'do', 'macbook', 'a', 'pessoa', 'com', 'um', '~macbook~', 'e', 'tendo', 'que', 'suar', 'a', 'tabua', 'de', 'passar', 'roupa', 'como', 'mesa', 'https', 't', 'co', 'spfw2fscyp', 'na', 'primeira', 'dificuldade', 'que', 'eu', 'esbarrei', 'ja', 'desisti', 'e', 'montei', 'meu', 'setup', 'com', 'o', 'macbook', 'no', 'monitor', 'externo', 'de', 'novo', 'fskripski', 'ninaflsbrt', 'tem', 'fonte', 'paralela', 'nova', 'por', 'uns', '100~150', 'no', 'mercado', 'livre', 'se', 'nao', 'se', 'importar', 'de', 'comprar', 'uma', 'original', 'usada', 'vai', 'de', 'olx', 'https', 't', 'co', 'zvxgiy62g2', 'rodidico', 'a', 'unica', 'pessoa', 'que', 'porta', 'um', 'macbook', 'e', 'e', 'gente', 'boa', 'que', 'eu', 'conheco', 'e', 'o', 'fabio', 'pirigotico', 'ele', 'de', 'macbook', 'e', 'calca', 'marrom', 'https', 't', 'co', '1ocbaxaa2m', 'atualizei', 'meu', 'macbook', 'pro', 'catalina', 'e', 'ja', 'baixei', 'fl', 'studio', 'boa', 'eu', 'depois', 'que', 'atualizei', 'o', 'sistema', 'operacional', 'e', 'trouxe', 'meu', 'macbook', 'de', 'volta', 'a', 'vida', 'https', 't', 'co', 'f93awokadp', 'em', '2018', 'tivemos', '2', 'appleevent', 's', '1°', '12', 'setembro', 'iphones', 'xs', 'xs', 'max', 'xr', 'apple', 'watch', 'series', '4', '2°', '30', 'outubro', 'ipad', 'pro', 'macbook', 'air', 'e', 'mac', 'mini', 'ja', 'esse', 'ano', '2020', '1°', '15', 'setembro', '2°', 'outubro', 'qual', 'o', 'seu', 'palpite', 'comente', 'para', 'dias', 'diferentes', 'appleevent', 'appleevent2020', 'como', 'gravar', 'ligacões', 'no', 'iphone', 'tweak', 'audio', 'recorder', 'xs', 'pago', '👍🏾', '🇧🇷', '📲', 'https', 't', 'co', 'olyekgfx8o', 'retweet', 'no', 'post', 'para', 'mais', 'pessoas', 'terem', 'visibilidade', 'apple', 'ios', 'iphone', 'ipad', 'applewatch', 'macbook', 'homepod', 'ipadpro', 'applesyncbrasil', '🇧🇷', 'era', 'pra', 'eu', 'estar', 'dormindo', 'mas', 'to', 'vendo', 'preco', 'macbook', 'lirounani', 'macedeusa_', 'eu', 'ri', 'quando', 'a', 'gente', 'falou', 'que', 'ele', 'era', 'rico', 'quando', 'a', 'gnt', 'viu', 'o', 'macbook', 'dele', 'e', 'ele', 'gente', 'nada', 'ver', 'eu', 'comprei', 'em', 'nova', 'york', 'nicacio_7', 'ammorajoias_', 'tatuagefoda', 'eu', 'pedi', 'o', 'macbook', 'voce', 'nao', 'me', 'deu', 'a', 'fila', 'anda', 'alguem', 'sabe', 'uma', 'maneira', 'rapida', 'de', 'passar', '10', 'mil', 'fotos', 'do', 'rolo', 'da', 'camera', 'pro', 'macbook', 'sem', 'ser', 'pelo', 'itunes', 'ou', 'importando', '🆘', 'pelo', 'amor', 'de', 'deus', 'se', 'alguem', 'entender', 'de', 'macbook', 'ajude', 'meu', 'google', 'chrome', 'voltar', 'a', 'pegar', 'eu', 'boto', 'as', 'pagina', 'pra', 'carregar', 'e', 'nao', 'carrega', 'nada', 'fica', 'so', 'rodando', 'o', 'bicho', 'la', 'ai', 'qnd', 'boto', 'pra', 'reconfigurar', 'nao', 'vai', 'e', 'ja', 'desinstalei', 'e', 'instalei', 'tambem', 'o', 'que', 'eu', 'faco', 'meu', 'deus', 'https', 't', 'co', '6azzta7mqq', 'queria', 'um', 'adesivo', 'do', 'psicopato', 'do', 'meu', 'avatar', 'pra', 'fechar', 'a', 'maca', 'do', 'meu', 'macbook', 'sera', 'que', 'sou', 'nerd', 'olha', 'oq', 'eu', 'gosto', 'de', 'assistir', 'unboxing', 'a', 'sealed', '17', 'inch', 'macbook', 'pro', 'from', '2007', 'https', 't', 'co', 'cssxyxcgdv', 'via', 'youtube', 'kevynp_', 'mano', 'sim', 'kkkkk', 'so', 'um', 'macbook', 'pro', 'pra', 'eu', 'colar', 'uns', 'adesivinho', 'lmjcc1', 'mostrou', 'para', 'ela', 'o', 'app', 'furacões', 'pediu', 'para', 'ela', 'guardar', 'o', 'macbook', '📲', 'indiana', 'massara', 'via', 'instagram', '“tempo', 'de', 'oferta', '🤑', 'quem', 'esta', 'pronto', 'para', 'ganhar', 'um', 'monte', 'de', 'premios', 'de', 'incriveis', 'fiz', 'uma', 'parceria', 'com', 'a', 'international', 'loops', 'para', 'dar', 'a', 'voce', 'um', 'iphone', '11', 'um', 'laptop', 'macbook', 'air', 'um', 'ipad', 'pro', 'e', 'airpods', 'ou', '1000', 'em', 'dinheiro', '🏦', 'https', 't', 'co', 'q1cjgkeqjl', 'adivinha', 'quem', 'trabalha', 'com', 'macbook', 'agora', 'https', 't', 'co', 'xacy0lbs0q', 'hj', 'tem', 'appleevent', 'a', 'esperanca', 'e', 'q', 'novos', 'lancamentos', 'diminuem', 'os', 'precos', 'do', 'q', 'ja', 'foi', 'lancado', 'neammmm', 'pq', 'ta', 'f', 'ate', 'queria', 'um', 'computador', 'novo', 'mas', 'pagar', 'o', 'preco', 'de', 'um', 'carro', 'n', 'da', 'nao', 'lembro', 'q', 'paguei', '3', 'mil', 'e', 'pouco', 'no', 'meu', 'macbook', 'em', '2011', 'e', 'ja', 'achava', 'absurdo', 'agora', 'ta', 'quase', 'um', 'noticias', 'news', 'outlet', 'blog', 'apple', 'iphone', 'ipad', 'macbook', 'asap', 'https', 't', 'co', 'kxha5ie5qz', 'povo', 'se', 'sujeita', 'a', 'entrar', 'na', 'fazenda', 'para', 'ganhar', 'um', 'cache', 'que', 'basicamente', 'e', 'o', 'preco', 'de', 'um', 'macbook', '3', 'meses', 'de', 'expondo', 'de', 'uma', 'forma', 'agressiva', 'por', 'isso', 'meio', 'hard', 'eu', 'nao', 'ia', '🤔🤔🤔', 'nicesx_', 'porra', 'bicho', 'ai', 'a', 'gnt', 'so', 'pode', 'fechar', 'o', 'negocio', 'qnd', 'eu', 'souber', 'qual', 'mac', 'q', 'ela', 'vai', 'te', 'dar', 'slc', 'vai', 'que', 'eu', 'do', 'foto', 'da', 'minha', 'raba', 'por', 'um', 'macbook', 'air', 'ai', 'eu', 'me', 'mato', 'de', 'vez', 'macbook', 'ou', 'ipad', 'com', 'teclado', 'o', 'que', 'fazer', 'com', 'um', 'macbook', 'pro', '2011', 'meio', 'vivo', 'meio', 'morto', 'bom', 'dia', 'eu', 'quero', 'saber', 'pq', 'ainda', 'nao', 'uso', 'um', 'macbook', 'aqui', 'no', 'escritorio', 'delreychaos', 'eu', 'comprava', 'um', 'carro', 'e', 'dava', 'varios', 'piao', 'fodas', 'o', 'macbook', 'rt', 'xths_', 'kevynp_', 'mano', 'sim', 'kkkkk', 'so', 'um', 'macbook', 'pro', 'pra', 'eu', 'colar', 'uns', 'adesivinho', 'erickadams0', 'mas', 'e', 'porque', 'o', 'nome', 'do', 'aparelho', 'e', 'iphone', 'mesmo', 'assim', 'como', 'ninguem', 'fala', '“pega', 'la', 'meu', 'notebook”', 'quando', 'vai', 'se', 'referir', 'ao', 'macbook', 'a', 'pessoa', 'fala', '“pega', 'la', 'meu', 'macbook”', 'sacou', 'todas', 'as', 'pessoas', 'q', 'eu', 'conheco', 'q', 'tem', 'macbook', 'ou', 'compraram', 'com', 'bolsa', 'do', 'ciencia', 'sem', 'fronteiras', 'ou', 'fizeram', 'uma', 'gambiarra', 'danada', 'pra', 'importar', 'barato', 'n', 'consigo', 'nem', 'conceber', 'um', 'amigo', 'q', 'tenha', '12', '000', 'sobrando', 'pra', 'comprar', 'um', 'computador', 'serase', 'eu', 'compro', 'so', 'not', 'qualquer', 'e', 'depois', 'pego', 'um', 'iphone', 'ou', 'pego', 'um', 'macbook', 'e', 'anos', 'depois', 'quando', 'terminar', 'de', 'pagar', 'o', 'mac', 'eu', 'pego', 'um', 'iphone', 'o', 'teu', 'macbook', 'nao', 'passa', 'deste', 'ecra', 'nos', 'podemos', 'resolver', 'pede', 'um', 'orcamento', 'gratis', '👉', 'https', 't', 'co', 'kvnnldg7mk', '914', '090', '000', 'info', 'youget', 'pt', 'apple', 'repair', 'https', 't', 'co', 'khjipd9scr', 'gus_bruno', 'pedruckss', 'eu', 'tambem', 'to', 'com', 'necessidade', 'o', 'meu', 'macbook', 'da', 'candida', 'e', 'de', '2011', 'https', 't', 'co', 'q1na49epxv', 'noticias', 'news', 'promocões', 'blog', 'apple', 'iphone', 'ipad', 'macbook', 'asap', 'https', 't', 'co', 'ae8zg4bk9a', 'misakiputa', 'essa', 'merda', 'da', 'para', 'macbook', 'basgan', 'gittigidiyor', 'https', 't', 'co', 'tcifroptc1', 'aklınagelenlerkapınagelsin', '25', 'belhanda', 'titanicrisiing', 'vc', 'pedindovmeu', 'macbook', 'rt', 'labresupdates', 'voce', 'quer', 'ter', 'a', 'oportunidade', 'de', 'ganhar', '1', 'iphone', 'pro', '📲', 'macbook', '💻', 'airpods', 'apple', 'watch', 'entao', 'corre', 'para', 'o', 'link', '⬇️', 'e', 'gowanfavs', 'vibe', 'tao', 'boa', 'que', 'gi', 'perdeu', 'o', 'macbook', 'no', 'aviao', 'marcela', 'teve', 'que', 'fazer', 'teste', 'pro', 'covid', 'https', 't', 'co', '3jqa9ghkmc', 'como', 'sincronizar', 'os', 'contatos', 'agenda', 'do', 'gmail', 'no', 'ios', 'em', '2020', 'apple', 'sync', 'brasil™', 'https', 't', 'co', '7vtj4o0nug', 'retweet', 'no', 'post', 'para', 'mais', 'pessoas', 'terem', 'visibilidade', 'apple', 'ios', 'iphone', 'ipad', 'applewatch', 'macbook', 'homepod', 'ipadpro', 'applesyncbrasil', '🇧🇷', 'de', 'dentro', 'do', 'ape', 'ar', 'condicionado', 'macbook', 'voce', 'vai', 'dizer', 'que', 'e', 'de', 'esquerda', 'feminista', 'defende', 'as', 'mulher', 'posta', 'la', 'que', 'e', 'vadia', 'que', 'pode', 'chamar', 'de', 'puta', 'sua', 'fala', 'nao', 'condiz', 'com', 'sua', 'conduta', 'algum', 'de', 'voces', 'tem', 'um', 'mac', 'ou', 'macbook', 'algum', 'de', 'vcs', 'tem', 'macbook', 'vale', 'a', 'pena', 'comprar', 'um', 'basico', 'air', '13', 'por', 'exemplo', 'eu', 'hj', 'levando', 'meu', 'macbook', 'pra', 'manutencao', 'com', 'ele', 'no', 'colo', 'enrolado', 'num', 'cobertor', 'tal', 'qual', 'um', 'bebe', 'febril', 'https', 't', 'co', 'mz9ixy7hu2', 'til', 'meu', 'macbook', 'estava', 'travando', 'com', 'o', 'kernel_task', 'usando', '500', 'do', 'cpu', 'e', 'tudo', 'congelava', 'cpu', 'frequency', 'ia', 'pra', '800hz', 'li', 'isso', 'https', 't', 'co', '1mq3heu29x', 'qdo', 'ta', 'muito', 'quente', 'o', 'kernel_task', 'ocupa', 'a', 'cpu', 'de', 'forma', 'artificial', 'e', 'abaixa', 'a', 'frequencia', 'da', 'cpu', 'para', 'o', 'hardware', 'esfriar', 'amo', 'esse', 'wipe', 'para', 'eletronicos', 'com', 'um', 'eu', 'faco', 'o', 'switch', 'o', 'celular', 'e', 'o', 'macbook', 'e', 'fica', 'assim', 'o', '✨', 'mockup', 'de', 'macbook', 'pro', 'gratis', 'hoje', 'eu', 'lanco', 'um', 'mockup', 'simples', 'mas', 'bastante', 'desejado', 'um', 'mockup', 'gratuito', 'de', 'um', 'macbook', 'pro', 'com', 'tela', 'mutavel', 'e', 'cor', 'de', 'fundo', 'voce', 'pode', 'desligar', 'os', 'destaques', 'da', 'tela', 'ou', 'ate', 'mesmo', 'torna', 'los', 'mais', 'visiveis', 'https', 't', 'co', 'lnapqgrgof', 'nunocasteleira', 'alltoowellpt', 'sim', 'vai', 'sair', 'ainda', 'este', 'ano', 'possivelmente', 'no', 'macbook', 'air', 'os', 'pro', 'so', 'para', '2021', 'como', 'ativar', 'o', 'e', 'sim', 'no', 'seu', 'iphone', 'dual', 'chip', 'apple', 'sync', 'brasil™', 'https', 't', 'co', 'ol6u8a2dxp', 'retweet', 'no', 'post', 'para', 'mais', 'pessoas', 'terem', 'visibilidade', 'apple', 'ios', 'iphone', 'ipad', 'applewatch', 'macbook', 'homepod', 'ipadpro', 'applesyncbrasil', '🇧🇷', 'o', 'vendedor', 'cancelou', 'a', 'compra', 'do', 'macbook', 'o', 'dinheiro', 'ja', 'voltou', 'para', 'a', 'minha', 'conta', 'obrigado', 'para', 'quem', 'mandou', 'mensagens', 'para', 'mim', 'me', 'orientando', 'no', 'que', 'fazer', 'a', 'garota', 'tem', 'macbook', 'ipad', 'camera', 'fotografica', 'de', 'boa', 'qualidade', 'iphone', 'um', 'quarto', 'bonito', 'e', 'planejado', 'e', 'esta', 'no', 'prouni', 'de', 'medicina', 'com', 'a', 'cota', 'de', 'baixa', 'renda', 'olha', 'sinceramente', 'vai', 'se', 'foder', 'mexi', 'e', 'deu', 'pau', 'dnv', 'voltamos', 'a', 'estaca', '0', 'alguem', 'me', 'vende', 'um', 'carregador', 'de', 'macbook', 'pro', 'por', 'favor', 'selenawas', 'quer', 'ser', 'chique', 'e', 'nao', 'sabe', 'nem', 'mexer', 'num', 'macbook', 'eu', 'mexendo', 'em', 'um', 'macbook', 'https', 't', 'co', 'aczssljk27', 'eu', 'tenho', 'um', 'ranco', 'de', 'quem', 'fala', '“meu', 'iphone', 'meu', 'macbook”', 'vsf', 'e', 'um', 'celular', 'e', 'um', 'computador', 'eu', 'nao', 'consigo', 'confiar', 'em', 'instagram', 'de', 'estudo', 'em', 'que', 'a', 'pessoa', 'tem', 'um', 'macbook', 'me', 'desculpem', 'boa', 'noite', 'site', 'alguem', 'tem', 'um', 'carregador', 'de', 'macbook', 'pra', 'doar', 'kkk', 'n', 'teve', 'macbook', 'nem', 'iphone', 'novo', '🤡🤡🤡', 'to', 'aqui', 'naquela', 'situacao', 'que', 'o', 'cara', 'abriu', 'um', 'macbook', 'no', 'metro', 'vi', 'um', 'sorteio', 'no', 'instagram', 'q', 'um', 'dos', 'premios', 'e', 'um', 'macbook', 'pro', 'novinho', 'td', 'q', 'eu', 'preciso', 'tava', 'la', 'quanto', 'mais', 'vc', 'comentar', 'mais', 'chances', 'de', 'ganhar', 'fui', 'bloqueada', 'de', 'tanto', 'q', 'comentei', 'https', 't', 'co', 'yzualxtt6q', '1', 'minuto', 'de', 'silencio', 'pra', 'pretona', 'que', 'percebeu', 'que', 'nao', 'vai', 'mais', 'trabalhar', 'com', 'macbook', 'luto', '[dica]', 'como', 'fazer', 'backup', 'de', 'forma', 'correta', 'no', 'whatsapp', 'apple', 'sync', 'brasil™', 'https', 't', 'co', 'asob6htfrs', 'retweet', 'no', 'post', 'para', 'mais', 'pessoas', 'terem', 'visibilidade', 'apple', 'ios', 'iphone', 'ipad', 'applewatch', 'macbook', 'homepod', 'ipadpro', 'applesyncbrasil', '🇧🇷', 'fora', 'que', 'com', 'essa', 'distancia', 'eu', 'n', 'iria', 'enxergar', 'nada', 'do', 'que', 'esta', 'escrito', 'no', 'macbook', 'kkkkkk', 'gostei', 'vou', 'comprar', 'um', 'e', 'o', 'suporte', 'tb', 'ganhei', 'um', 'macbook', 'https', 't', 'co', 'ys6en6l64v', 'lembrando', 'do', 'dia', 'q', 'tive', 'q', 'fazer', 'uma', 'apresentacao', 'em', 'um', 'macbook', 'e', 'nunca', 'tinha', 'usado', 'um', 'kkkkkkjkjjk', 'rt', 'eubecx', 'raiva', 'eu', 'tenho', 'de', 'menina', 'de', 'studygram', 'que', 'tem', 'ipad', 'iphone', 'e', 'macbook', 'canetas', 'das', 'melhores', 'marcas', 'caderno', 'inteligente', 'e', 'afins', 'e', 'ele', 'demora', 'mais', 'um', 'pouquinho', 'olhando', 'fixamente', 'pra', 'tela', 'do', 'macbook', 'patrao', 'de', 'a', 'volta', 'e', 'venha', 'ver', 'como', 'ficou', 'isso', 'aqui', 'voce', 'ahn', 'esta', 'trabalhando', 'em', 'um', 'novo', 'projeto', 'ele', 'nao', 'responde', 'ate', 'voce', 'chegar', 'ao', 'lado', 'dele', '{', '}', 'zehzito', 'o', 'macbook', 'de', '5', 'nanometros', 'ja', 'ta', 'claro', 'que', 'vai', 'vir', 'em', 'marco', 'ainda', 'bem', 'que', 'nao', 'troquei', 'intel', 'vai', 'engolir', 'seca', 'miga', 'eu', 'nunca', 'vi', 'ninguem', 'mais', 'burgues', 'q', 'matheus', 'tem', 'nem', '1', 'mes', 'q', 'ele', 'pediu', 'um', 'notebook', 'novo', 'p', 'mae', 'dele', 'e', 'ganhou', 'um', 'macbook', 'pro', 'pqp', 'tododiabrigas', 'chamou', 'a', 'mamae', 'que', 'tirou', 'o', 'iphone', 'macbook', 'e', 'airpod', 'que', 'eles', 'ficam', 'de', 'boazinha', 'dores', 'de', 'parto', 'tabernaculo', 'branham', 'ao', 'vivo', 'irmao', 'joseph', 'branham', 'https', 't', 'co', 'ck9fvruzzw', 'macbook', 'whindersson', 'https', 't', 'co', 'uibetanmoa', 'gente', 'se', 'inscreve', 'nesse', 'link', 'vcs', 'pode', 'me', 'ajudar', 'a', 'ganhar', 'um', '1', 'de', 'conversacao', 'em', 'ingles', 'e', 'um', 'macbook', 'link', 'de', 'um', 'curso', '100', 'online', 'e', 'gratuito', 'ajudaaaaa', 'help', 'daeeee', 'to', 'vendendo', 'meu', 'mac', 'se', 'alguem', 'tiver', 'interesse', 'chama', 'na', 'dm', 'https', 't', 'co', 'xprwkascuy', 'https', 't', 'co', 'dfpuss5hua', 'sirfrederiq', 'a', 'dar', 'flex', 'com', 'macbook', '👌😼', 'macbook', 'air', 'intel', 'core', 'i5', '512gb', 'de', 'ssd', '8gb', 'de', 'ram', 'de', 'r', '13', '299', 'por', 'r', '9', '999', 'em', 'ate', '12x', 'https', 't', 'co', 'v77zwq4ooe', 'rt', 'iluminicho', 'primeiro', 'dia', 'de', 'trampo', 'e', 'o', 'pai', 'ja', 'ta', 'de', 'macbook', 'pro', 'https', 't', 'co', 'gdplzownxx', 'voce', 'quer', 'ter', 'a', 'oportunidade', 'de', 'ganhar', '1', 'iphone', 'pro', '📲', 'macbook', '💻', 'airpods', 'apple', 'watch', 'entao', 'corre', 'para', 'o', 'link', '⬇️', 'e', 'saiba', 'todas', 'as', 'orientacões', 'e', 'o', 'que', 'voce', 'deve', 'fazer', '🔗https', 't', 'co', 'hf0rckrt4u', '➡️', 'sorteio', 'acaba', 'dia', '25', '09', '😏', 'https', 't', 'co', 'kjcm0kga6q', 'rt', 'sandinossauro', 'imagina', 'ter', 'grana', 'pra', 'um', 'macbook', 'e', 'ter', 'que', 'usar', 'a', 'tabua', 'de', 'passar', 'como', 'escrivaninha', 'https', 't', 'co', 'enfhz3h77s', 'minimo', '17', 'e', 'o', 'maximo', 'uns', '45', 'pq', 'o', 'com', 'um', 'suggar', 'daddy', 'o', 'macbook', 'vem', 'https', 't', 'co', 'x8tcoyhalp', 'alo', 'anitta', 'esconde', 'o', 'macbook', 'antes', 'que', 'a', 'samsung', 've', 'https', 't', 'co', 'xelrht8ois', 'fodase', 'o', 'iphone', '12', 'sapoha', 'so', 'serve', 'pra', 'jogar', 'dinheiro', 'fora', 'ou', 'se', 'vc', 'tem', 'o', 'cel', 'da', 'apple', 'o', 'smartwatch', 'e', 'o', 'macbook', 'puts', 'eu', 'queria', 'ta', 'assim', 'com', 'meu', 'macbook', 'pro', '16', 'pol', 'https', 't', 'co', 'gcbaygcesf', 'thiago_cco', 'aqui', 'tem', 'coragem', 'querendo', 'comprar', 'macbook', 'em', 'plena', 'pandemia', 'hsaushuahuhsa', 'gente', 'vou', 'vender', 'meu', 'macbook', 'air', 'comservadissimo', 'comprado', 'em', '2017', 'e', 'utilizado', 'pouquissimas', 'vezes', '[dica]', 'seu', 'id', 'apple', 'conta', 'desativada', 'no', 'iphone', 'resolvido', 'apple', 'sync', 'brasil™', 'https', 't', 'co', 'snxhiypnoo', 'retweet', 'no', 'post', 'para', 'mais', 'pessoas', 'terem', 'visibilidade', 'apple', 'ios', 'iphone', 'ipad', 'applewatch', 'macbook', 'homepod', 'ipadpro', 'applesyncbrasil', '🇧🇷', 'pega', 'teu', 'macbook', 'e', 'enfia', 'no', 'cu', 'caralho', 'me', 'esquece', 'quanto', 'voce', 'cobraria', 'para', 'formatar', 'um', 'macbook', 'comprei', 'uma', 'capinha', 'protetora', 'de', 'teclado', 'do', 'notebook', 'e', 'vieram', 'duas', 'dentro', 'da', 'embalagem', 'mandei', 'mensagem', 'pro', 'vendedor', 'e', 'ele', 'mandou', 'ficar', 'se', 'alguem', 'se', 'interessar', 'por', 'uma', 'capa', 'de', 'teclado', 'macbook', 'air', '13', 'chama', 'eu', 'entao', 'gente', 'e', 'eu', 'que', 'esqueci', 'o', 'microfone', 'aberto', 'na', 'aula', 'on', 'line', 'e', 'disse', 'ele', 'tem', 'um', 'macbook', 'nagamatsu__', 'marinenorstrahl', 'lucasjtho', 'rapaz', 'vai', 'ifood', 'hein', 'uma', 'vez', 'usei', 'macbook', 'num', 'lugar', 'em', 'que', 'eu', 'fiz', 'estagio', 'e', 'fiquei', 'ate', 'com', 'medo', 'de', 'quebrar', 'alguma', 'coisa', 'mas', 'a', 'experiencia', 'foi', 'bacana', 'aparentemente', 'vai', 'dar', 'pra', 'atualizar', 'o', 'sistema', 'operacional', 'do', 'meu', 'macbook', 'air', ']', 'tinha', 'tentado', 'descobrir', 'varias', 'vezes', 'e', 'era', 'mo', 'cao', 'pra', 'baixar', 'ontem', 'fui', 'procurar', 'outra', 'vez', 'e', 'encontrei', 'facinho', 'o', 'link', 'de', 'download', 'no', 'site', 'da', 'apple', 'que', 'merda', 'eu', 'so', 'queria', 'um', 'macbook', 'mas', 'ele', 'nao', 'e', 'bom', 'pra', 'arquitetura', 'ufrj', 'da', 'bolsa', 'macbook', 'imac', 'pros', 'professores', 'e', 'vamos', 'de', 'atraso', 'do', 'metro', 'de', '1h', 'tem', 'nem', 'como', 'trabalhar', 'de', 'casa', 'ja', 'que', 'levei', 'o', 'macbook', 'ontem', 'pro', 'trabalho', 'lmjcc1', 'amiga', 'fala', 'pra', 'ela', 'se', 'lembrar', 'do', 'macbook', 'pra', 'ela', 'nao', 'esquecer', 'esse', 'bendito', 'eu', 'tenho', 'ctz', 'que', 'nesse', 'calor', 'o', 'macbook', 'vai', 'explodir', '_chrless', 'amigo', 'e', 'uma', 'virtual', 'box', 'que', 'simula', 'outro', 'pc', 'dentro', 'do', 'macbook', 'ai', 'eu', 'posso', 'jogar', 'uns', 'joguinhos', 'que', 'n', 'rodaria', 'no', 'mac', 'normalmente', '_pnobre_', 'hmendes', 'trocar', 'a', 'o', 'carro', 'pela', 'bicicleta', 'e', 'como', 'trocar', 'o', 'desktop', 'pastelao', 'e', 'ineficiente', 'pelo', 'novo', 'macbook', 'air', 'faz', 'a', 'mesma', 'coisa', 'provavelmente', 'mais', 'devagar', 'so', 'que', 'no', 'caso', 'da', 'bicicleta', 'ate', 'sai', 'mais', 'barato', 'leandrolyrarj', 'dispinibiliza', 'ipad', 'e', 'macbook', 'pra', 'galera', 'e', 'amplia', 'o', 'acesso', 'a', 'internet', 'muriloramosdc', 'tingracio', 'esse', 'e', 'pessoal', 'do', 'google', 'era', 'um', 'carbon', 'x1', 'e', 'agora', 'e', 'um', 'macbook', 'pro', 'ahirtonlopes', 'o', 'macbook', 'da', 'patroa', 'eu', 'fiz', 'downgrade', 'para', 'mac', 'os', 'mojave', 'nao', 'dava', 'de', 'usar', 'o', 'catalina', 'a', 'professora', 'de', 'programacao', 'e', 'rica', 'cadeira', 'chique', 'macbook', 'hoje', 'sonhando', 'mais', 'que', 'nunca', 'com', 'meu', 'amor', 'cada', 'um', 'com', 'um', 'macbook', 'trabalhando', 'em', 'nossa', 'casa', 'propria', 'e', 'falando', '“lembra', 'amor', 'quando', 'tinhamos', 'aquele', 'notebook', 'horrivel', 'que', 'ganhamos', 'do', 'governo', 'olha', 'onde', 'chegamos', '🥺”', 'like', 'se', 'vc', 'chorou', 'gente', 'da', 'pra', 'baixar', 'jogos', 'apps', 'crackeados', 'no', 'imac', 'macbook', 'https', 't', 'co', 'nlm3fltbzv', 'macbook', 'touchbar', 'velho', 'mais', 'caro', 'do', 'que', 'novo', 'lacrado', 'ou', '1000', 'conto', 'mais', 'barato', 'o', 'brasil', 'ta', 'surreal', 'rt', 'staylswift1989', 'eu', 'achando', 'que', 'a', 'laura', 'queria', 'um', 'macbook', 'mas', 'na', 'verdade', 'ela', 'queria', 'mcdonald’s', 'kkkk', 'telegram', 'como', 'criar', 'um', 'grupo', 'e', 'colocar', 'um', 'bot', 'para', 'gerenciamento', 'apple', 'sync', 'brasil™', 'https', 't', 'co', 'b0zmmcj2nc', 'retweet', 'no', 'post', 'para', 'mais', 'pessoas', 'terem', 'visibilidade', 'apple', 'ios', 'iphone', 'ipad', 'applewatch', 'macbook', 'homepod', 'ipadpro', 'applesyncbrasil', '🇧🇷', 'meu', 'deus', 'o', 'macbook', 'custa', 'o', 'valor', 'de', 'um', 'celta', 'cara', 'pqp', 'essa', 'botada', 'foi', 'foda', 'foi', 'fodaaaaaaa', 'ducatambasco', 'eu', 'sempre', 'compro', 'no', 'kabum', 'ou', 'no', 'mercado', 'livre', 'se', 'o', 'seu', 'note', 'nao', 'for', 'um', 'macbook', 'e', 'relativamente', 'facil', 'trocar', 'sozinho', 'olhem', 'so', 'espero', 'que', 'hoje', 'no', 'evento', 'da', 'apple', 'nao', 'estreie', 'nenhum', 'macbook', 'melhor', 'do', 'que', 'o', 'que', 'eu', 'comprei', 'porque', 'senao', 'vou', 'chorar', 'professora', 'nao', 'uso', 'nd', 'do', 'google', 'nd', 'de', 'grandes', 'corporacões', 'logo', 'apos', 'compartilha', 'a', 'tela', 'para', 'exibir', 'o', 'cronograma', 'do', 'curso', 'no', 'macbook', 'em', 'fim', 'a', 'hipocrisia', 'minha', 'meta', 'de', 'vida', 'e', 'ser', 'aquele', 'designer', 'rico', 'que', 'tem', 'macbook', 'ipad', 'ultima', 'geracao', 'e', 'o', 'ultimo', 'iphone', 'sentado', 'num', 'starbucks', 'pensando', 'na', 'proxima', 'colecao', 'pra', 'd', 'amp', 'g', 'preciso', 'de', 'uma', 'ajuda', 'pra', 'resetar', 'um', 'macbook', 'o', 'boy', 'me', 'falando', 'que', 'vai', 'ter', 'que', 'fazer', 'hora', 'extra', 'eu', 'ja', 'lancei', 'a', 'braba', 'pra', 'ele', 'fazer', 'isso', 'sempre', 'e', 'me', 'conquistar', 'dar', 'um', 'macbook', 'kkkkkkkkk', 'oh', 'do', 'nao', 'tenho', 'nem', 'coragem', 'de', 'aceitar', 'kkk', 'rolou', 'isso', 'mesmo', 'so', 'q', 'a', 'gente', 'deu', 'o', 'filho', 'pra', 'um', 'orfanato', 'pq', 'era', 'um', 'macbook', 'fizemo', 'outro', 'e', 'veio', 'um', 'pc', 'da', 'razer', 'tunado', '😎', 'https', 't', 'co', 'wddxlsbdxw', 'leeandrobarbosa', 'completamente', 'ele', 'funciona', '100', 'independente', 'de', 'smartphone', 'e', 'tem', 'compatibilidade', 'total', 'com', 'outros', 'produtos', 'da', 'apple', 'inclusive', 'da', 'pra', 'usar', 'de', 'segunda', 'tela', 'de', 'macbook', 'sem', 'necessidade', 'de', 'cabos', 'imluciano', 'ahh', 'entendi', 'meu', 'irmao', 'tem', 'um', 'sem', 'bordas', 'do', 'ano', 'passado', 'mas', 'eu', 'ainda', 'acho', 'macbook', 'melhor', 'q', 'ipad', 'mano', 'que', 'felicidade', 'ver', 'meu', 'macbook', 'vivo', 'obrigado', 'deus', 'https', 't', 'co', 'ahrx57ewxu', 'barbaralabres', 'pode', 'separa', 'o', 'macbook', 'que', 'ja', 'e', 'meuuu', 'noticias', 'news', 'promocões', 'blog', 'apple', 'iphone', 'ipad', 'macbook', 'asap', 'https', 't', 'co', '9aaxejq99d', 'alguem', 'sabe', 'onde', 'posso', 'vender', 'um', 'macbook', 'a', 'pecas', 'ela', 'compra', 'um', 'novo', 'macbook', 'pra', 'cada', 'termino', 'de', 'namoro', 'dai', 'mostrou', 'uma', 'penka', 'de', 'macbook', 'guardado', 'de', 'ex', 'relacionamentos', 'sofro', 'kkk', 'rt', 'madrini', 'to', 'vendendo', 'meu', 'macbook', 'air', '13', '2013', 'i7', '1', '7', '3', '3', 'turbo', '8gb', 'ram', '500', 'ssd', 'bateria', 'com', '633', 'ciclos', 'teclado', 'padrao', 'reino', 'unido', 'r', '4', 'essa', 'galera', 'que', 'quer', 'vender', 'macbook', '2010', '11', '12', 'por', '2k', 'ou', '3k', 'esta', 'de', 'brincadeira', 'hahahaha', 'pepinoemcoserva', 'thatfatdud3', 'amigo', 'meu', 'derrubou', 'vinho', 'num', 'macbook', 'retina', 'imagine', 'a', 'dor', 'o', 'bichinho', 'do', 'capitalismo', 'botou', 'na', 'minha', 'cabeca', 'agora', 'que', 'eu', 'quero', 'um', 'macbook', 'pro', '16”', 'vou', 'vender', 'meu', 'corpo', 'na', 'esquina', 'pra', 'conseguir', 'comprar', 'um', '😅🆘', 'fico', 'muito', 'abismada', 'quando', 'descubro', 'que', 'as', 'pessoas', 'tem', 'iphone', '11', 'e', 'macbook', 'na', 'vida', 'real', 'minha', 'sogra', 'comprou', 'um', 'macbook', 'de', 'mesa', 'pra', 'fazer', 'planilha', 'e', 'video', 'chamada', 'isso', 'mesmo', 'que', 'voce', 'leu', 'claudifih', 'nunca', 'tive', 'so', 'macbook', 'e', 'iphone', 'amo', 'muito', 'quem', 'sabe', 'quando', 'o', 'dolar', 'baixar', 'se', 'baixar', 'acouleee', 'pneutereza', 'lenda', 'q', 'ate', 'macbook', 'tem', 'e', 'minha', 'mae', 'q', 'ta', 'com', 'macbook', 'pra', 'ver', 'netflix', 'hahahhaha', 'amo', 'sepmadu', 'troca', 'por', 'um', 'macbook', 'mas', 'se', 'preferir', 'continuar', 'com', 'windows', 'troca', 'o', 'hd', 'por', 'um', 'ssd', 'melhora', 'bastante', 'eu', 'achando', 'que', 'a', 'laura', 'queria', 'um', 'macbook', 'mas', 'na', 'verdade', 'ela', 'queria', 'mcdonald’s', 'kkkk', 'https', 't', 'co', 'z1abdttvov', '_thiag0x', 'thatfatdud3', 'ehhh', 'vai', 'pagar', 'de', 'gatao', 'tocando', 'musica', 'no', 'macbook', 'pra', 'se', 'exibir', 'pra', 'gata', 'ahahha', 'se', 'fode', 'filhadapyta', 'naniechev', 'no', 'macbook', 'tem', 'a', 'teclinha', 'dele', 'tenta', 'alt', 'barra', 'invertida', 'queria', 'tanto', 'virar', 'desenvolvedor', 'ios', 'mas', 'nao', 'falta', 'vontade', 'falta', 'dinheiro', 'pra', 'comprar', 'um', 'macbook', 'o', '“todo', 'medico', 'vai', 'ser', 'rico”', 'cai', 'por', 'terra', 'quando', 'voce', 've', 'que', 'todo', 'professor', 'de', 'cirurgia', 'tem', 'um', 'macbook', 'com', 'todos', 'os', 'acessorios', 'e', 'os', 'de', 'clinica', 'tem', 'um', 'dell', 'fuleiro', 'um', 'conhecido', 'sugeriu', 'macbook', 'air', 'antigo', 'ai', 'olha', 'a', 'alucinacao', 'que', 'o', 'pessoal', 'quer', 'em', 'um', 'de', '2011', 'usado', 'https', 't', 'co', 'vxjolnf9wf', 'to', 'vendendo', 'meu', 'macbook', 'air', '13', '2013', 'i7', '1', '7', '3', '3', 'turbo', '8gb', 'ram', '500', 'ssd', 'bateria', 'com', '633', 'ciclos', 'teclado', 'padrao', 'reino', 'unido', 'r', '4', '200', 'vai', 'com', 'carregador', 'original', 'funcionando', 'porem', 'o', 'cabo', 'esta', 'levemente', 'comido', 'porto', 'alegre', 'perto', 'do', 'iguatemi', 'rts', 'pls', 'https', 't', 'co', '0vwr3e2s7x', 'fantastico', 'nem', 'se', 'preocupou', 'em', 'cobrir', 'a', 'maca', 'do', 'macbook', 'bom', 'dia', 'para', 'quem', 'sonhou', 'que', 'estava', 'comprando', 'um', 'macbook', 'pro', '🥰', 'a', 'tristeza', 'do', 'pobre', 'e', 'querer', 'um', 'apple', 'watch', 'e', 'um', 'macbook', 'dalemeupirraia', 'mas', 'tipo', 'mesmo', 'a', 'galera', 'mais', 'privilegiada', 'nao', 'costuma', 'usar', 'o', 'ipad', 'aqui', 'no', 'br', 'preferem', 'ter', 'o', 'macbook', 'e', 'carregar', 'pra', 'todo', 'lugar', 'do', 'que', 'ter', 'o', 'proprio', 'ipad', 'e', 'estranho', 'isso', 'toma', 'aqui', 'esse', 'desconto', 'de', '3', '500', 'num', 'macbook', 'de', '20', '000', '🥰🥰', 'to', 'necessitada', 'de', 'um', 'notebook', 'vou', 'comprar', 'um', 'usado', 'de', 'ate', 'uns', '400', 'que', 'eh', 'o', 'que', 'infelizmente', 'da', 'no', 'meu', 'orcamento', 'quando', 'eu', 'ficar', 'rica', 'vou', 'ser', 'que', 'nem', 'meu', 'pai', 'ter', 'um', 'macbook', '💻', '😭', 'inclusive', 'alguem', 'vendendo', 'um', 'primeiro', 'dia', 'de', 'trampo', 'e', 'o', 'pai', 'ja', 'ta', 'de', 'macbook', 'pro', 'https', 't', 'co', 'gdplzownxx', 'alltoowellpt', 'so', 'em', 'outubro', 'filho', 'havera', 'um', 'evento', 'para', 'iphone', '12', 'macbook', 'com', 'processador', 'a14x', 'e', 'nova', 'appletv', 'com', 'a14', 'tambem', 'pq', 'q', 'deus', 'nao', 'me', 'fez', 'rica', 'pra', 'comprar', 'um', 'macbook', 'pelo', 'airplay', 'para', 'quem', 'tiver', 'macbook', 'ou', 'utilizar', 'o', 'app', 'transmitir', 'tela', 'para', 'tv', 'https', 't', 'co', 'jiuwjlfosx', 'desculpem', 'o', 'transtorno', '🙏', 'so', 'porque', 'a', 'bonita', 'tem', 'um', 'macbook', 'acha', 'que', 'pode', 'ficar', 'mandando', 'virus', 'pro', 'meu', 'samsung', 'abri', 'o', 'macbook', 'limpei', 'o', 'po', 'superficial', 'soprei', 'as', 'ventoinha', 'amanha', 'vou', 'abrir', 'denovo', 'e', 'usar', 'ar', 'comprimido', 'que', 'eu', 'comprei', 'hoje', 'mas', 'enfim', 'o', 'problema', 'parou', 'doideira', 'rt', 'maxqmerda', 'nao', 'podem', 'cancelar', 'o', 'ano', 'letivo', 'eu', 'estou', 'conseguindo', 'estudar', 'perfeitamente', 'à', 'distancia', 'com', 'o', 'meu', 'iphone', '11', 'meu', 'macbook', 'e', 'apple', 'ontem', 'às', '18', '33', 'fiz', 'uma', 'copia', 'de', 'seguranca', 'para', 'o', 'meu', 'macbook', 'air', 'de', '2013', 'e', 'restaurei', 'o', 'telemovel', '[iphone', 'xr]', 'o', 'telemovel', 'do', 'm', 'pai', 'nao', 'era', 'reconhecido', 'pelo', 'm', 'mac', 'apos', 'ontem', 'nem', 'dormirmos', 'bem', 'tendo', 'em', 'conta', 'o', 'enorme', 'valor', 'do', 'telemovel', 'do', 'm', 'pai', 'ryanbala_22', 'lkkkkkkkkkkk', 'nao', 'e', 'ele', 'tadinho', 'e', 'pelo', 'um', 'macbook', 'thuanmota', 'to', 'na', 'msm', 'meu', 'amigo', 'desktop', 'ou', 'laptop', 'gamer', '7k', '8k', 'opa', 'macbook', 'pro', 'e', 'quase', 'o', 'msm', 'preco', 'hein', 'devo', 'investir', 'em', 'uma', 'moto', 'em', 'forma', 'de', 'laptop', 'talvez', 'ta', 'foda', 'stormsbae', 'macbook', 'keksksksks', 'mano', 'quem', 'que', 'da', 'um', 'macbook', 'de', 'presente', 'de', '4', 'meses', 'pra', 'alguem', 'viado', 'queria', 'ter', 'o', 'tanto', 'de', 'dinheiro', 'que', 'esse', 'menino', 'tem', 'porra', 'kevynp_', 'dai', 'vc', 'compra', 'o', 'macbook', 'e', 'nao', 'tem', 'coragem', 'de', 'colar', 'os', 'adesivos', 'aquele', 'macbook', 'arm', 'vai', 'ser', 'tao', 'sensacional', 'que', 'o', 'patterson', 'vai', 'ter', 'que', 'atualizar', 'o', 'livro', 'dele', 'promisebak', 'isaffonti', 'rpz', 'se', 'eu', 'nao', 'macbook', 'e', 'tipo', 'um', 'notebook', 'so', 'q', 'menor', 'sla', 'diogoexmachina', 'acho', 'que', 'por', 'enquanto', 'vou', 'manter', 'o', 'meu', 'iphone', 'x', 'so', 'precisava', 'mesmo', 'de', 'atualizar', 'o', 'macbook', 'comprei', 'o', 'pro', 'de', '13”', 'deste', 'ano', 'e', 'o', 'apple', 'watch', 'que', 'esta', 'sofrivel', 'bota', 'doomed', 'nisso', 'pre', 'requisito', 'pra', 'cursar', 'medicina', 'eh', 'ter', 'um', 'macbook', 'eh', '📢', 'sorteio', 'no', 'ig', 'da', 'barbaralabres', '➡️', '1', 'iphone', '11', 'pro', 'macbook', 'airpods', 'apple', 'watch', '•', 'para', 'participar', 'basta', 'seguir', 'grupoangelafariaaf', 'no', 'intagram', 'e', 'comentar', 'muito', 'na', 'foto', 'do', 'sorteio', 'no', 'instagram', 'barbara', 'labres', '🚀', 'resultado', 'dia', '25', '09', 'no', 'ig', 'resultadosorteioaf', 'https', 't', 'co', '1el8zy7zwr']\n"
     ]
    }
   ],
   "source": [
    "total_palavras = len(abs_total)\n",
    "total_relevante = len(abs_relevante)\n",
    "total_irrelevante = len(abs_irrelevante)\n",
    "\n",
    "print(lista_total)\n",
    "print(\"___________________________________________\") #Divisão para melhor visualização dos dados\n",
    "print(\"___________________________________________\") #Divisão para melhor visualização dos dados\n",
    "print(\"___________________________________________\") #Divisão para melhor visualização dos dados\n",
    "print(lista_r)\n",
    "print(\"___________________________________________\") #Divisão para melhor visualização dos dados\n",
    "print(\"___________________________________________\") #Divisão para melhor visualização dos dados\n",
    "print(\"___________________________________________\") #Divisão para melhor visualização dos dados\n",
    "print(lista_i)"
   ]
  },
  {
   "cell_type": "markdown",
   "metadata": {},
   "source": [
    "___\n",
    "### Verificando a performance do Classificador\n",
    "\n",
    "Agora você deve testar o seu classificador com a base de Testes."
   ]
  },
  {
   "cell_type": "code",
   "execution_count": 75,
   "metadata": {
    "scrolled": false
   },
   "outputs": [
    {
     "data": {
      "text/html": [
       "<div>\n",
       "<style scoped>\n",
       "    .dataframe tbody tr th:only-of-type {\n",
       "        vertical-align: middle;\n",
       "    }\n",
       "\n",
       "    .dataframe tbody tr th {\n",
       "        vertical-align: top;\n",
       "    }\n",
       "\n",
       "    .dataframe thead th {\n",
       "        text-align: right;\n",
       "    }\n",
       "</style>\n",
       "<table border=\"1\" class=\"dataframe\">\n",
       "  <thead>\n",
       "    <tr style=\"text-align: right;\">\n",
       "      <th></th>\n",
       "      <th>Teste</th>\n",
       "      <th>Relevância (0 - irrelevante ; 1- relevante)</th>\n",
       "      <th>Classificação Computador</th>\n",
       "    </tr>\n",
       "  </thead>\n",
       "  <tbody>\n",
       "    <tr>\n",
       "      <th>0</th>\n",
       "      <td>@eduardo_ocastro comprei um macbook 2012 a 6 a...</td>\n",
       "      <td>1</td>\n",
       "      <td>Irrelevante</td>\n",
       "    </tr>\n",
       "    <tr>\n",
       "      <th>1</th>\n",
       "      <td>serei cara de pau e vou pedir pros meus tios e...</td>\n",
       "      <td>1</td>\n",
       "      <td>Relevante</td>\n",
       "    </tr>\n",
       "    <tr>\n",
       "      <th>2</th>\n",
       "      <td>pensando aqui o macbook do chan parece uma bom...</td>\n",
       "      <td>1</td>\n",
       "      <td>Irrelevante</td>\n",
       "    </tr>\n",
       "    <tr>\n",
       "      <th>3</th>\n",
       "      <td>@djnicolepeixoto pega um macbook pro 2012, bot...</td>\n",
       "      <td>1</td>\n",
       "      <td>Irrelevante</td>\n",
       "    </tr>\n",
       "    <tr>\n",
       "      <th>4</th>\n",
       "      <td>iphone 12, novo applewatch, ipad e macbook 🤩🤩🤩...</td>\n",
       "      <td>1</td>\n",
       "      <td>Irrelevante</td>\n",
       "    </tr>\n",
       "    <tr>\n",
       "      <th>...</th>\n",
       "      <td>...</td>\n",
       "      <td>...</td>\n",
       "      <td>...</td>\n",
       "    </tr>\n",
       "    <tr>\n",
       "      <th>261</th>\n",
       "      <td>✨me da um macbook e eu assisto todas as aulas ...</td>\n",
       "      <td>0</td>\n",
       "      <td>Relevante</td>\n",
       "    </tr>\n",
       "    <tr>\n",
       "      <th>262</th>\n",
       "      <td>é surreal que o preço do &amp;gt;&amp;gt;&amp;gt;iphone&amp;lt...</td>\n",
       "      <td>0</td>\n",
       "      <td>Irrelevante</td>\n",
       "    </tr>\n",
       "    <tr>\n",
       "      <th>263</th>\n",
       "      <td>@homocionado compra um macbook pro</td>\n",
       "      <td>0</td>\n",
       "      <td>Irrelevante</td>\n",
       "    </tr>\n",
       "    <tr>\n",
       "      <th>264</th>\n",
       "      <td>cara, o que eu mais sinto falta do macbook é o...</td>\n",
       "      <td>1</td>\n",
       "      <td>Irrelevante</td>\n",
       "    </tr>\n",
       "    <tr>\n",
       "      <th>265</th>\n",
       "      <td>nossa a mina deu um macbook pro pro namorado d...</td>\n",
       "      <td>0</td>\n",
       "      <td>Irrelevante</td>\n",
       "    </tr>\n",
       "  </tbody>\n",
       "</table>\n",
       "<p>266 rows × 3 columns</p>\n",
       "</div>"
      ],
      "text/plain": [
       "                                                 Teste  \\\n",
       "0    @eduardo_ocastro comprei um macbook 2012 a 6 a...   \n",
       "1    serei cara de pau e vou pedir pros meus tios e...   \n",
       "2    pensando aqui o macbook do chan parece uma bom...   \n",
       "3    @djnicolepeixoto pega um macbook pro 2012, bot...   \n",
       "4    iphone 12, novo applewatch, ipad e macbook 🤩🤩🤩...   \n",
       "..                                                 ...   \n",
       "261  ✨me da um macbook e eu assisto todas as aulas ...   \n",
       "262  é surreal que o preço do &gt;&gt;&gt;iphone&lt...   \n",
       "263                 @homocionado compra um macbook pro   \n",
       "264  cara, o que eu mais sinto falta do macbook é o...   \n",
       "265  nossa a mina deu um macbook pro pro namorado d...   \n",
       "\n",
       "     Relevância (0 - irrelevante ; 1- relevante)  Classificação Computador  \n",
       "0                                               1              Irrelevante  \n",
       "1                                               1                Relevante  \n",
       "2                                               1              Irrelevante  \n",
       "3                                               1              Irrelevante  \n",
       "4                                               1              Irrelevante  \n",
       "..                                            ...                      ...  \n",
       "261                                             0                Relevante  \n",
       "262                                             0              Irrelevante  \n",
       "263                                             0              Irrelevante  \n",
       "264                                             1              Irrelevante  \n",
       "265                                             0              Irrelevante  \n",
       "\n",
       "[266 rows x 3 columns]"
      ]
     },
     "execution_count": 75,
     "metadata": {},
     "output_type": "execute_result"
    }
   ],
   "source": [
    "# Listas que irão armazenar os valores das probabilidades dos tweets serem relevantes ou irrelevantes\n",
    "probabilidade_I = []\n",
    "probabilidade_R = []\n",
    "\n",
    "# Lista que irá armazenar a classificação do tweet\n",
    "classificacao = []\n",
    "\n",
    "for tweet in test['Teste']: # Percorrendo os tweets da planilha teste\n",
    "    tweet_limpo = cleanup(tweet) # Limpeza do tweet\n",
    "    lista_tweet = tweet_limpo.split() # Transformando o tweet em uma lista de palavras\n",
    "    # Criação das variáveis que receberam os valores das probabilidades\n",
    "    prob_irr = 1\n",
    "    prob_rel = 1\n",
    "    for i in lista_tweet: # Percorrendo cada elemento da lista de palavras\n",
    "        # Checa se a palavra está nas tabelas de frequências absolutas (tanto relevante quanto irrelevante)\n",
    "        if i in abs_relevante:\n",
    "            prob_rel *= ((abs_relevante[i] + 1)/(total_palavras + total_relevante))\n",
    "        if i not in abs_relevante: # Caso não estiver, o valor de abs_relevante[i] = 0\n",
    "            prob_rel *= ((1)/(total_palavras + total_relevante))\n",
    "        if i in abs_irrelevante:     \n",
    "            prob_irr *= ((abs_irrelevante[i] + 1)/(total_palavras + total_irrelevante))\n",
    "        if i not in abs_irrelevante: # Caso não estiver, o valor de abs_irrelevante[i] = 0\n",
    "            prob_irr *= ((1)/(total_palavras + total_irrelevante))\n",
    "            \n",
    "    # Adicionando as probabilidades calculadas nas listas\n",
    "    probabilidade_I.append(prob_irr)\n",
    "    probabilidade_R.append(prob_rel)\n",
    "\n",
    "for i in range(0, len(probabilidade_I)):\n",
    "    #Analisando se a probabilidade do tweet ser irrelevante é maior do que a probabilidade de ser relevante\n",
    "    if probabilidade_I[i] > probabilidade_R[i]:\n",
    "        classificacao.append(\"Irrelevante\") # Atribuindo a classificação 'Irrelevante' ao tweet\n",
    "    else:\n",
    "        classificacao.append(\"Relevante\") # Atribuindo a classificação 'Relevante' ao tweet\n",
    "\n",
    "test['Classificação Computador'] = classificacao #Adicionar uma coluna ao DataFrame teste\n",
    "test"
   ]
  },
  {
   "cell_type": "markdown",
   "metadata": {},
   "source": [
    "#### Tabela de referência cruzada"
   ]
  },
  {
   "cell_type": "code",
   "execution_count": 76,
   "metadata": {},
   "outputs": [
    {
     "data": {
      "text/html": [
       "<div>\n",
       "<style scoped>\n",
       "    .dataframe tbody tr th:only-of-type {\n",
       "        vertical-align: middle;\n",
       "    }\n",
       "\n",
       "    .dataframe tbody tr th {\n",
       "        vertical-align: top;\n",
       "    }\n",
       "\n",
       "    .dataframe thead th {\n",
       "        text-align: right;\n",
       "    }\n",
       "</style>\n",
       "<table border=\"1\" class=\"dataframe\">\n",
       "  <thead>\n",
       "    <tr style=\"text-align: right;\">\n",
       "      <th>Classificação Computador</th>\n",
       "      <th>Irrelevante</th>\n",
       "      <th>Relevante</th>\n",
       "    </tr>\n",
       "    <tr>\n",
       "      <th>Relevância (0 - irrelevante ; 1- relevante)</th>\n",
       "      <th></th>\n",
       "      <th></th>\n",
       "    </tr>\n",
       "  </thead>\n",
       "  <tbody>\n",
       "    <tr>\n",
       "      <th>0</th>\n",
       "      <td>68.28</td>\n",
       "      <td>61.25</td>\n",
       "    </tr>\n",
       "    <tr>\n",
       "      <th>1</th>\n",
       "      <td>31.72</td>\n",
       "      <td>38.75</td>\n",
       "    </tr>\n",
       "  </tbody>\n",
       "</table>\n",
       "</div>"
      ],
      "text/plain": [
       "Classificação Computador                      Irrelevante  Relevante\n",
       "Relevância (0 - irrelevante ; 1- relevante)                         \n",
       "0                                                   68.28      61.25\n",
       "1                                                   31.72      38.75"
      ]
     },
     "execution_count": 76,
     "metadata": {},
     "output_type": "execute_result"
    }
   ],
   "source": [
    "pd.crosstab(test['Relevância (0 - irrelevante ; 1- relevante) '],test['Classificação Computador'],normalize='columns').round(4)*100"
   ]
  },
  {
   "cell_type": "markdown",
   "metadata": {},
   "source": [
    "#### Interpretação da tabela acima:\n",
    "Considerando Relevante como positivo\n",
    "- Falsos Positivos = 61,25%\n",
    "- Falsos Negativos = 31,72% \n",
    "- Positivos Verdadeiros = 38,75% \n",
    "- Falsos Verdadeiros = 68,28%"
   ]
  },
  {
   "cell_type": "markdown",
   "metadata": {},
   "source": [
    "___\n",
    "### Concluindo"
   ]
  },
  {
   "cell_type": "markdown",
   "metadata": {},
   "source": [
    "É possível concluir que o classificador desenvolvido pelo método de Naive-Bayes tem uma precisão razoável já que a porcentagem dos falsos verdadeiros é relativamente alta. Apesar disso, para melhorar os resultados seria necessário uma base de dados mais extensa a fim de analisar uma maior quantidade e variedade de tweets. Além disso, é importante ressaltar que a classificação manual dos tweets é subjetiva, uma vez que cada integrante do projeto analisou uma planilha.\n",
    "\n",
    "Ademais, o sentido das mensagens com dupla negação e sarcasmo não são corretamente interpretados pelo computador, o que leva a uma classificação errônea do tweet. \n",
    "\n",
    "Além disso, é necessário afirmar que não é possível utilizar a planilha de treinamento como parâmetro ao classificador  de novos tweets uma vez que esse foi treinado a partir de seus dados.\n",
    "\n",
    "Por fim, o classificador pelo método de Naive-Bayes pode ser uma ferramenta útil para seguimentos do marketing (sentimento dos usuários em redes sociais), identificação de spam em e-mails, modelagens preditivas, entre outros."
   ]
  },
  {
   "cell_type": "markdown",
   "metadata": {},
   "source": [
    "### Aprimorando os resultados"
   ]
  },
  {
   "cell_type": "markdown",
   "metadata": {},
   "source": [
    "A fim de obter uma maior acurácia seria possível:"
   ]
  },
  {
   "cell_type": "markdown",
   "metadata": {},
   "source": [
    "1. Aperfeiçoar a função de limpeza dos tweets, adicionando mais símbolos (como <>, [], {}) , agrupando abreviações e seus significados.\n",
    "2. Utilizando funções que atribuem aos emojis significados, sendo possível interpretá-los.\n",
    "3. Adicionando mais categorias às classificações, como \"Muito Relevante\", \"Neutro\", \"Muito Irrelevante\".\n",
    "4. Remoção de palavras neutras que não interferem o classificador, como por exemplo 'de', 'com', 'as', 'e'.\n",
    "5. Agrupando palavras derivadas (como 'computar', 'computador' e 'computação') de forma a contabilizar como uma única palavra.\n",
    "\n",
    "Links de referência das funções citadas nos itens 1 e 2:\n",
    "\n",
    "https://towardsdatascience.com/text-preprocessing-for-data-scientist-3d2419c8199d\n",
    "\n",
    "https://advertools.readthedocs.io/en/master/advertools.emoji.html\n",
    "\n",
    "Links referente à sugestão citadas no item 5:\n",
    "\n",
    "https://www.datacamp.com/community/tutorials/stemming-lemmatization-python"
   ]
  },
  {
   "cell_type": "markdown",
   "metadata": {},
   "source": [
    "___\n",
    "## Aperfeiçoamento:\n",
    "\n",
    "Os trabalhos vão evoluir em conceito dependendo da quantidade de itens avançados:\n",
    "\n",
    "* Limpar: \\n, :, \", ', (, ), etc SEM remover emojis\n",
    "* Corrigir separação de espaços entre palavras e emojis ou entre emojis e emojis\n",
    "* Propor outras limpezas e transformações que não afetem a qualidade da informação ou classificação\n",
    "* Criar categorias intermediárias de relevância baseadas na probabilidade: ex.: muito relevante, relevante, neutro, irrelevante, muito irrelevante (3 categorias: C, mais categorias conta para B)\n",
    "* Explicar por que não posso usar o próprio classificador para gerar mais amostras de treinamento\n",
    "* Propor diferentes cenários para Naïve Bayes fora do contexto do projeto\n",
    "* Sugerir e explicar melhorias reais com indicações concretas de como implementar (indicar como fazer e indicar material de pesquisa)\n",
    "* Montar um dashboard que realiza análise de sentimento e visualiza estes dados"
   ]
  },
  {
   "cell_type": "markdown",
   "metadata": {},
   "source": [
    "___\n",
    "## Referências"
   ]
  },
  {
   "cell_type": "markdown",
   "metadata": {},
   "source": [
    "[Naive Bayes and Text Classification](https://arxiv.org/pdf/1410.5329.pdf)  **Mais completo**\n",
    "\n",
    "[A practical explanation of a Naive Bayes Classifier](https://monkeylearn.com/blog/practical-explanation-naive-bayes-classifier/) **Mais simples**"
   ]
  }
 ],
 "metadata": {
  "kernelspec": {
   "display_name": "Python 3",
   "language": "python",
   "name": "python3"
  },
  "language_info": {
   "codemirror_mode": {
    "name": "ipython",
    "version": 3
   },
   "file_extension": ".py",
   "mimetype": "text/x-python",
   "name": "python",
   "nbconvert_exporter": "python",
   "pygments_lexer": "ipython3",
   "version": "3.8.3"
  }
 },
 "nbformat": 4,
 "nbformat_minor": 4
}
